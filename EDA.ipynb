{
 "cells": [
  {
   "cell_type": "code",
   "execution_count": 6,
   "metadata": {},
   "outputs": [],
   "source": [
    "from sklearn import decomposition"
   ]
  },
  {
   "cell_type": "code",
   "execution_count": 1,
   "metadata": {},
   "outputs": [],
   "source": [
    "import numpy\n",
    "import pandas\n",
    "import matplotlib.pyplot as plot\n",
    "import seaborn"
   ]
  },
  {
   "cell_type": "code",
   "execution_count": 2,
   "metadata": {},
   "outputs": [],
   "source": [
    "data = pandas.read_csv('train.csv')"
   ]
  },
  {
   "cell_type": "code",
   "execution_count": 3,
   "metadata": {},
   "outputs": [
    {
     "data": {
      "text/html": [
       "<div>\n",
       "<style scoped>\n",
       "    .dataframe tbody tr th:only-of-type {\n",
       "        vertical-align: middle;\n",
       "    }\n",
       "\n",
       "    .dataframe tbody tr th {\n",
       "        vertical-align: top;\n",
       "    }\n",
       "\n",
       "    .dataframe thead th {\n",
       "        text-align: right;\n",
       "    }\n",
       "</style>\n",
       "<table border=\"1\" class=\"dataframe\">\n",
       "  <thead>\n",
       "    <tr style=\"text-align: right;\">\n",
       "      <th></th>\n",
       "      <th>id</th>\n",
       "      <th>age</th>\n",
       "      <th>sex</th>\n",
       "      <th>chest_pain</th>\n",
       "      <th>resting_bp</th>\n",
       "      <th>cholestoral</th>\n",
       "      <th>high_sugar</th>\n",
       "      <th>ecg</th>\n",
       "      <th>max_rate</th>\n",
       "      <th>exercise_angina</th>\n",
       "      <th>st_depression</th>\n",
       "      <th>slope</th>\n",
       "      <th>vessels</th>\n",
       "      <th>thalium_scan</th>\n",
       "      <th>heart_disease</th>\n",
       "    </tr>\n",
       "  </thead>\n",
       "  <tbody>\n",
       "    <tr>\n",
       "      <th>0</th>\n",
       "      <td>1</td>\n",
       "      <td>63</td>\n",
       "      <td>1</td>\n",
       "      <td>1</td>\n",
       "      <td>145</td>\n",
       "      <td>233</td>\n",
       "      <td>1</td>\n",
       "      <td>2</td>\n",
       "      <td>150</td>\n",
       "      <td>0</td>\n",
       "      <td>2.3</td>\n",
       "      <td>3</td>\n",
       "      <td>0.0</td>\n",
       "      <td>6.0</td>\n",
       "      <td>0</td>\n",
       "    </tr>\n",
       "    <tr>\n",
       "      <th>1</th>\n",
       "      <td>2</td>\n",
       "      <td>67</td>\n",
       "      <td>1</td>\n",
       "      <td>4</td>\n",
       "      <td>160</td>\n",
       "      <td>286</td>\n",
       "      <td>0</td>\n",
       "      <td>2</td>\n",
       "      <td>108</td>\n",
       "      <td>1</td>\n",
       "      <td>1.5</td>\n",
       "      <td>2</td>\n",
       "      <td>3.0</td>\n",
       "      <td>3.0</td>\n",
       "      <td>1</td>\n",
       "    </tr>\n",
       "    <tr>\n",
       "      <th>2</th>\n",
       "      <td>3</td>\n",
       "      <td>67</td>\n",
       "      <td>1</td>\n",
       "      <td>4</td>\n",
       "      <td>120</td>\n",
       "      <td>229</td>\n",
       "      <td>0</td>\n",
       "      <td>2</td>\n",
       "      <td>129</td>\n",
       "      <td>1</td>\n",
       "      <td>2.6</td>\n",
       "      <td>2</td>\n",
       "      <td>2.0</td>\n",
       "      <td>7.0</td>\n",
       "      <td>1</td>\n",
       "    </tr>\n",
       "    <tr>\n",
       "      <th>3</th>\n",
       "      <td>5</td>\n",
       "      <td>41</td>\n",
       "      <td>0</td>\n",
       "      <td>2</td>\n",
       "      <td>130</td>\n",
       "      <td>204</td>\n",
       "      <td>0</td>\n",
       "      <td>2</td>\n",
       "      <td>172</td>\n",
       "      <td>0</td>\n",
       "      <td>1.4</td>\n",
       "      <td>1</td>\n",
       "      <td>0.0</td>\n",
       "      <td>3.0</td>\n",
       "      <td>0</td>\n",
       "    </tr>\n",
       "    <tr>\n",
       "      <th>4</th>\n",
       "      <td>6</td>\n",
       "      <td>56</td>\n",
       "      <td>1</td>\n",
       "      <td>2</td>\n",
       "      <td>120</td>\n",
       "      <td>236</td>\n",
       "      <td>0</td>\n",
       "      <td>0</td>\n",
       "      <td>178</td>\n",
       "      <td>0</td>\n",
       "      <td>0.8</td>\n",
       "      <td>1</td>\n",
       "      <td>0.0</td>\n",
       "      <td>3.0</td>\n",
       "      <td>0</td>\n",
       "    </tr>\n",
       "    <tr>\n",
       "      <th>...</th>\n",
       "      <td>...</td>\n",
       "      <td>...</td>\n",
       "      <td>...</td>\n",
       "      <td>...</td>\n",
       "      <td>...</td>\n",
       "      <td>...</td>\n",
       "      <td>...</td>\n",
       "      <td>...</td>\n",
       "      <td>...</td>\n",
       "      <td>...</td>\n",
       "      <td>...</td>\n",
       "      <td>...</td>\n",
       "      <td>...</td>\n",
       "      <td>...</td>\n",
       "      <td>...</td>\n",
       "    </tr>\n",
       "    <tr>\n",
       "      <th>223</th>\n",
       "      <td>296</td>\n",
       "      <td>41</td>\n",
       "      <td>1</td>\n",
       "      <td>2</td>\n",
       "      <td>120</td>\n",
       "      <td>157</td>\n",
       "      <td>0</td>\n",
       "      <td>0</td>\n",
       "      <td>182</td>\n",
       "      <td>0</td>\n",
       "      <td>0.0</td>\n",
       "      <td>1</td>\n",
       "      <td>0.0</td>\n",
       "      <td>3.0</td>\n",
       "      <td>0</td>\n",
       "    </tr>\n",
       "    <tr>\n",
       "      <th>224</th>\n",
       "      <td>297</td>\n",
       "      <td>59</td>\n",
       "      <td>1</td>\n",
       "      <td>4</td>\n",
       "      <td>164</td>\n",
       "      <td>176</td>\n",
       "      <td>1</td>\n",
       "      <td>2</td>\n",
       "      <td>90</td>\n",
       "      <td>0</td>\n",
       "      <td>1.0</td>\n",
       "      <td>2</td>\n",
       "      <td>2.0</td>\n",
       "      <td>6.0</td>\n",
       "      <td>1</td>\n",
       "    </tr>\n",
       "    <tr>\n",
       "      <th>225</th>\n",
       "      <td>298</td>\n",
       "      <td>57</td>\n",
       "      <td>0</td>\n",
       "      <td>4</td>\n",
       "      <td>140</td>\n",
       "      <td>241</td>\n",
       "      <td>0</td>\n",
       "      <td>0</td>\n",
       "      <td>123</td>\n",
       "      <td>1</td>\n",
       "      <td>0.2</td>\n",
       "      <td>2</td>\n",
       "      <td>0.0</td>\n",
       "      <td>7.0</td>\n",
       "      <td>1</td>\n",
       "    </tr>\n",
       "    <tr>\n",
       "      <th>226</th>\n",
       "      <td>301</td>\n",
       "      <td>57</td>\n",
       "      <td>1</td>\n",
       "      <td>4</td>\n",
       "      <td>130</td>\n",
       "      <td>131</td>\n",
       "      <td>0</td>\n",
       "      <td>0</td>\n",
       "      <td>115</td>\n",
       "      <td>1</td>\n",
       "      <td>1.2</td>\n",
       "      <td>2</td>\n",
       "      <td>1.0</td>\n",
       "      <td>7.0</td>\n",
       "      <td>1</td>\n",
       "    </tr>\n",
       "    <tr>\n",
       "      <th>227</th>\n",
       "      <td>303</td>\n",
       "      <td>38</td>\n",
       "      <td>1</td>\n",
       "      <td>3</td>\n",
       "      <td>138</td>\n",
       "      <td>175</td>\n",
       "      <td>0</td>\n",
       "      <td>0</td>\n",
       "      <td>173</td>\n",
       "      <td>0</td>\n",
       "      <td>0.0</td>\n",
       "      <td>1</td>\n",
       "      <td>NaN</td>\n",
       "      <td>3.0</td>\n",
       "      <td>0</td>\n",
       "    </tr>\n",
       "  </tbody>\n",
       "</table>\n",
       "<p>228 rows × 15 columns</p>\n",
       "</div>"
      ],
      "text/plain": [
       "      id  age  sex  chest_pain  resting_bp  cholestoral  high_sugar  ecg  \\\n",
       "0      1   63    1           1         145          233           1    2   \n",
       "1      2   67    1           4         160          286           0    2   \n",
       "2      3   67    1           4         120          229           0    2   \n",
       "3      5   41    0           2         130          204           0    2   \n",
       "4      6   56    1           2         120          236           0    0   \n",
       "..   ...  ...  ...         ...         ...          ...         ...  ...   \n",
       "223  296   41    1           2         120          157           0    0   \n",
       "224  297   59    1           4         164          176           1    2   \n",
       "225  298   57    0           4         140          241           0    0   \n",
       "226  301   57    1           4         130          131           0    0   \n",
       "227  303   38    1           3         138          175           0    0   \n",
       "\n",
       "     max_rate  exercise_angina  st_depression  slope  vessels  thalium_scan  \\\n",
       "0         150                0            2.3      3      0.0           6.0   \n",
       "1         108                1            1.5      2      3.0           3.0   \n",
       "2         129                1            2.6      2      2.0           7.0   \n",
       "3         172                0            1.4      1      0.0           3.0   \n",
       "4         178                0            0.8      1      0.0           3.0   \n",
       "..        ...              ...            ...    ...      ...           ...   \n",
       "223       182                0            0.0      1      0.0           3.0   \n",
       "224        90                0            1.0      2      2.0           6.0   \n",
       "225       123                1            0.2      2      0.0           7.0   \n",
       "226       115                1            1.2      2      1.0           7.0   \n",
       "227       173                0            0.0      1      NaN           3.0   \n",
       "\n",
       "     heart_disease  \n",
       "0                0  \n",
       "1                1  \n",
       "2                1  \n",
       "3                0  \n",
       "4                0  \n",
       "..             ...  \n",
       "223              0  \n",
       "224              1  \n",
       "225              1  \n",
       "226              1  \n",
       "227              0  \n",
       "\n",
       "[228 rows x 15 columns]"
      ]
     },
     "execution_count": 3,
     "metadata": {},
     "output_type": "execute_result"
    }
   ],
   "source": [
    "data"
   ]
  },
  {
   "cell_type": "code",
   "execution_count": 4,
   "metadata": {},
   "outputs": [
    {
     "data": {
      "text/html": [
       "<div>\n",
       "<style scoped>\n",
       "    .dataframe tbody tr th:only-of-type {\n",
       "        vertical-align: middle;\n",
       "    }\n",
       "\n",
       "    .dataframe tbody tr th {\n",
       "        vertical-align: top;\n",
       "    }\n",
       "\n",
       "    .dataframe thead th {\n",
       "        text-align: right;\n",
       "    }\n",
       "</style>\n",
       "<table border=\"1\" class=\"dataframe\">\n",
       "  <thead>\n",
       "    <tr style=\"text-align: right;\">\n",
       "      <th></th>\n",
       "      <th>id</th>\n",
       "      <th>age</th>\n",
       "      <th>sex</th>\n",
       "      <th>chest_pain</th>\n",
       "      <th>resting_bp</th>\n",
       "      <th>cholestoral</th>\n",
       "      <th>high_sugar</th>\n",
       "      <th>ecg</th>\n",
       "      <th>max_rate</th>\n",
       "      <th>exercise_angina</th>\n",
       "      <th>st_depression</th>\n",
       "      <th>slope</th>\n",
       "      <th>vessels</th>\n",
       "      <th>thalium_scan</th>\n",
       "      <th>heart_disease</th>\n",
       "    </tr>\n",
       "  </thead>\n",
       "  <tbody>\n",
       "    <tr>\n",
       "      <th>count</th>\n",
       "      <td>228.000000</td>\n",
       "      <td>228.000000</td>\n",
       "      <td>228.000000</td>\n",
       "      <td>228.000000</td>\n",
       "      <td>228.000000</td>\n",
       "      <td>228.000000</td>\n",
       "      <td>228.000000</td>\n",
       "      <td>228.000000</td>\n",
       "      <td>228.000000</td>\n",
       "      <td>228.000000</td>\n",
       "      <td>228.000000</td>\n",
       "      <td>228.000000</td>\n",
       "      <td>224.000000</td>\n",
       "      <td>226.000000</td>\n",
       "      <td>228.000000</td>\n",
       "    </tr>\n",
       "    <tr>\n",
       "      <th>mean</th>\n",
       "      <td>153.600877</td>\n",
       "      <td>54.368421</td>\n",
       "      <td>0.697368</td>\n",
       "      <td>3.157895</td>\n",
       "      <td>131.982456</td>\n",
       "      <td>248.337719</td>\n",
       "      <td>0.140351</td>\n",
       "      <td>1.026316</td>\n",
       "      <td>148.675439</td>\n",
       "      <td>0.324561</td>\n",
       "      <td>1.010526</td>\n",
       "      <td>1.596491</td>\n",
       "      <td>0.683036</td>\n",
       "      <td>4.809735</td>\n",
       "      <td>0.473684</td>\n",
       "    </tr>\n",
       "    <tr>\n",
       "      <th>std</th>\n",
       "      <td>85.501492</td>\n",
       "      <td>9.003928</td>\n",
       "      <td>0.460408</td>\n",
       "      <td>0.967115</td>\n",
       "      <td>17.827852</td>\n",
       "      <td>49.388909</td>\n",
       "      <td>0.348115</td>\n",
       "      <td>0.993020</td>\n",
       "      <td>23.969693</td>\n",
       "      <td>0.469241</td>\n",
       "      <td>1.146215</td>\n",
       "      <td>0.604233</td>\n",
       "      <td>0.962283</td>\n",
       "      <td>1.944586</td>\n",
       "      <td>0.500406</td>\n",
       "    </tr>\n",
       "    <tr>\n",
       "      <th>min</th>\n",
       "      <td>1.000000</td>\n",
       "      <td>29.000000</td>\n",
       "      <td>0.000000</td>\n",
       "      <td>1.000000</td>\n",
       "      <td>94.000000</td>\n",
       "      <td>126.000000</td>\n",
       "      <td>0.000000</td>\n",
       "      <td>0.000000</td>\n",
       "      <td>71.000000</td>\n",
       "      <td>0.000000</td>\n",
       "      <td>0.000000</td>\n",
       "      <td>1.000000</td>\n",
       "      <td>0.000000</td>\n",
       "      <td>3.000000</td>\n",
       "      <td>0.000000</td>\n",
       "    </tr>\n",
       "    <tr>\n",
       "      <th>25%</th>\n",
       "      <td>81.500000</td>\n",
       "      <td>48.000000</td>\n",
       "      <td>0.000000</td>\n",
       "      <td>3.000000</td>\n",
       "      <td>120.000000</td>\n",
       "      <td>212.750000</td>\n",
       "      <td>0.000000</td>\n",
       "      <td>0.000000</td>\n",
       "      <td>131.000000</td>\n",
       "      <td>0.000000</td>\n",
       "      <td>0.000000</td>\n",
       "      <td>1.000000</td>\n",
       "      <td>0.000000</td>\n",
       "      <td>3.000000</td>\n",
       "      <td>0.000000</td>\n",
       "    </tr>\n",
       "    <tr>\n",
       "      <th>50%</th>\n",
       "      <td>155.500000</td>\n",
       "      <td>55.000000</td>\n",
       "      <td>1.000000</td>\n",
       "      <td>3.000000</td>\n",
       "      <td>130.000000</td>\n",
       "      <td>244.000000</td>\n",
       "      <td>0.000000</td>\n",
       "      <td>2.000000</td>\n",
       "      <td>152.000000</td>\n",
       "      <td>0.000000</td>\n",
       "      <td>0.800000</td>\n",
       "      <td>2.000000</td>\n",
       "      <td>0.000000</td>\n",
       "      <td>3.000000</td>\n",
       "      <td>0.000000</td>\n",
       "    </tr>\n",
       "    <tr>\n",
       "      <th>75%</th>\n",
       "      <td>226.250000</td>\n",
       "      <td>60.250000</td>\n",
       "      <td>1.000000</td>\n",
       "      <td>4.000000</td>\n",
       "      <td>140.000000</td>\n",
       "      <td>276.250000</td>\n",
       "      <td>0.000000</td>\n",
       "      <td>2.000000</td>\n",
       "      <td>167.250000</td>\n",
       "      <td>1.000000</td>\n",
       "      <td>1.600000</td>\n",
       "      <td>2.000000</td>\n",
       "      <td>1.000000</td>\n",
       "      <td>7.000000</td>\n",
       "      <td>1.000000</td>\n",
       "    </tr>\n",
       "    <tr>\n",
       "      <th>max</th>\n",
       "      <td>303.000000</td>\n",
       "      <td>77.000000</td>\n",
       "      <td>1.000000</td>\n",
       "      <td>4.000000</td>\n",
       "      <td>192.000000</td>\n",
       "      <td>417.000000</td>\n",
       "      <td>1.000000</td>\n",
       "      <td>2.000000</td>\n",
       "      <td>202.000000</td>\n",
       "      <td>1.000000</td>\n",
       "      <td>6.200000</td>\n",
       "      <td>3.000000</td>\n",
       "      <td>3.000000</td>\n",
       "      <td>7.000000</td>\n",
       "      <td>1.000000</td>\n",
       "    </tr>\n",
       "  </tbody>\n",
       "</table>\n",
       "</div>"
      ],
      "text/plain": [
       "               id         age         sex  chest_pain  resting_bp  \\\n",
       "count  228.000000  228.000000  228.000000  228.000000  228.000000   \n",
       "mean   153.600877   54.368421    0.697368    3.157895  131.982456   \n",
       "std     85.501492    9.003928    0.460408    0.967115   17.827852   \n",
       "min      1.000000   29.000000    0.000000    1.000000   94.000000   \n",
       "25%     81.500000   48.000000    0.000000    3.000000  120.000000   \n",
       "50%    155.500000   55.000000    1.000000    3.000000  130.000000   \n",
       "75%    226.250000   60.250000    1.000000    4.000000  140.000000   \n",
       "max    303.000000   77.000000    1.000000    4.000000  192.000000   \n",
       "\n",
       "       cholestoral  high_sugar         ecg    max_rate  exercise_angina  \\\n",
       "count   228.000000  228.000000  228.000000  228.000000       228.000000   \n",
       "mean    248.337719    0.140351    1.026316  148.675439         0.324561   \n",
       "std      49.388909    0.348115    0.993020   23.969693         0.469241   \n",
       "min     126.000000    0.000000    0.000000   71.000000         0.000000   \n",
       "25%     212.750000    0.000000    0.000000  131.000000         0.000000   \n",
       "50%     244.000000    0.000000    2.000000  152.000000         0.000000   \n",
       "75%     276.250000    0.000000    2.000000  167.250000         1.000000   \n",
       "max     417.000000    1.000000    2.000000  202.000000         1.000000   \n",
       "\n",
       "       st_depression       slope     vessels  thalium_scan  heart_disease  \n",
       "count     228.000000  228.000000  224.000000    226.000000     228.000000  \n",
       "mean        1.010526    1.596491    0.683036      4.809735       0.473684  \n",
       "std         1.146215    0.604233    0.962283      1.944586       0.500406  \n",
       "min         0.000000    1.000000    0.000000      3.000000       0.000000  \n",
       "25%         0.000000    1.000000    0.000000      3.000000       0.000000  \n",
       "50%         0.800000    2.000000    0.000000      3.000000       0.000000  \n",
       "75%         1.600000    2.000000    1.000000      7.000000       1.000000  \n",
       "max         6.200000    3.000000    3.000000      7.000000       1.000000  "
      ]
     },
     "execution_count": 4,
     "metadata": {},
     "output_type": "execute_result"
    }
   ],
   "source": [
    "data.describe()"
   ]
  },
  {
   "cell_type": "markdown",
   "metadata": {},
   "source": [
    "## 年齡\n",
    "\n",
    "* 1 -> 童年至少年（0~17歲）\n",
    "* 2 -> 青年（18~40歲）\n",
    "* 3 -> 中年（41至65歲）\n",
    "* 4 -> 老年（65歲以上）"
   ]
  },
  {
   "cell_type": "code",
   "execution_count": 5,
   "metadata": {},
   "outputs": [],
   "source": [
    "raw_age = data['age']"
   ]
  },
  {
   "cell_type": "code",
   "execution_count": 6,
   "metadata": {},
   "outputs": [],
   "source": [
    "bins = [0, 17, 40, 65, raw_age.max()]\n",
    "age_interval_with_label = pandas.DataFrame(pandas.cut(raw_age, bins).to_list(), columns=['age_interval_with_label'])\n",
    "age_interval_without_label = pandas.DataFrame(numpy.add(pandas.cut(raw_age, bins, labels=False).to_list(), 1).tolist(), columns=['age_interval_without_label'])"
   ]
  },
  {
   "cell_type": "code",
   "execution_count": 7,
   "metadata": {},
   "outputs": [],
   "source": [
    "age = pandas.DataFrame(raw_age)"
   ]
  },
  {
   "cell_type": "code",
   "execution_count": 8,
   "metadata": {},
   "outputs": [
    {
     "data": {
      "text/plain": [
       "<matplotlib.axes._subplots.AxesSubplot at 0x7ff6e05c04e0>"
      ]
     },
     "execution_count": 8,
     "metadata": {},
     "output_type": "execute_result"
    },
    {
     "data": {
      "image/png": "[encoded data removed]",
      "text/plain": [
       "<Figure size 432x288 with 1 Axes>"
      ]
     },
     "metadata": {
      "needs_background": "light"
     },
     "output_type": "display_data"
    }
   ],
   "source": [
    "pandas.DataFrame(age_interval_with_label.groupby('age_interval_with_label').size(), columns=['count']).plot.bar()"
   ]
  },
  {
   "cell_type": "code",
   "execution_count": 9,
   "metadata": {},
   "outputs": [
    {
     "data": {
      "text/plain": [
       "<matplotlib.axes._subplots.AxesSubplot at 0x7ff6de50d128>"
      ]
     },
     "execution_count": 9,
     "metadata": {},
     "output_type": "execute_result"
    },
    {
     "data": {
      "image/png": "[encoded data removed]",
      "text/plain": [
       "<Figure size 432x288 with 1 Axes>"
      ]
     },
     "metadata": {
      "needs_background": "light"
     },
     "output_type": "display_data"
    }
   ],
   "source": [
    "pandas.DataFrame(raw_age).plot.box()"
   ]
  },
  {
   "cell_type": "markdown",
   "metadata": {},
   "source": [
    "## 性別"
   ]
  },
  {
   "cell_type": "code",
   "execution_count": 12,
   "metadata": {},
   "outputs": [],
   "source": [
    "raw_sex = data['sex']\n",
    "sex = pandas.DataFrame(raw_sex)"
   ]
  },
  {
   "cell_type": "code",
   "execution_count": 13,
   "metadata": {},
   "outputs": [
    {
     "data": {
      "text/plain": [
       "<matplotlib.axes._subplots.AxesSubplot at 0x7ff6ddf25588>"
      ]
     },
     "execution_count": 13,
     "metadata": {},
     "output_type": "execute_result"
    },
    {
     "data": {
      "image/png": "[encoded data removed]",
      "text/plain": [
       "<Figure size 432x288 with 1 Axes>"
      ]
     },
     "metadata": {
      "needs_background": "light"
     },
     "output_type": "display_data"
    }
   ],
   "source": [
    "pandas.DataFrame(sex.groupby('sex').size(), columns=['count']).plot.bar()"
   ]
  },
  {
   "cell_type": "markdown",
   "metadata": {},
   "source": [
    "## 心絞痛\n",
    "\n",
    "* 1 -> 典型心絞痛\n",
    "* 2 -> 非典型心絞痛\n",
    "* 3 -> 非心絞痛\n",
    "* 4 -> 無症狀"
   ]
  },
  {
   "cell_type": "code",
   "execution_count": 14,
   "metadata": {},
   "outputs": [
    {
     "data": {
      "text/plain": [
       "<matplotlib.axes._subplots.AxesSubplot at 0x7ff6dde92c88>"
      ]
     },
     "execution_count": 14,
     "metadata": {},
     "output_type": "execute_result"
    },
    {
     "data": {
      "image/png": "[encoded data removed]",
      "text/plain": [
       "<Figure size 432x288 with 1 Axes>"
      ]
     },
     "metadata": {
      "needs_background": "light"
     },
     "output_type": "display_data"
    }
   ],
   "source": [
    "data.groupby('chest_pain').size().plot.bar()"
   ]
  },
  {
   "cell_type": "markdown",
   "metadata": {},
   "source": [
    "## 收縮壓\n",
    "* 1 -> 小於120，屬正常血壓\n",
    "* 2 -> 介於120~139，正常但偏高（可能為前期高血壓）\n",
    "* 3 -> 大於等於140，高血壓"
   ]
  },
  {
   "cell_type": "code",
   "execution_count": 15,
   "metadata": {},
   "outputs": [],
   "source": [
    "bins = [0, 120, 139, data['resting_bp'].max()]\n",
    "resting_bp_interval_with_label = pandas.DataFrame(pandas.cut(data['resting_bp'], bins).to_list(), columns=['resting_bp_interval_with_label'])\n",
    "resting_bp_interval_without_label = pandas.DataFrame(numpy.add(pandas.cut(data['resting_bp'], bins, labels=False).to_list(), 1).tolist(), columns=['resting_bp_interval_without_label'])"
   ]
  },
  {
   "cell_type": "code",
   "execution_count": 16,
   "metadata": {},
   "outputs": [
    {
     "data": {
      "text/plain": [
       "<matplotlib.axes._subplots.AxesSubplot at 0x7ff6dde759e8>"
      ]
     },
     "execution_count": 16,
     "metadata": {},
     "output_type": "execute_result"
    },
    {
     "data": {
      "image/png": "[encoded data removed]",
      "text/plain": [
       "<Figure size 432x288 with 1 Axes>"
      ]
     },
     "metadata": {
      "needs_background": "light"
     },
     "output_type": "display_data"
    }
   ],
   "source": [
    "resting_bp_interval_with_label.groupby('resting_bp_interval_with_label').size().plot.bar()"
   ]
  },
  {
   "cell_type": "code",
   "execution_count": 17,
   "metadata": {},
   "outputs": [
    {
     "data": {
      "text/plain": [
       "<matplotlib.axes._subplots.AxesSubplot at 0x7ff6ddde10f0>"
      ]
     },
     "execution_count": 17,
     "metadata": {},
     "output_type": "execute_result"
    },
    {
     "data": {
      "image/png": "[encoded data removed]",
      "text/plain": [
       "<Figure size 432x288 with 1 Axes>"
      ]
     },
     "metadata": {
      "needs_background": "light"
     },
     "output_type": "display_data"
    }
   ],
   "source": [
    "pandas.DataFrame(data['resting_bp']).plot.box()"
   ]
  },
  {
   "cell_type": "markdown",
   "metadata": {},
   "source": [
    "## 總膽固醇\n",
    "\n",
    "* 1 -> 小於130\n",
    "* 2 -> 最佳值130~200\n",
    "* 3 -> 200~239略高\n",
    "* 4 -> 240以上，心臟疾病大幅提升"
   ]
  },
  {
   "cell_type": "code",
   "execution_count": 18,
   "metadata": {},
   "outputs": [],
   "source": [
    "bins = [0, 129, 200, 239, data['cholestoral'].max()]\n",
    "cholestoral_interval_with_label = pandas.DataFrame(pandas.cut(data['cholestoral'], bins).to_list(), columns=['cholestoral_interval_with_label'])\n",
    "cholestoral_interval_without_label = pandas.DataFrame(numpy.add(pandas.cut(data['cholestoral'], bins, labels=False).to_list(), 1).tolist(), columns=['cholestoral_interval_without_label'])"
   ]
  },
  {
   "cell_type": "code",
   "execution_count": 19,
   "metadata": {},
   "outputs": [
    {
     "data": {
      "text/plain": [
       "<matplotlib.axes._subplots.AxesSubplot at 0x7ff6dddb7fd0>"
      ]
     },
     "execution_count": 19,
     "metadata": {},
     "output_type": "execute_result"
    },
    {
     "data": {
      "image/png": "[encoded data removed]",
      "text/plain": [
       "<Figure size 432x288 with 1 Axes>"
      ]
     },
     "metadata": {
      "needs_background": "light"
     },
     "output_type": "display_data"
    }
   ],
   "source": [
    "cholestoral_interval_with_label.groupby('cholestoral_interval_with_label').size().plot.bar()"
   ]
  },
  {
   "cell_type": "code",
   "execution_count": 20,
   "metadata": {},
   "outputs": [
    {
     "data": {
      "text/plain": [
       "<matplotlib.axes._subplots.AxesSubplot at 0x7ff6ddd16908>"
      ]
     },
     "execution_count": 20,
     "metadata": {},
     "output_type": "execute_result"
    },
    {
     "data": {
      "image/png": "[encoded data removed]",
      "text/plain": [
       "<Figure size 432x288 with 1 Axes>"
      ]
     },
     "metadata": {
      "needs_background": "light"
     },
     "output_type": "display_data"
    }
   ],
   "source": [
    "pandas.DataFrame(data['cholestoral']).plot.box()"
   ]
  },
  {
   "cell_type": "markdown",
   "metadata": {},
   "source": [
    "## 整理已篩選的欄位資料"
   ]
  },
  {
   "cell_type": "code",
   "execution_count": 21,
   "metadata": {},
   "outputs": [],
   "source": [
    "totalData = pandas.concat([data, age_interval_without_label, age_interval_with_label, resting_bp_interval_without_label, resting_bp_interval_with_label, cholestoral_interval_without_label, cholestoral_interval_with_label], axis=1)"
   ]
  },
  {
   "cell_type": "code",
   "execution_count": 22,
   "metadata": {},
   "outputs": [],
   "source": [
    "filtered_data = totalData[['id', 'age', 'age_interval_without_label', 'age_interval_with_label', 'sex', 'chest_pain', 'resting_bp', 'resting_bp_interval_without_label', 'resting_bp_interval_with_label', 'cholestoral', 'cholestoral_interval_without_label', 'cholestoral_interval_with_label', 'heart_disease']]"
   ]
  },
  {
   "cell_type": "code",
   "execution_count": 23,
   "metadata": {},
   "outputs": [
    {
     "data": {
      "text/html": [
       "<div>\n",
       "<style scoped>\n",
       "    .dataframe tbody tr th:only-of-type {\n",
       "        vertical-align: middle;\n",
       "    }\n",
       "\n",
       "    .dataframe tbody tr th {\n",
       "        vertical-align: top;\n",
       "    }\n",
       "\n",
       "    .dataframe thead th {\n",
       "        text-align: right;\n",
       "    }\n",
       "</style>\n",
       "<table border=\"1\" class=\"dataframe\">\n",
       "  <thead>\n",
       "    <tr style=\"text-align: right;\">\n",
       "      <th></th>\n",
       "      <th>id</th>\n",
       "      <th>age</th>\n",
       "      <th>age_interval_without_label</th>\n",
       "      <th>age_interval_with_label</th>\n",
       "      <th>sex</th>\n",
       "      <th>chest_pain</th>\n",
       "      <th>resting_bp</th>\n",
       "      <th>resting_bp_interval_without_label</th>\n",
       "      <th>resting_bp_interval_with_label</th>\n",
       "      <th>cholestoral</th>\n",
       "      <th>cholestoral_interval_without_label</th>\n",
       "      <th>cholestoral_interval_with_label</th>\n",
       "      <th>heart_disease</th>\n",
       "    </tr>\n",
       "  </thead>\n",
       "  <tbody>\n",
       "    <tr>\n",
       "      <th>0</th>\n",
       "      <td>1</td>\n",
       "      <td>63</td>\n",
       "      <td>3</td>\n",
       "      <td>(40, 65]</td>\n",
       "      <td>1</td>\n",
       "      <td>1</td>\n",
       "      <td>145</td>\n",
       "      <td>3</td>\n",
       "      <td>(139, 192]</td>\n",
       "      <td>233</td>\n",
       "      <td>3</td>\n",
       "      <td>(200, 239]</td>\n",
       "      <td>0</td>\n",
       "    </tr>\n",
       "    <tr>\n",
       "      <th>1</th>\n",
       "      <td>2</td>\n",
       "      <td>67</td>\n",
       "      <td>4</td>\n",
       "      <td>(65, 77]</td>\n",
       "      <td>1</td>\n",
       "      <td>4</td>\n",
       "      <td>160</td>\n",
       "      <td>3</td>\n",
       "      <td>(139, 192]</td>\n",
       "      <td>286</td>\n",
       "      <td>4</td>\n",
       "      <td>(239, 417]</td>\n",
       "      <td>1</td>\n",
       "    </tr>\n",
       "    <tr>\n",
       "      <th>2</th>\n",
       "      <td>3</td>\n",
       "      <td>67</td>\n",
       "      <td>4</td>\n",
       "      <td>(65, 77]</td>\n",
       "      <td>1</td>\n",
       "      <td>4</td>\n",
       "      <td>120</td>\n",
       "      <td>1</td>\n",
       "      <td>(0, 120]</td>\n",
       "      <td>229</td>\n",
       "      <td>3</td>\n",
       "      <td>(200, 239]</td>\n",
       "      <td>1</td>\n",
       "    </tr>\n",
       "    <tr>\n",
       "      <th>3</th>\n",
       "      <td>5</td>\n",
       "      <td>41</td>\n",
       "      <td>3</td>\n",
       "      <td>(40, 65]</td>\n",
       "      <td>0</td>\n",
       "      <td>2</td>\n",
       "      <td>130</td>\n",
       "      <td>2</td>\n",
       "      <td>(120, 139]</td>\n",
       "      <td>204</td>\n",
       "      <td>3</td>\n",
       "      <td>(200, 239]</td>\n",
       "      <td>0</td>\n",
       "    </tr>\n",
       "    <tr>\n",
       "      <th>4</th>\n",
       "      <td>6</td>\n",
       "      <td>56</td>\n",
       "      <td>3</td>\n",
       "      <td>(40, 65]</td>\n",
       "      <td>1</td>\n",
       "      <td>2</td>\n",
       "      <td>120</td>\n",
       "      <td>1</td>\n",
       "      <td>(0, 120]</td>\n",
       "      <td>236</td>\n",
       "      <td>3</td>\n",
       "      <td>(200, 239]</td>\n",
       "      <td>0</td>\n",
       "    </tr>\n",
       "    <tr>\n",
       "      <th>...</th>\n",
       "      <td>...</td>\n",
       "      <td>...</td>\n",
       "      <td>...</td>\n",
       "      <td>...</td>\n",
       "      <td>...</td>\n",
       "      <td>...</td>\n",
       "      <td>...</td>\n",
       "      <td>...</td>\n",
       "      <td>...</td>\n",
       "      <td>...</td>\n",
       "      <td>...</td>\n",
       "      <td>...</td>\n",
       "      <td>...</td>\n",
       "    </tr>\n",
       "    <tr>\n",
       "      <th>223</th>\n",
       "      <td>296</td>\n",
       "      <td>41</td>\n",
       "      <td>3</td>\n",
       "      <td>(40, 65]</td>\n",
       "      <td>1</td>\n",
       "      <td>2</td>\n",
       "      <td>120</td>\n",
       "      <td>1</td>\n",
       "      <td>(0, 120]</td>\n",
       "      <td>157</td>\n",
       "      <td>2</td>\n",
       "      <td>(129, 200]</td>\n",
       "      <td>0</td>\n",
       "    </tr>\n",
       "    <tr>\n",
       "      <th>224</th>\n",
       "      <td>297</td>\n",
       "      <td>59</td>\n",
       "      <td>3</td>\n",
       "      <td>(40, 65]</td>\n",
       "      <td>1</td>\n",
       "      <td>4</td>\n",
       "      <td>164</td>\n",
       "      <td>3</td>\n",
       "      <td>(139, 192]</td>\n",
       "      <td>176</td>\n",
       "      <td>2</td>\n",
       "      <td>(129, 200]</td>\n",
       "      <td>1</td>\n",
       "    </tr>\n",
       "    <tr>\n",
       "      <th>225</th>\n",
       "      <td>298</td>\n",
       "      <td>57</td>\n",
       "      <td>3</td>\n",
       "      <td>(40, 65]</td>\n",
       "      <td>0</td>\n",
       "      <td>4</td>\n",
       "      <td>140</td>\n",
       "      <td>3</td>\n",
       "      <td>(139, 192]</td>\n",
       "      <td>241</td>\n",
       "      <td>4</td>\n",
       "      <td>(239, 417]</td>\n",
       "      <td>1</td>\n",
       "    </tr>\n",
       "    <tr>\n",
       "      <th>226</th>\n",
       "      <td>301</td>\n",
       "      <td>57</td>\n",
       "      <td>3</td>\n",
       "      <td>(40, 65]</td>\n",
       "      <td>1</td>\n",
       "      <td>4</td>\n",
       "      <td>130</td>\n",
       "      <td>2</td>\n",
       "      <td>(120, 139]</td>\n",
       "      <td>131</td>\n",
       "      <td>2</td>\n",
       "      <td>(129, 200]</td>\n",
       "      <td>1</td>\n",
       "    </tr>\n",
       "    <tr>\n",
       "      <th>227</th>\n",
       "      <td>303</td>\n",
       "      <td>38</td>\n",
       "      <td>2</td>\n",
       "      <td>(17, 40]</td>\n",
       "      <td>1</td>\n",
       "      <td>3</td>\n",
       "      <td>138</td>\n",
       "      <td>2</td>\n",
       "      <td>(120, 139]</td>\n",
       "      <td>175</td>\n",
       "      <td>2</td>\n",
       "      <td>(129, 200]</td>\n",
       "      <td>0</td>\n",
       "    </tr>\n",
       "  </tbody>\n",
       "</table>\n",
       "<p>228 rows × 13 columns</p>\n",
       "</div>"
      ],
      "text/plain": [
       "      id  age  age_interval_without_label age_interval_with_label  sex  \\\n",
       "0      1   63                           3                (40, 65]    1   \n",
       "1      2   67                           4                (65, 77]    1   \n",
       "2      3   67                           4                (65, 77]    1   \n",
       "3      5   41                           3                (40, 65]    0   \n",
       "4      6   56                           3                (40, 65]    1   \n",
       "..   ...  ...                         ...                     ...  ...   \n",
       "223  296   41                           3                (40, 65]    1   \n",
       "224  297   59                           3                (40, 65]    1   \n",
       "225  298   57                           3                (40, 65]    0   \n",
       "226  301   57                           3                (40, 65]    1   \n",
       "227  303   38                           2                (17, 40]    1   \n",
       "\n",
       "     chest_pain  resting_bp  resting_bp_interval_without_label  \\\n",
       "0             1         145                                  3   \n",
       "1             4         160                                  3   \n",
       "2             4         120                                  1   \n",
       "3             2         130                                  2   \n",
       "4             2         120                                  1   \n",
       "..          ...         ...                                ...   \n",
       "223           2         120                                  1   \n",
       "224           4         164                                  3   \n",
       "225           4         140                                  3   \n",
       "226           4         130                                  2   \n",
       "227           3         138                                  2   \n",
       "\n",
       "    resting_bp_interval_with_label  cholestoral  \\\n",
       "0                       (139, 192]          233   \n",
       "1                       (139, 192]          286   \n",
       "2                         (0, 120]          229   \n",
       "3                       (120, 139]          204   \n",
       "4                         (0, 120]          236   \n",
       "..                             ...          ...   \n",
       "223                       (0, 120]          157   \n",
       "224                     (139, 192]          176   \n",
       "225                     (139, 192]          241   \n",
       "226                     (120, 139]          131   \n",
       "227                     (120, 139]          175   \n",
       "\n",
       "     cholestoral_interval_without_label cholestoral_interval_with_label  \\\n",
       "0                                     3                      (200, 239]   \n",
       "1                                     4                      (239, 417]   \n",
       "2                                     3                      (200, 239]   \n",
       "3                                     3                      (200, 239]   \n",
       "4                                     3                      (200, 239]   \n",
       "..                                  ...                             ...   \n",
       "223                                   2                      (129, 200]   \n",
       "224                                   2                      (129, 200]   \n",
       "225                                   4                      (239, 417]   \n",
       "226                                   2                      (129, 200]   \n",
       "227                                   2                      (129, 200]   \n",
       "\n",
       "     heart_disease  \n",
       "0                0  \n",
       "1                1  \n",
       "2                1  \n",
       "3                0  \n",
       "4                0  \n",
       "..             ...  \n",
       "223              0  \n",
       "224              1  \n",
       "225              1  \n",
       "226              1  \n",
       "227              0  \n",
       "\n",
       "[228 rows x 13 columns]"
      ]
     },
     "execution_count": 23,
     "metadata": {},
     "output_type": "execute_result"
    }
   ],
   "source": [
    "filtered_data"
   ]
  },
  {
   "cell_type": "code",
   "execution_count": 27,
   "metadata": {},
   "outputs": [],
   "source": [
    "filtered_data.to_csv('EDA.csv', index=0)"
   ]
  },
  {
   "cell_type": "code",
   "execution_count": 25,
   "metadata": {},
   "outputs": [
    {
     "data": {
      "text/html": [
       "<div>\n",
       "<style scoped>\n",
       "    .dataframe tbody tr th:only-of-type {\n",
       "        vertical-align: middle;\n",
       "    }\n",
       "\n",
       "    .dataframe tbody tr th {\n",
       "        vertical-align: top;\n",
       "    }\n",
       "\n",
       "    .dataframe thead th {\n",
       "        text-align: right;\n",
       "    }\n",
       "</style>\n",
       "<table border=\"1\" class=\"dataframe\">\n",
       "  <thead>\n",
       "    <tr style=\"text-align: right;\">\n",
       "      <th></th>\n",
       "      <th>age</th>\n",
       "      <th>sex</th>\n",
       "      <th>chest_pain</th>\n",
       "      <th>resting_bp</th>\n",
       "      <th>cholestoral</th>\n",
       "      <th>heart_disease</th>\n",
       "    </tr>\n",
       "  </thead>\n",
       "  <tbody>\n",
       "    <tr>\n",
       "      <th>age</th>\n",
       "      <td>1.000000</td>\n",
       "      <td>-0.141951</td>\n",
       "      <td>0.088905</td>\n",
       "      <td>0.258780</td>\n",
       "      <td>0.216043</td>\n",
       "      <td>0.198686</td>\n",
       "    </tr>\n",
       "    <tr>\n",
       "      <th>sex</th>\n",
       "      <td>-0.141951</td>\n",
       "      <td>1.000000</td>\n",
       "      <td>-0.020829</td>\n",
       "      <td>-0.051100</td>\n",
       "      <td>-0.228545</td>\n",
       "      <td>0.261655</td>\n",
       "    </tr>\n",
       "    <tr>\n",
       "      <th>chest_pain</th>\n",
       "      <td>0.088905</td>\n",
       "      <td>-0.020829</td>\n",
       "      <td>1.000000</td>\n",
       "      <td>-0.046085</td>\n",
       "      <td>0.150318</td>\n",
       "      <td>0.409146</td>\n",
       "    </tr>\n",
       "    <tr>\n",
       "      <th>resting_bp</th>\n",
       "      <td>0.258780</td>\n",
       "      <td>-0.051100</td>\n",
       "      <td>-0.046085</td>\n",
       "      <td>1.000000</td>\n",
       "      <td>0.129244</td>\n",
       "      <td>0.155990</td>\n",
       "    </tr>\n",
       "    <tr>\n",
       "      <th>cholestoral</th>\n",
       "      <td>0.216043</td>\n",
       "      <td>-0.228545</td>\n",
       "      <td>0.150318</td>\n",
       "      <td>0.129244</td>\n",
       "      <td>1.000000</td>\n",
       "      <td>0.144652</td>\n",
       "    </tr>\n",
       "    <tr>\n",
       "      <th>heart_disease</th>\n",
       "      <td>0.198686</td>\n",
       "      <td>0.261655</td>\n",
       "      <td>0.409146</td>\n",
       "      <td>0.155990</td>\n",
       "      <td>0.144652</td>\n",
       "      <td>1.000000</td>\n",
       "    </tr>\n",
       "  </tbody>\n",
       "</table>\n",
       "</div>"
      ],
      "text/plain": [
       "                    age       sex  chest_pain  resting_bp  cholestoral  \\\n",
       "age            1.000000 -0.141951    0.088905    0.258780     0.216043   \n",
       "sex           -0.141951  1.000000   -0.020829   -0.051100    -0.228545   \n",
       "chest_pain     0.088905 -0.020829    1.000000   -0.046085     0.150318   \n",
       "resting_bp     0.258780 -0.051100   -0.046085    1.000000     0.129244   \n",
       "cholestoral    0.216043 -0.228545    0.150318    0.129244     1.000000   \n",
       "heart_disease  0.198686  0.261655    0.409146    0.155990     0.144652   \n",
       "\n",
       "               heart_disease  \n",
       "age                 0.198686  \n",
       "sex                 0.261655  \n",
       "chest_pain          0.409146  \n",
       "resting_bp          0.155990  \n",
       "cholestoral         0.144652  \n",
       "heart_disease       1.000000  "
      ]
     },
     "execution_count": 25,
     "metadata": {},
     "output_type": "execute_result"
    }
   ],
   "source": [
    "filtered_data[['age', 'sex', 'chest_pain', 'resting_bp', 'cholestoral', 'heart_disease']].corr()"
   ]
  },
  {
   "cell_type": "code",
   "execution_count": 26,
   "metadata": {},
   "outputs": [
    {
     "data": {
      "image/png": "[encoded data removed]",
      "text/plain": [
       "<Figure size 432x288 with 2 Axes>"
      ]
     },
     "metadata": {
      "needs_background": "light"
     },
     "output_type": "display_data"
    }
   ],
   "source": [
    "seaborn.heatmap(filtered_data[['age', 'sex', 'chest_pain', 'resting_bp', 'cholestoral', 'heart_disease']].corr(), annot=True)\n",
    "plot.show()"
   ]
  },
  {
   "cell_type": "markdown",
   "metadata": {},
   "source": [
    "## 結論\n",
    "\n",
    "* 提供了各個單一欄位的bar chart與box chart\n",
    "* 已查詢過總膽固醇、收縮壓的標準值，並將其分成各區間（如每個欄位的開頭說明）\n",
    "* 根據相關係數矩陣來看，胸痛跟心臟病有最直接的關係，其次再來是性別、年齡，但其實我覺得這只是從數據上來看，實際資料分析，膽固醇跟收縮壓應該是會有影響才對"
   ]
  }
 ],
 "metadata": {
  "kernelspec": {
   "display_name": "Python 3",
   "language": "python",
   "name": "python3"
  },
  "language_info": {
   "codemirror_mode": {
    "name": "ipython",
    "version": 3
   },
   "file_extension": ".py",
   "mimetype": "text/x-python",
   "name": "python",
   "nbconvert_exporter": "python",
   "pygments_lexer": "ipython3",
   "version": "3.6.9"
  }
 },
 "nbformat": 4,
 "nbformat_minor": 4
}

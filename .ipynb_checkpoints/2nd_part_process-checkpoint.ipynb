{
 "cells": [
  {
   "cell_type": "code",
<<<<<<< HEAD
   "execution_count": 1,
   "metadata": {},
   "outputs": [],
   "source": [
    "# import basic packages\n",
    "from functools import reduce\n",
    "import pandas as pd\n",
    "import seaborn as sns\n",
    "import numpy as np\n",
    "import matplotlib.pyplot as plt\n",
    "\n",
    "# import sklearn tools\n",
    "from sklearn.preprocessing import MinMaxScaler\n",
    "from sklearn.cluster import KMeans\n",
    "from sklearn.metrics import mutual_info_score\n",
    "from scipy import stats\n",
    "%matplotlib inline\n",
    "\n",
    "# define min_max scaler \n",
    "mms = MinMaxScaler()"
=======
   "execution_count": 48,
   "metadata": {},
   "outputs": [],
   "source": [
    "# import pandas\n",
    "import pandas as pd\n",
    "import seaborn as sns\n",
    "%matplotlib inline\n",
    "\n",
    "# read training csv\n",
    "training_data = pd.read_csv(\"Data/train.csv\")"
   ]
  },
  {
   "cell_type": "code",
   "execution_count": 49,
   "metadata": {},
   "outputs": [
    {
     "data": {
      "text/html": [
       "<div>\n",
       "<style scoped>\n",
       "    .dataframe tbody tr th:only-of-type {\n",
       "        vertical-align: middle;\n",
       "    }\n",
       "\n",
       "    .dataframe tbody tr th {\n",
       "        vertical-align: top;\n",
       "    }\n",
       "\n",
       "    .dataframe thead th {\n",
       "        text-align: right;\n",
       "    }\n",
       "</style>\n",
       "<table border=\"1\" class=\"dataframe\">\n",
       "  <thead>\n",
       "    <tr style=\"text-align: right;\">\n",
       "      <th></th>\n",
       "      <th>id</th>\n",
       "      <th>age</th>\n",
       "      <th>sex</th>\n",
       "      <th>chest_pain</th>\n",
       "      <th>resting_bp</th>\n",
       "      <th>cholestoral</th>\n",
       "      <th>high_sugar</th>\n",
       "      <th>ecg</th>\n",
       "      <th>max_rate</th>\n",
       "      <th>exercise_angina</th>\n",
       "      <th>st_depression</th>\n",
       "      <th>slope</th>\n",
       "      <th>vessels</th>\n",
       "      <th>thalium_scan</th>\n",
       "      <th>heart_disease</th>\n",
       "    </tr>\n",
       "  </thead>\n",
       "  <tbody>\n",
       "    <tr>\n",
       "      <th>0</th>\n",
       "      <td>1</td>\n",
       "      <td>63</td>\n",
       "      <td>1</td>\n",
       "      <td>1</td>\n",
       "      <td>145</td>\n",
       "      <td>233</td>\n",
       "      <td>1</td>\n",
       "      <td>2</td>\n",
       "      <td>150</td>\n",
       "      <td>0</td>\n",
       "      <td>2.3</td>\n",
       "      <td>3</td>\n",
       "      <td>0.0</td>\n",
       "      <td>6.0</td>\n",
       "      <td>0</td>\n",
       "    </tr>\n",
       "    <tr>\n",
       "      <th>1</th>\n",
       "      <td>2</td>\n",
       "      <td>67</td>\n",
       "      <td>1</td>\n",
       "      <td>4</td>\n",
       "      <td>160</td>\n",
       "      <td>286</td>\n",
       "      <td>0</td>\n",
       "      <td>2</td>\n",
       "      <td>108</td>\n",
       "      <td>1</td>\n",
       "      <td>1.5</td>\n",
       "      <td>2</td>\n",
       "      <td>3.0</td>\n",
       "      <td>3.0</td>\n",
       "      <td>1</td>\n",
       "    </tr>\n",
       "    <tr>\n",
       "      <th>2</th>\n",
       "      <td>3</td>\n",
       "      <td>67</td>\n",
       "      <td>1</td>\n",
       "      <td>4</td>\n",
       "      <td>120</td>\n",
       "      <td>229</td>\n",
       "      <td>0</td>\n",
       "      <td>2</td>\n",
       "      <td>129</td>\n",
       "      <td>1</td>\n",
       "      <td>2.6</td>\n",
       "      <td>2</td>\n",
       "      <td>2.0</td>\n",
       "      <td>7.0</td>\n",
       "      <td>1</td>\n",
       "    </tr>\n",
       "    <tr>\n",
       "      <th>3</th>\n",
       "      <td>5</td>\n",
       "      <td>41</td>\n",
       "      <td>0</td>\n",
       "      <td>2</td>\n",
       "      <td>130</td>\n",
       "      <td>204</td>\n",
       "      <td>0</td>\n",
       "      <td>2</td>\n",
       "      <td>172</td>\n",
       "      <td>0</td>\n",
       "      <td>1.4</td>\n",
       "      <td>1</td>\n",
       "      <td>0.0</td>\n",
       "      <td>3.0</td>\n",
       "      <td>0</td>\n",
       "    </tr>\n",
       "    <tr>\n",
       "      <th>4</th>\n",
       "      <td>6</td>\n",
       "      <td>56</td>\n",
       "      <td>1</td>\n",
       "      <td>2</td>\n",
       "      <td>120</td>\n",
       "      <td>236</td>\n",
       "      <td>0</td>\n",
       "      <td>0</td>\n",
       "      <td>178</td>\n",
       "      <td>0</td>\n",
       "      <td>0.8</td>\n",
       "      <td>1</td>\n",
       "      <td>0.0</td>\n",
       "      <td>3.0</td>\n",
       "      <td>0</td>\n",
       "    </tr>\n",
       "    <tr>\n",
       "      <th>...</th>\n",
       "      <td>...</td>\n",
       "      <td>...</td>\n",
       "      <td>...</td>\n",
       "      <td>...</td>\n",
       "      <td>...</td>\n",
       "      <td>...</td>\n",
       "      <td>...</td>\n",
       "      <td>...</td>\n",
       "      <td>...</td>\n",
       "      <td>...</td>\n",
       "      <td>...</td>\n",
       "      <td>...</td>\n",
       "      <td>...</td>\n",
       "      <td>...</td>\n",
       "      <td>...</td>\n",
       "    </tr>\n",
       "    <tr>\n",
       "      <th>223</th>\n",
       "      <td>296</td>\n",
       "      <td>41</td>\n",
       "      <td>1</td>\n",
       "      <td>2</td>\n",
       "      <td>120</td>\n",
       "      <td>157</td>\n",
       "      <td>0</td>\n",
       "      <td>0</td>\n",
       "      <td>182</td>\n",
       "      <td>0</td>\n",
       "      <td>0.0</td>\n",
       "      <td>1</td>\n",
       "      <td>0.0</td>\n",
       "      <td>3.0</td>\n",
       "      <td>0</td>\n",
       "    </tr>\n",
       "    <tr>\n",
       "      <th>224</th>\n",
       "      <td>297</td>\n",
       "      <td>59</td>\n",
       "      <td>1</td>\n",
       "      <td>4</td>\n",
       "      <td>164</td>\n",
       "      <td>176</td>\n",
       "      <td>1</td>\n",
       "      <td>2</td>\n",
       "      <td>90</td>\n",
       "      <td>0</td>\n",
       "      <td>1.0</td>\n",
       "      <td>2</td>\n",
       "      <td>2.0</td>\n",
       "      <td>6.0</td>\n",
       "      <td>1</td>\n",
       "    </tr>\n",
       "    <tr>\n",
       "      <th>225</th>\n",
       "      <td>298</td>\n",
       "      <td>57</td>\n",
       "      <td>0</td>\n",
       "      <td>4</td>\n",
       "      <td>140</td>\n",
       "      <td>241</td>\n",
       "      <td>0</td>\n",
       "      <td>0</td>\n",
       "      <td>123</td>\n",
       "      <td>1</td>\n",
       "      <td>0.2</td>\n",
       "      <td>2</td>\n",
       "      <td>0.0</td>\n",
       "      <td>7.0</td>\n",
       "      <td>1</td>\n",
       "    </tr>\n",
       "    <tr>\n",
       "      <th>226</th>\n",
       "      <td>301</td>\n",
       "      <td>57</td>\n",
       "      <td>1</td>\n",
       "      <td>4</td>\n",
       "      <td>130</td>\n",
       "      <td>131</td>\n",
       "      <td>0</td>\n",
       "      <td>0</td>\n",
       "      <td>115</td>\n",
       "      <td>1</td>\n",
       "      <td>1.2</td>\n",
       "      <td>2</td>\n",
       "      <td>1.0</td>\n",
       "      <td>7.0</td>\n",
       "      <td>1</td>\n",
       "    </tr>\n",
       "    <tr>\n",
       "      <th>227</th>\n",
       "      <td>303</td>\n",
       "      <td>38</td>\n",
       "      <td>1</td>\n",
       "      <td>3</td>\n",
       "      <td>138</td>\n",
       "      <td>175</td>\n",
       "      <td>0</td>\n",
       "      <td>0</td>\n",
       "      <td>173</td>\n",
       "      <td>0</td>\n",
       "      <td>0.0</td>\n",
       "      <td>1</td>\n",
       "      <td>NaN</td>\n",
       "      <td>3.0</td>\n",
       "      <td>0</td>\n",
       "    </tr>\n",
       "  </tbody>\n",
       "</table>\n",
       "<p>228 rows × 15 columns</p>\n",
       "</div>"
      ],
      "text/plain": [
       "      id  age  sex  chest_pain  resting_bp  cholestoral  high_sugar  ecg  \\\n",
       "0      1   63    1           1         145          233           1    2   \n",
       "1      2   67    1           4         160          286           0    2   \n",
       "2      3   67    1           4         120          229           0    2   \n",
       "3      5   41    0           2         130          204           0    2   \n",
       "4      6   56    1           2         120          236           0    0   \n",
       "..   ...  ...  ...         ...         ...          ...         ...  ...   \n",
       "223  296   41    1           2         120          157           0    0   \n",
       "224  297   59    1           4         164          176           1    2   \n",
       "225  298   57    0           4         140          241           0    0   \n",
       "226  301   57    1           4         130          131           0    0   \n",
       "227  303   38    1           3         138          175           0    0   \n",
       "\n",
       "     max_rate  exercise_angina  st_depression  slope  vessels  thalium_scan  \\\n",
       "0         150                0            2.3      3      0.0           6.0   \n",
       "1         108                1            1.5      2      3.0           3.0   \n",
       "2         129                1            2.6      2      2.0           7.0   \n",
       "3         172                0            1.4      1      0.0           3.0   \n",
       "4         178                0            0.8      1      0.0           3.0   \n",
       "..        ...              ...            ...    ...      ...           ...   \n",
       "223       182                0            0.0      1      0.0           3.0   \n",
       "224        90                0            1.0      2      2.0           6.0   \n",
       "225       123                1            0.2      2      0.0           7.0   \n",
       "226       115                1            1.2      2      1.0           7.0   \n",
       "227       173                0            0.0      1      NaN           3.0   \n",
       "\n",
       "     heart_disease  \n",
       "0                0  \n",
       "1                1  \n",
       "2                1  \n",
       "3                0  \n",
       "4                0  \n",
       "..             ...  \n",
       "223              0  \n",
       "224              1  \n",
       "225              1  \n",
       "226              1  \n",
       "227              0  \n",
       "\n",
       "[228 rows x 15 columns]"
      ]
     },
     "execution_count": 49,
     "metadata": {},
     "output_type": "execute_result"
    }
   ],
   "source": [
    "training_data"
>>>>>>> 47266e5516ab87a10e42c7b758c30bc97ef201e2
   ]
  },
  {
   "cell_type": "code",
<<<<<<< HEAD
   "execution_count": 2,
=======
   "execution_count": 53,
>>>>>>> 47266e5516ab87a10e42c7b758c30bc97ef201e2
   "metadata": {},
   "outputs": [
    {
     "data": {
      "text/html": [
       "<div>\n",
       "<style scoped>\n",
       "    .dataframe tbody tr th:only-of-type {\n",
       "        vertical-align: middle;\n",
       "    }\n",
       "\n",
       "    .dataframe tbody tr th {\n",
       "        vertical-align: top;\n",
       "    }\n",
       "\n",
       "    .dataframe thead th {\n",
       "        text-align: right;\n",
       "    }\n",
       "</style>\n",
       "<table border=\"1\" class=\"dataframe\">\n",
       "  <thead>\n",
       "    <tr style=\"text-align: right;\">\n",
       "      <th></th>\n",
       "      <th>cholestoral</th>\n",
       "      <th>high_sugar</th>\n",
       "      <th>ecg</th>\n",
       "      <th>max_rate</th>\n",
       "      <th>exercise_angina</th>\n",
       "      <th>st_depression</th>\n",
       "      <th>heart_disease</th>\n",
       "    </tr>\n",
       "  </thead>\n",
       "  <tbody>\n",
       "    <tr>\n",
       "      <th>0</th>\n",
       "      <td>233</td>\n",
       "      <td>1</td>\n",
       "      <td>2</td>\n",
       "      <td>150</td>\n",
       "      <td>0</td>\n",
       "      <td>2.3</td>\n",
       "      <td>0</td>\n",
       "    </tr>\n",
       "    <tr>\n",
       "      <th>1</th>\n",
       "      <td>286</td>\n",
       "      <td>0</td>\n",
       "      <td>2</td>\n",
       "      <td>108</td>\n",
       "      <td>1</td>\n",
       "      <td>1.5</td>\n",
       "      <td>1</td>\n",
       "    </tr>\n",
       "    <tr>\n",
       "      <th>2</th>\n",
       "      <td>229</td>\n",
       "      <td>0</td>\n",
       "      <td>2</td>\n",
       "      <td>129</td>\n",
       "      <td>1</td>\n",
       "      <td>2.6</td>\n",
       "      <td>1</td>\n",
       "    </tr>\n",
       "    <tr>\n",
       "      <th>3</th>\n",
       "      <td>204</td>\n",
       "      <td>0</td>\n",
       "      <td>2</td>\n",
       "      <td>172</td>\n",
       "      <td>0</td>\n",
       "      <td>1.4</td>\n",
       "      <td>0</td>\n",
       "    </tr>\n",
       "    <tr>\n",
       "      <th>4</th>\n",
       "      <td>236</td>\n",
       "      <td>0</td>\n",
       "      <td>0</td>\n",
       "      <td>178</td>\n",
       "      <td>0</td>\n",
       "      <td>0.8</td>\n",
       "      <td>0</td>\n",
       "    </tr>\n",
       "    <tr>\n",
       "      <th>...</th>\n",
       "      <td>...</td>\n",
       "      <td>...</td>\n",
       "      <td>...</td>\n",
       "      <td>...</td>\n",
       "      <td>...</td>\n",
       "      <td>...</td>\n",
       "      <td>...</td>\n",
       "    </tr>\n",
       "    <tr>\n",
       "      <th>223</th>\n",
       "      <td>157</td>\n",
       "      <td>0</td>\n",
       "      <td>0</td>\n",
       "      <td>182</td>\n",
       "      <td>0</td>\n",
       "      <td>0.0</td>\n",
       "      <td>0</td>\n",
       "    </tr>\n",
       "    <tr>\n",
       "      <th>224</th>\n",
       "      <td>176</td>\n",
       "      <td>1</td>\n",
       "      <td>2</td>\n",
       "      <td>90</td>\n",
       "      <td>0</td>\n",
       "      <td>1.0</td>\n",
       "      <td>1</td>\n",
       "    </tr>\n",
       "    <tr>\n",
       "      <th>225</th>\n",
       "      <td>241</td>\n",
       "      <td>0</td>\n",
       "      <td>0</td>\n",
       "      <td>123</td>\n",
       "      <td>1</td>\n",
       "      <td>0.2</td>\n",
       "      <td>1</td>\n",
       "    </tr>\n",
       "    <tr>\n",
       "      <th>226</th>\n",
       "      <td>131</td>\n",
       "      <td>0</td>\n",
       "      <td>0</td>\n",
       "      <td>115</td>\n",
       "      <td>1</td>\n",
       "      <td>1.2</td>\n",
       "      <td>1</td>\n",
       "    </tr>\n",
       "    <tr>\n",
       "      <th>227</th>\n",
       "      <td>175</td>\n",
       "      <td>0</td>\n",
       "      <td>0</td>\n",
       "      <td>173</td>\n",
       "      <td>0</td>\n",
       "      <td>0.0</td>\n",
       "      <td>0</td>\n",
       "    </tr>\n",
       "  </tbody>\n",
       "</table>\n",
       "<p>228 rows × 7 columns</p>\n",
       "</div>"
      ],
      "text/plain": [
       "     cholestoral  high_sugar  ecg  max_rate  exercise_angina  st_depression  \\\n",
       "0            233           1    2       150                0            2.3   \n",
       "1            286           0    2       108                1            1.5   \n",
       "2            229           0    2       129                1            2.6   \n",
       "3            204           0    2       172                0            1.4   \n",
       "4            236           0    0       178                0            0.8   \n",
       "..           ...         ...  ...       ...              ...            ...   \n",
       "223          157           0    0       182                0            0.0   \n",
       "224          176           1    2        90                0            1.0   \n",
       "225          241           0    0       123                1            0.2   \n",
       "226          131           0    0       115                1            1.2   \n",
       "227          175           0    0       173                0            0.0   \n",
       "\n",
       "     heart_disease  \n",
       "0                0  \n",
       "1                1  \n",
       "2                1  \n",
       "3                0  \n",
       "4                0  \n",
       "..             ...  \n",
       "223              0  \n",
       "224              1  \n",
       "225              1  \n",
       "226              1  \n",
       "227              0  \n",
       "\n",
       "[228 rows x 7 columns]"
      ]
     },
<<<<<<< HEAD
     "execution_count": 2,
=======
     "execution_count": 53,
>>>>>>> 47266e5516ab87a10e42c7b758c30bc97ef201e2
     "metadata": {},
     "output_type": "execute_result"
    }
   ],
   "source": [
<<<<<<< HEAD
    "# read training csv\n",
    "training_data = pd.read_csv(\"Data/train.csv\")\n",
    "\n",
    "# define middle data\n",
    "columns = [\"cholestoral\", \"high_sugar\", \"ecg\", \"max_rate\", \"exercise_angina\", \"st_depression\", \"heart_disease\"]\n",
    "middle_six = training_data[columns].copy()\n",
=======
    "# the six features in the middle \n",
    "columns = [\"cholestoral\", \"high_sugar\", \"ecg\", \"max_rate\", \"exercise_angina\", \"st_depression\", \"heart_disease\"]\n",
    "middle_six = training_data[columns]\n",
>>>>>>> 47266e5516ab87a10e42c7b758c30bc97ef201e2
    "middle_six"
   ]
  },
  {
   "cell_type": "code",
<<<<<<< HEAD
   "execution_count": 3,
=======
   "execution_count": 57,
>>>>>>> 47266e5516ab87a10e42c7b758c30bc97ef201e2
   "metadata": {},
   "outputs": [
    {
     "data": {
      "text/html": [
       "<div>\n",
       "<style scoped>\n",
       "    .dataframe tbody tr th:only-of-type {\n",
       "        vertical-align: middle;\n",
       "    }\n",
       "\n",
       "    .dataframe tbody tr th {\n",
       "        vertical-align: top;\n",
       "    }\n",
       "\n",
       "    .dataframe thead th {\n",
       "        text-align: right;\n",
       "    }\n",
       "</style>\n",
       "<table border=\"1\" class=\"dataframe\">\n",
       "  <thead>\n",
       "    <tr style=\"text-align: right;\">\n",
       "      <th></th>\n",
       "      <th>cholestoral</th>\n",
       "      <th>high_sugar</th>\n",
       "      <th>ecg</th>\n",
       "      <th>max_rate</th>\n",
       "      <th>exercise_angina</th>\n",
       "      <th>st_depression</th>\n",
       "      <th>heart_disease</th>\n",
       "    </tr>\n",
       "  </thead>\n",
       "  <tbody>\n",
       "    <tr>\n",
       "      <th>count</th>\n",
       "      <td>228.000000</td>\n",
       "      <td>228.000000</td>\n",
       "      <td>228.000000</td>\n",
       "      <td>228.000000</td>\n",
       "      <td>228.000000</td>\n",
       "      <td>228.000000</td>\n",
       "      <td>228.000000</td>\n",
       "    </tr>\n",
       "    <tr>\n",
       "      <th>mean</th>\n",
       "      <td>248.337719</td>\n",
       "      <td>0.140351</td>\n",
       "      <td>1.026316</td>\n",
       "      <td>148.675439</td>\n",
       "      <td>0.324561</td>\n",
       "      <td>1.010526</td>\n",
       "      <td>0.473684</td>\n",
       "    </tr>\n",
       "    <tr>\n",
       "      <th>std</th>\n",
       "      <td>49.388909</td>\n",
       "      <td>0.348115</td>\n",
       "      <td>0.993020</td>\n",
       "      <td>23.969693</td>\n",
       "      <td>0.469241</td>\n",
       "      <td>1.146215</td>\n",
       "      <td>0.500406</td>\n",
       "    </tr>\n",
       "    <tr>\n",
       "      <th>min</th>\n",
       "      <td>126.000000</td>\n",
       "      <td>0.000000</td>\n",
       "      <td>0.000000</td>\n",
       "      <td>71.000000</td>\n",
       "      <td>0.000000</td>\n",
       "      <td>0.000000</td>\n",
       "      <td>0.000000</td>\n",
       "    </tr>\n",
       "    <tr>\n",
       "      <th>25%</th>\n",
       "      <td>212.750000</td>\n",
       "      <td>0.000000</td>\n",
       "      <td>0.000000</td>\n",
       "      <td>131.000000</td>\n",
       "      <td>0.000000</td>\n",
       "      <td>0.000000</td>\n",
       "      <td>0.000000</td>\n",
       "    </tr>\n",
       "    <tr>\n",
       "      <th>50%</th>\n",
       "      <td>244.000000</td>\n",
       "      <td>0.000000</td>\n",
       "      <td>2.000000</td>\n",
       "      <td>152.000000</td>\n",
       "      <td>0.000000</td>\n",
       "      <td>0.800000</td>\n",
       "      <td>0.000000</td>\n",
       "    </tr>\n",
       "    <tr>\n",
       "      <th>75%</th>\n",
       "      <td>276.250000</td>\n",
       "      <td>0.000000</td>\n",
       "      <td>2.000000</td>\n",
       "      <td>167.250000</td>\n",
       "      <td>1.000000</td>\n",
       "      <td>1.600000</td>\n",
       "      <td>1.000000</td>\n",
       "    </tr>\n",
       "    <tr>\n",
       "      <th>max</th>\n",
       "      <td>417.000000</td>\n",
       "      <td>1.000000</td>\n",
       "      <td>2.000000</td>\n",
       "      <td>202.000000</td>\n",
       "      <td>1.000000</td>\n",
       "      <td>6.200000</td>\n",
       "      <td>1.000000</td>\n",
       "    </tr>\n",
       "  </tbody>\n",
       "</table>\n",
       "</div>"
      ],
      "text/plain": [
       "       cholestoral  high_sugar         ecg    max_rate  exercise_angina  \\\n",
       "count   228.000000  228.000000  228.000000  228.000000       228.000000   \n",
       "mean    248.337719    0.140351    1.026316  148.675439         0.324561   \n",
       "std      49.388909    0.348115    0.993020   23.969693         0.469241   \n",
       "min     126.000000    0.000000    0.000000   71.000000         0.000000   \n",
       "25%     212.750000    0.000000    0.000000  131.000000         0.000000   \n",
       "50%     244.000000    0.000000    2.000000  152.000000         0.000000   \n",
       "75%     276.250000    0.000000    2.000000  167.250000         1.000000   \n",
       "max     417.000000    1.000000    2.000000  202.000000         1.000000   \n",
       "\n",
       "       st_depression  heart_disease  \n",
       "count     228.000000     228.000000  \n",
       "mean        1.010526       0.473684  \n",
       "std         1.146215       0.500406  \n",
       "min         0.000000       0.000000  \n",
       "25%         0.000000       0.000000  \n",
       "50%         0.800000       0.000000  \n",
       "75%         1.600000       1.000000  \n",
       "max         6.200000       1.000000  "
      ]
     },
<<<<<<< HEAD
     "execution_count": 3,
=======
     "execution_count": 57,
>>>>>>> 47266e5516ab87a10e42c7b758c30bc97ef201e2
     "metadata": {},
     "output_type": "execute_result"
    }
   ],
   "source": [
<<<<<<< HEAD
    "# briefly describe data\n",
=======
>>>>>>> 47266e5516ab87a10e42c7b758c30bc97ef201e2
    "middle_six.describe()"
   ]
  },
  {
   "cell_type": "code",
<<<<<<< HEAD
   "execution_count": 4,
=======
   "execution_count": 54,
>>>>>>> 47266e5516ab87a10e42c7b758c30bc97ef201e2
   "metadata": {},
   "outputs": [
    {
     "name": "stdout",
     "output_type": "stream",
     "text": [
<<<<<<< HEAD
      "shape: (228, 7)\n",
      "dtype: cholestoral          int64\n",
=======
      "shape:\n",
      " (228, 7) \n",
      "\n",
      "dtype:\n",
      " cholestoral          int64\n",
>>>>>>> 47266e5516ab87a10e42c7b758c30bc97ef201e2
      "high_sugar           int64\n",
      "ecg                  int64\n",
      "max_rate             int64\n",
      "exercise_angina      int64\n",
      "st_depression      float64\n",
      "heart_disease        int64\n",
<<<<<<< HEAD
      "dtype: object\n",
      "matched index: Index(['cholestoral', 'high_sugar', 'ecg', 'max_rate', 'exercise_angina',\n",
=======
      "dtype: object \n",
      "\n",
      "matched index:\n",
      " Index(['cholestoral', 'high_sugar', 'ecg', 'max_rate', 'exercise_angina',\n",
>>>>>>> 47266e5516ab87a10e42c7b758c30bc97ef201e2
      "       'st_depression', 'heart_disease'],\n",
      "      dtype='object')\n"
     ]
    }
   ],
   "source": [
<<<<<<< HEAD
    "# print some overall info\n",
    "print(\"shape:\", middle_six.shape)\n",
    "print(\"dtype:\", middle_six.dtypes)\n",
    "match_status = (middle_six.dtypes == \"float64\") | (middle_six.dtypes == \"int64\")\n",
    "match_dtype = middle_six.dtypes[match_status]\n",
    "print(\"matched index:\", match_dtype.index)"
=======
    "print(\"shape:\\n\", middle_six.shape, \"\\n\")\n",
    "print(\"dtype:\\n\", middle_six.dtypes, \"\\n\")\n",
    "match_status = (middle_six.dtypes == \"float64\") | (middle_six.dtypes == \"int64\")\n",
    "match_dtype = middle_six.dtypes[match_status]\n",
    "print(\"matched index:\\n\", match_dtype.index)"
>>>>>>> 47266e5516ab87a10e42c7b758c30bc97ef201e2
   ]
  },
  {
   "cell_type": "code",
<<<<<<< HEAD
   "execution_count": 5,
=======
   "execution_count": 55,
>>>>>>> 47266e5516ab87a10e42c7b758c30bc97ef201e2
   "metadata": {},
   "outputs": [
    {
     "data": {
      "text/plain": [
<<<<<<< HEAD
       "<seaborn.axisgrid.PairGrid at 0x11c0d8eb8>"
      ]
     },
     "execution_count": 5,
=======
       "<seaborn.axisgrid.PairGrid at 0x12d7fef98>"
      ]
     },
     "execution_count": 55,
>>>>>>> 47266e5516ab87a10e42c7b758c30bc97ef201e2
     "metadata": {},
     "output_type": "execute_result"
    },
    {
     "data": {
<<<<<<< HEAD
      "image/png": "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\n",
=======
      "image/png": "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\n",
>>>>>>> 47266e5516ab87a10e42c7b758c30bc97ef201e2
      "text/plain": [
       "<Figure size 1260x1260 with 56 Axes>"
      ]
     },
     "metadata": {
      "needs_background": "light"
     },
     "output_type": "display_data"
    }
   ],
   "source": [
<<<<<<< HEAD
    "# print all variables' pariplot\n",
=======
>>>>>>> 47266e5516ab87a10e42c7b758c30bc97ef201e2
    "sns.pairplot(middle_six.loc[:,match_status])"
   ]
  },
  {
   "cell_type": "code",
<<<<<<< HEAD
   "execution_count": 6,
=======
   "execution_count": 91,
>>>>>>> 47266e5516ab87a10e42c7b758c30bc97ef201e2
   "metadata": {},
   "outputs": [
    {
     "data": {
      "text/plain": [
<<<<<<< HEAD
       "<matplotlib.axes._subplots.AxesSubplot at 0x11fa88668>"
      ]
     },
     "execution_count": 6,
=======
       "<matplotlib.axes._subplots.AxesSubplot at 0x130a755f8>"
      ]
     },
     "execution_count": 91,
>>>>>>> 47266e5516ab87a10e42c7b758c30bc97ef201e2
     "metadata": {},
     "output_type": "execute_result"
    },
    {
     "data": {
<<<<<<< HEAD
      "image/png": "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\n",
=======
      "image/png": "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\n",
>>>>>>> 47266e5516ab87a10e42c7b758c30bc97ef201e2
      "text/plain": [
       "<Figure size 432x288 with 2 Axes>"
      ]
     },
     "metadata": {
      "needs_background": "light"
     },
     "output_type": "display_data"
    }
   ],
   "source": [
<<<<<<< HEAD
    "# print correlation and use seaborn to plot heatmap\n",
=======
>>>>>>> 47266e5516ab87a10e42c7b758c30bc97ef201e2
    "middle_six_corr = middle_six.loc[:,match_status].corr()\n",
    "sns.heatmap(middle_six_corr, xticklabels=middle_six_corr.columns, yticklabels=middle_six_corr.columns, cmap=sns.diverging_palette(220, 10, as_cmap=True), annot=True)"
   ]
  },
  {
   "cell_type": "code",
<<<<<<< HEAD
   "execution_count": 7,
   "metadata": {},
   "outputs": [
    {
     "name": "stdout",
     "output_type": "stream",
     "text": [
      "0      233\n",
      "1      286\n",
      "2      229\n",
      "3      204\n",
      "4      236\n",
      "      ... \n",
      "223    157\n",
      "224    176\n",
      "225    241\n",
      "226    131\n",
      "227    175\n",
      "Name: cholestoral, Length: 228, dtype: int64 \n",
      "\n",
      "陣列中的總和---------------> 56621\n",
      "陣列中的平均值-------------> 248.33771929824562\n",
      "陣列中最小值---------------> 126\n",
      "陣列中第一四分位---------------> 212.75\n",
      "陣列中middle two的平均值---> 244.0\n",
      "陣列中第三四分位---------------> 276.25\n",
      "陣列中最大值---------------> 417\n",
      "陣列中的個數---------------> 228\n",
      "nan 個數: 0, 值為: Series([], Name: cholestoral, dtype: int64)\n",
      "unique value: [233 286 229 204 236 354 254 203 192 294 199 239 275 266 211 224 340 226\n",
      " 247 335 177 276 243 212 330 230 175 417 198 290 219 253 172 273 213 305\n",
      " 304 188 282 185 232 231 269 267 248 197 258 245 270 264 321 274 325 257\n",
      " 216 164 252 255 201 222 260 182 303 265 309 307 186 341 263 407 217 234\n",
      " 220 209 227 261 250 281 288 240 289 308 318 298 246 322 299 300 214 223\n",
      " 160 249 394 184 409 244 195 283 196 126 313 259 200 228 193 271 268 210\n",
      " 277 327 149 306 178 237 208 218 242 319 315 180 311 278 205 225 342 157\n",
      " 176 241 131]\n"
     ]
    }
   ],
   "source": [
    "# cholestoral column, and get unique value\n",
    "cholestoral = middle_six.iloc[:,0]\n",
    "print(cholestoral, \"\\n\")\n",
    "print('陣列中的總和--------------->',cholestoral.sum())\n",
    "print('陣列中的平均值------------->',cholestoral.mean())\n",
    "print('陣列中最小值--------------->',cholestoral.min())\n",
    "print('陣列中第一四分位--------------->',cholestoral.quantile([0.25]).values[0])\n",
    "print('陣列中middle two的平均值--->',cholestoral.median())\n",
    "print('陣列中第三四分位--------------->',cholestoral.quantile([0.75]).values[0])\n",
    "print('陣列中最大值--------------->',cholestoral.max())\n",
    "print('陣列中的個數--------------->',cholestoral.count())\n",
    "print('nan 個數: {}, 值為: {}'.format(len(cholestoral[cholestoral.isna()]), cholestoral[cholestoral.isna()]))\n",
    "print('unique value: {}'.format(cholestoral.unique()))"
=======
   "execution_count": 19,
   "metadata": {},
   "outputs": [
    {
     "data": {
      "text/plain": [
       "0      233\n",
       "1      286\n",
       "2      229\n",
       "3      204\n",
       "4      236\n",
       "      ... \n",
       "223    157\n",
       "224    176\n",
       "225    241\n",
       "226    131\n",
       "227    175\n",
       "Name: cholestoral, Length: 228, dtype: int64"
      ]
     },
     "execution_count": 19,
     "metadata": {},
     "output_type": "execute_result"
    }
   ],
   "source": [
    "# cholestoral column\n",
    "cholestoral = middle_six.iloc[:,0]\n",
    "cholestoral"
>>>>>>> 47266e5516ab87a10e42c7b758c30bc97ef201e2
   ]
  },
  {
   "cell_type": "code",
<<<<<<< HEAD
   "execution_count": 8,
=======
   "execution_count": 93,
>>>>>>> 47266e5516ab87a10e42c7b758c30bc97ef201e2
   "metadata": {},
   "outputs": [
    {
     "data": {
      "text/plain": [
<<<<<<< HEAD
       "<matplotlib.axes._subplots.AxesSubplot at 0x1091ddd30>"
      ]
     },
     "execution_count": 8,
     "metadata": {},
     "output_type": "execute_result"
    },
    {
     "data": {
      "image/png": "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\n",
      "text/plain": [
       "<Figure size 432x288 with 1 Axes>"
      ]
     },
     "metadata": {
      "needs_background": "light"
     },
     "output_type": "display_data"
    }
   ],
   "source": [
    "cholestoral.plot.hist()"
=======
       "Series([], Name: cholestoral, dtype: int64)"
      ]
     },
     "execution_count": 93,
     "metadata": {},
     "output_type": "execute_result"
    }
   ],
   "source": [
    "cholestoral[cholestoral.isna()]"
>>>>>>> 47266e5516ab87a10e42c7b758c30bc97ef201e2
   ]
  },
  {
   "cell_type": "code",
<<<<<<< HEAD
   "execution_count": 9,
=======
   "execution_count": 92,
>>>>>>> 47266e5516ab87a10e42c7b758c30bc97ef201e2
   "metadata": {},
   "outputs": [
    {
     "data": {
      "text/plain": [
<<<<<<< HEAD
       "(6,\n",
       " [126,\n",
       "  169.8181818181818,\n",
       "  207.7254901960784,\n",
       "  239.56250000000003,\n",
       "  271.95833333333337,\n",
       "  314.82051282051276,\n",
       "  406.75,\n",
       "  417],\n",
       " 8)"
      ]
     },
     "execution_count": 9,
     "metadata": {},
     "output_type": "execute_result"
    }
   ],
   "source": [
    "# 根據上面 histogram，試著找到最佳分群來當作 bin 區間\n",
    "Sum_of_squared_distances = []\n",
    "Sum_of_squared_thre = 0.3\n",
    "current_k = 0\n",
    "current_dst = 0\n",
    "center = None\n",
    "cholestoral_val = cholestoral.values\n",
    "cholestoral_val = cholestoral_val.reshape(-1,1)\n",
    "K = range(1,15)\n",
    "for k in K:\n",
    "    km = KMeans(n_clusters=k)\n",
    "    km = km.fit(cholestoral_val)\n",
    "    if k == 1 :\n",
    "        current_dst = km.inertia_\n",
    "        current_k = k\n",
    "        center = km.cluster_centers_\n",
    "    else :\n",
    "        if np.abs(current_dst - km.inertia_)/current_dst >= Sum_of_squared_thre :\n",
    "            current_k = k\n",
    "            center = km.cluster_centers_\n",
    "        current_dst = km.inertia_\n",
    "    Sum_of_squared_distances.append(current_dst)\n",
    "\n",
    "final_center = []\n",
    "center = center.astype(np.float64)\n",
    "center = center.reshape(-1)\n",
    "center = np.sort(center)\n",
    "center = center.tolist()\n",
    "final_center.append(cholestoral_val.min())\n",
    "final_center.extend(center)\n",
    "final_center.append(cholestoral_val.max())\n",
    "current_k, final_center, len(final_center)"
   ]
  },
  {
   "cell_type": "code",
   "execution_count": 10,
   "metadata": {},
   "outputs": [
    {
     "data": {
      "image/png": "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\n",
=======
       "<matplotlib.axes._subplots.AxesSubplot at 0x130b7da58>"
      ]
     },
     "execution_count": 92,
     "metadata": {},
     "output_type": "execute_result"
    },
    {
     "data": {
      "image/png": "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\n",
>>>>>>> 47266e5516ab87a10e42c7b758c30bc97ef201e2
      "text/plain": [
       "<Figure size 432x288 with 1 Axes>"
      ]
     },
     "metadata": {
      "needs_background": "light"
     },
     "output_type": "display_data"
    }
   ],
   "source": [
<<<<<<< HEAD
    "# plot k means result\n",
    "plt.plot(K, Sum_of_squared_distances, 'bx-')\n",
    "plt.xlabel('k')\n",
    "plt.ylabel('Sum_of_squared_distances')\n",
    "plt.title('Elbow Method For Optimal k')\n",
    "plt.show()"
=======
    "cholestoral.plot.hist()"
>>>>>>> 47266e5516ab87a10e42c7b758c30bc97ef201e2
   ]
  },
  {
   "cell_type": "code",
<<<<<<< HEAD
   "execution_count": 11,
=======
   "execution_count": 62,
>>>>>>> 47266e5516ab87a10e42c7b758c30bc97ef201e2
   "metadata": {},
   "outputs": [
    {
     "data": {
<<<<<<< HEAD
      "text/html": [
       "<div>\n",
       "<style scoped>\n",
       "    .dataframe tbody tr th:only-of-type {\n",
       "        vertical-align: middle;\n",
       "    }\n",
       "\n",
       "    .dataframe tbody tr th {\n",
       "        vertical-align: top;\n",
       "    }\n",
       "\n",
       "    .dataframe thead th {\n",
       "        text-align: right;\n",
       "    }\n",
       "</style>\n",
       "<table border=\"1\" class=\"dataframe\">\n",
       "  <thead>\n",
       "    <tr style=\"text-align: right;\">\n",
       "      <th></th>\n",
       "      <th>cholestoral</th>\n",
       "      <th>high_sugar</th>\n",
       "      <th>ecg</th>\n",
       "      <th>max_rate</th>\n",
       "      <th>exercise_angina</th>\n",
       "      <th>st_depression</th>\n",
       "      <th>heart_disease</th>\n",
       "      <th>cholestoral_label</th>\n",
       "    </tr>\n",
       "  </thead>\n",
       "  <tbody>\n",
       "    <tr>\n",
       "      <th>0</th>\n",
       "      <td>233</td>\n",
       "      <td>1</td>\n",
       "      <td>2</td>\n",
       "      <td>150</td>\n",
       "      <td>0</td>\n",
       "      <td>2.3</td>\n",
       "      <td>0</td>\n",
       "      <td>2</td>\n",
       "    </tr>\n",
       "    <tr>\n",
       "      <th>1</th>\n",
       "      <td>286</td>\n",
       "      <td>0</td>\n",
       "      <td>2</td>\n",
       "      <td>108</td>\n",
       "      <td>1</td>\n",
       "      <td>1.5</td>\n",
       "      <td>1</td>\n",
       "      <td>4</td>\n",
       "    </tr>\n",
       "    <tr>\n",
       "      <th>2</th>\n",
       "      <td>229</td>\n",
       "      <td>0</td>\n",
       "      <td>2</td>\n",
       "      <td>129</td>\n",
       "      <td>1</td>\n",
       "      <td>2.6</td>\n",
       "      <td>1</td>\n",
       "      <td>2</td>\n",
       "    </tr>\n",
       "    <tr>\n",
       "      <th>3</th>\n",
       "      <td>204</td>\n",
       "      <td>0</td>\n",
       "      <td>2</td>\n",
       "      <td>172</td>\n",
       "      <td>0</td>\n",
       "      <td>1.4</td>\n",
       "      <td>0</td>\n",
       "      <td>1</td>\n",
       "    </tr>\n",
       "    <tr>\n",
       "      <th>4</th>\n",
       "      <td>236</td>\n",
       "      <td>0</td>\n",
       "      <td>0</td>\n",
       "      <td>178</td>\n",
       "      <td>0</td>\n",
       "      <td>0.8</td>\n",
       "      <td>0</td>\n",
       "      <td>2</td>\n",
       "    </tr>\n",
       "    <tr>\n",
       "      <th>...</th>\n",
       "      <td>...</td>\n",
       "      <td>...</td>\n",
       "      <td>...</td>\n",
       "      <td>...</td>\n",
       "      <td>...</td>\n",
       "      <td>...</td>\n",
       "      <td>...</td>\n",
       "      <td>...</td>\n",
       "    </tr>\n",
       "    <tr>\n",
       "      <th>223</th>\n",
       "      <td>157</td>\n",
       "      <td>0</td>\n",
       "      <td>0</td>\n",
       "      <td>182</td>\n",
       "      <td>0</td>\n",
       "      <td>0.0</td>\n",
       "      <td>0</td>\n",
       "      <td>0</td>\n",
       "    </tr>\n",
       "    <tr>\n",
       "      <th>224</th>\n",
       "      <td>176</td>\n",
       "      <td>1</td>\n",
       "      <td>2</td>\n",
       "      <td>90</td>\n",
       "      <td>0</td>\n",
       "      <td>1.0</td>\n",
       "      <td>1</td>\n",
       "      <td>1</td>\n",
       "    </tr>\n",
       "    <tr>\n",
       "      <th>225</th>\n",
       "      <td>241</td>\n",
       "      <td>0</td>\n",
       "      <td>0</td>\n",
       "      <td>123</td>\n",
       "      <td>1</td>\n",
       "      <td>0.2</td>\n",
       "      <td>1</td>\n",
       "      <td>3</td>\n",
       "    </tr>\n",
       "    <tr>\n",
       "      <th>226</th>\n",
       "      <td>131</td>\n",
       "      <td>0</td>\n",
       "      <td>0</td>\n",
       "      <td>115</td>\n",
       "      <td>1</td>\n",
       "      <td>1.2</td>\n",
       "      <td>1</td>\n",
       "      <td>0</td>\n",
       "    </tr>\n",
       "    <tr>\n",
       "      <th>227</th>\n",
       "      <td>175</td>\n",
       "      <td>0</td>\n",
       "      <td>0</td>\n",
       "      <td>173</td>\n",
       "      <td>0</td>\n",
       "      <td>0.0</td>\n",
       "      <td>0</td>\n",
       "      <td>1</td>\n",
       "    </tr>\n",
       "  </tbody>\n",
       "</table>\n",
       "<p>228 rows × 8 columns</p>\n",
       "</div>"
      ],
      "text/plain": [
       "     cholestoral  high_sugar  ecg  max_rate  exercise_angina  st_depression  \\\n",
       "0            233           1    2       150                0            2.3   \n",
       "1            286           0    2       108                1            1.5   \n",
       "2            229           0    2       129                1            2.6   \n",
       "3            204           0    2       172                0            1.4   \n",
       "4            236           0    0       178                0            0.8   \n",
       "..           ...         ...  ...       ...              ...            ...   \n",
       "223          157           0    0       182                0            0.0   \n",
       "224          176           1    2        90                0            1.0   \n",
       "225          241           0    0       123                1            0.2   \n",
       "226          131           0    0       115                1            1.2   \n",
       "227          175           0    0       173                0            0.0   \n",
       "\n",
       "     heart_disease cholestoral_label  \n",
       "0                0                 2  \n",
       "1                1                 4  \n",
       "2                1                 2  \n",
       "3                0                 1  \n",
       "4                0                 2  \n",
       "..             ...               ...  \n",
       "223              0                 0  \n",
       "224              1                 1  \n",
       "225              1                 3  \n",
       "226              1                 0  \n",
       "227              0                 1  \n",
       "\n",
       "[228 rows x 8 columns]"
      ]
     },
     "execution_count": 11,
=======
      "text/plain": [
       "array([233, 286, 229, 204, 236, 354, 254, 203, 192, 294, 199, 239, 275,\n",
       "       266, 211, 224, 340, 226, 247, 335, 177, 276, 243, 212, 330, 230,\n",
       "       175, 417, 198, 290, 219, 253, 172, 273, 213, 305, 304, 188, 282,\n",
       "       185, 232, 231, 269, 267, 248, 197, 258, 245, 270, 264, 321, 274,\n",
       "       325, 257, 216, 164, 252, 255, 201, 222, 260, 182, 303, 265, 309,\n",
       "       307, 186, 341, 263, 407, 217, 234, 220, 209, 227, 261, 250, 281,\n",
       "       288, 240, 289, 308, 318, 298, 246, 322, 299, 300, 214, 223, 160,\n",
       "       249, 394, 184, 409, 244, 195, 283, 196, 126, 313, 259, 200, 228,\n",
       "       193, 271, 268, 210, 277, 327, 149, 306, 178, 237, 208, 218, 242,\n",
       "       319, 315, 180, 311, 278, 205, 225, 342, 157, 176, 241, 131])"
      ]
     },
     "execution_count": 62,
>>>>>>> 47266e5516ab87a10e42c7b758c30bc97ef201e2
     "metadata": {},
     "output_type": "execute_result"
    }
   ],
   "source": [
<<<<<<< HEAD
    "# cut bins by k means result\n",
    "bins = final_center\n",
    "label_name = [str(i) for i in list(range(len(bins)-1))]\n",
    "middle_six[\"cholestoral_label\"] = pd.cut(middle_six.cholestoral, bins, labels=label_name, include_lowest=True)\n",
    "middle_six"
=======
    "cholestoral.unique()"
>>>>>>> 47266e5516ab87a10e42c7b758c30bc97ef201e2
   ]
  },
  {
   "cell_type": "code",
<<<<<<< HEAD
   "execution_count": 12,
   "metadata": {},
   "outputs": [
    {
     "name": "stdout",
     "output_type": "stream",
     "text": [
      "nan 個數: 0, 值為: Series([], Name: cholestoral_label, dtype: category\n",
      "Categories (7, object): [0 < 1 < 2 < 3 < 4 < 5 < 6])\n",
      "unique value: [2, 4, 1, 5, 3, 6, 0]\n",
      "Categories (7, object): [0 < 1 < 2 < 3 < 4 < 5 < 6]\n"
     ]
    }
   ],
   "source": [
    "cholestoral_label = middle_six[\"cholestoral_label\"]\n",
    "print('nan 個數: {}, 值為: {}'.format(len(cholestoral_label[cholestoral_label.isna()]), cholestoral_label[cholestoral_label.isna()]))\n",
    "print('unique value: {}'.format(cholestoral_label.unique()))"
=======
   "execution_count": 20,
   "metadata": {},
   "outputs": [
    {
     "data": {
      "text/plain": [
       "0      1\n",
       "1      0\n",
       "2      0\n",
       "3      0\n",
       "4      0\n",
       "      ..\n",
       "223    0\n",
       "224    1\n",
       "225    0\n",
       "226    0\n",
       "227    0\n",
       "Name: high_sugar, Length: 228, dtype: int64"
      ]
     },
     "execution_count": 20,
     "metadata": {},
     "output_type": "execute_result"
    }
   ],
   "source": [
    "# high_sugar column\n",
    "high_sugar = middle_six.iloc[:,1]\n",
    "high_sugar"
>>>>>>> 47266e5516ab87a10e42c7b758c30bc97ef201e2
   ]
  },
  {
   "cell_type": "code",
<<<<<<< HEAD
   "execution_count": 13,
=======
   "execution_count": 94,
>>>>>>> 47266e5516ab87a10e42c7b758c30bc97ef201e2
   "metadata": {},
   "outputs": [
    {
     "data": {
      "text/plain": [
<<<<<<< HEAD
       "<matplotlib.axes._subplots.AxesSubplot at 0x120317390>"
      ]
     },
     "execution_count": 13,
     "metadata": {},
     "output_type": "execute_result"
    },
    {
     "data": {
      "image/png": "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\n",
      "text/plain": [
       "<Figure size 432x288 with 1 Axes>"
      ]
     },
     "metadata": {
      "needs_background": "light"
     },
     "output_type": "display_data"
    }
   ],
   "source": [
    "# plot bins from result\n",
    "cholestoral_label = middle_six[\"cholestoral_label\"].value_counts()\n",
    "cholestoral_label.plot(kind='bar')"
=======
       "Series([], Name: high_sugar, dtype: int64)"
      ]
     },
     "execution_count": 94,
     "metadata": {},
     "output_type": "execute_result"
    }
   ],
   "source": [
    "high_sugar[high_sugar.isna()]"
>>>>>>> 47266e5516ab87a10e42c7b758c30bc97ef201e2
   ]
  },
  {
   "cell_type": "code",
<<<<<<< HEAD
   "execution_count": 14,
=======
   "execution_count": 63,
>>>>>>> 47266e5516ab87a10e42c7b758c30bc97ef201e2
   "metadata": {},
   "outputs": [
    {
     "data": {
      "text/plain": [
<<<<<<< HEAD
       "<matplotlib.axes._subplots.AxesSubplot at 0x1205d6ba8>"
      ]
     },
     "execution_count": 14,
     "metadata": {},
     "output_type": "execute_result"
    },
    {
     "data": {
      "image/png": "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\n",
      "text/plain": [
       "<Figure size 432x288 with 1 Axes>"
      ]
     },
     "metadata": {
      "needs_background": "light"
     },
     "output_type": "display_data"
    }
   ],
   "source": [
    "# find outliers and boxplot\n",
    "sns.boxplot(x=cholestoral)"
=======
       "array([1, 0])"
      ]
     },
     "execution_count": 63,
     "metadata": {},
     "output_type": "execute_result"
    }
   ],
   "source": [
    "high_sugar.unique()"
>>>>>>> 47266e5516ab87a10e42c7b758c30bc97ef201e2
   ]
  },
  {
   "cell_type": "code",
<<<<<<< HEAD
   "execution_count": 15,
=======
   "execution_count": 98,
>>>>>>> 47266e5516ab87a10e42c7b758c30bc97ef201e2
   "metadata": {},
   "outputs": [
    {
     "data": {
      "text/plain": [
<<<<<<< HEAD
       "<matplotlib.axes._subplots.AxesSubplot at 0x1206b16a0>"
      ]
     },
     "execution_count": 15,
=======
       "<matplotlib.axes._subplots.AxesSubplot at 0x130fd5ef0>"
      ]
     },
     "execution_count": 98,
>>>>>>> 47266e5516ab87a10e42c7b758c30bc97ef201e2
     "metadata": {},
     "output_type": "execute_result"
    },
    {
     "data": {
<<<<<<< HEAD
      "image/png": "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\n",
=======
      "image/png": "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\n",
>>>>>>> 47266e5516ab87a10e42c7b758c30bc97ef201e2
      "text/plain": [
       "<Figure size 432x288 with 1 Axes>"
      ]
     },
     "metadata": {
      "needs_background": "light"
     },
     "output_type": "display_data"
    }
   ],
   "source": [
<<<<<<< HEAD
    "without_outlier = cholestoral.between(cholestoral.quantile(.15), cholestoral.quantile(.85))\n",
    "outlier = ~without_outlier\n",
    "cholestoral_without_outlier = cholestoral[without_outlier] # without outliers\n",
    "sns.boxplot(x=cholestoral_without_outlier)"
=======
    "high_sugar.plot.hist()"
>>>>>>> 47266e5516ab87a10e42c7b758c30bc97ef201e2
   ]
  },
  {
   "cell_type": "code",
<<<<<<< HEAD
   "execution_count": 16,
   "metadata": {},
   "outputs": [
    {
     "data": {
      "text/plain": [
       "<matplotlib.axes._subplots.AxesSubplot at 0x12077f208>"
      ]
     },
     "execution_count": 16,
     "metadata": {},
     "output_type": "execute_result"
    },
    {
     "data": {
      "image/png": "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\n",
      "text/plain": [
       "<Figure size 432x288 with 1 Axes>"
      ]
     },
     "metadata": {
      "needs_background": "light"
     },
     "output_type": "display_data"
    }
   ],
   "source": [
    "cholestoral_without_outlier.plot.hist()"
   ]
  },
  {
   "cell_type": "code",
   "execution_count": 17,
   "metadata": {},
   "outputs": [
    {
     "data": {
      "text/plain": [
       "<matplotlib.axes._subplots.AxesSubplot at 0x120869780>"
      ]
     },
     "execution_count": 17,
     "metadata": {},
     "output_type": "execute_result"
    },
    {
     "data": {
      "image/png": "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\n",
      "text/plain": [
       "<Figure size 432x288 with 1 Axes>"
      ]
     },
     "metadata": {
      "needs_background": "light"
     },
     "output_type": "display_data"
    }
   ],
   "source": [
    "cholestoral_with_outlier = cholestoral[outlier] # without outliers\n",
    "sns.boxplot(x=cholestoral_with_outlier)"
   ]
  },
  {
   "cell_type": "code",
   "execution_count": 18,
   "metadata": {},
   "outputs": [
    {
     "name": "stdout",
     "output_type": "stream",
     "text": [
      "0      1\n",
      "1      0\n",
      "2      0\n",
      "3      0\n",
      "4      0\n",
      "      ..\n",
      "223    0\n",
      "224    1\n",
      "225    0\n",
      "226    0\n",
      "227    0\n",
      "Name: high_sugar, Length: 228, dtype: int64 \n",
      "\n",
      "陣列中的總和---------------> 32\n",
      "陣列中的平均值-------------> 0.14035087719298245\n",
      "陣列中最小值---------------> 0\n",
      "陣列中第一四分位---------------> 0.0\n",
      "陣列中middle two的平均值---> 0.0\n",
      "陣列中第三四分位---------------> 0.0\n",
      "陣列中最大值---------------> 1\n",
      "陣列中的個數---------------> 228\n",
      "nan 個數: 0, 值為: Series([], Name: high_sugar, dtype: int64)\n",
      "unique value: [1 0]\n"
     ]
    },
    {
     "data": {
      "text/plain": [
       "0      1\n",
       "1      0\n",
       "2      0\n",
       "3      0\n",
       "4      0\n",
       "      ..\n",
       "223    0\n",
       "224    1\n",
       "225    0\n",
       "226    0\n",
       "227    0\n",
       "Name: high_sugar, Length: 228, dtype: int64"
      ]
     },
     "execution_count": 18,
     "metadata": {},
     "output_type": "execute_result"
    }
   ],
   "source": [
    "# high_sugar column\n",
    "high_sugar = middle_six.iloc[:,1]\n",
    "print(high_sugar, \"\\n\")\n",
    "print('陣列中的總和--------------->',high_sugar.sum())\n",
    "print('陣列中的平均值------------->',high_sugar.mean())\n",
    "print('陣列中最小值--------------->',high_sugar.min())\n",
    "print('陣列中第一四分位--------------->',high_sugar.quantile([0.25]).values[0])\n",
    "print('陣列中middle two的平均值--->',high_sugar.median())\n",
    "print('陣列中第三四分位--------------->',high_sugar.quantile([0.75]).values[0])\n",
    "print('陣列中最大值--------------->',high_sugar.max())\n",
    "print('陣列中的個數--------------->',high_sugar.count())\n",
    "print('nan 個數: {}, 值為: {}'.format(len(high_sugar[high_sugar.isna()]), high_sugar[high_sugar.isna()]))\n",
    "print('unique value: {}'.format(high_sugar.unique()))\n",
    "high_sugar"
   ]
  },
  {
   "cell_type": "code",
   "execution_count": 19,
   "metadata": {},
   "outputs": [
    {
     "data": {
      "text/plain": [
       "<matplotlib.axes._subplots.AxesSubplot at 0x12093c668>"
      ]
     },
     "execution_count": 19,
     "metadata": {},
     "output_type": "execute_result"
    },
    {
     "data": {
      "image/png": "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\n",
      "text/plain": [
       "<Figure size 432x288 with 1 Axes>"
      ]
     },
     "metadata": {
      "needs_background": "light"
     },
     "output_type": "display_data"
    }
   ],
   "source": [
    "# plot high sugar\n",
    "high_sugar.plot.hist()"
   ]
  },
  {
   "cell_type": "code",
   "execution_count": 20,
=======
   "execution_count": 105,
>>>>>>> 47266e5516ab87a10e42c7b758c30bc97ef201e2
   "metadata": {},
   "outputs": [
    {
     "data": {
      "text/html": [
       "<div>\n",
       "<style scoped>\n",
       "    .dataframe tbody tr th:only-of-type {\n",
       "        vertical-align: middle;\n",
       "    }\n",
       "\n",
       "    .dataframe tbody tr th {\n",
       "        vertical-align: top;\n",
       "    }\n",
       "\n",
       "    .dataframe thead th {\n",
       "        text-align: right;\n",
       "    }\n",
       "</style>\n",
       "<table border=\"1\" class=\"dataframe\">\n",
       "  <thead>\n",
       "    <tr style=\"text-align: right;\">\n",
       "      <th>heart_disease</th>\n",
       "      <th>0</th>\n",
       "      <th>1</th>\n",
       "    </tr>\n",
       "    <tr>\n",
       "      <th>high_sugar</th>\n",
       "      <th></th>\n",
       "      <th></th>\n",
       "    </tr>\n",
       "  </thead>\n",
       "  <tbody>\n",
       "    <tr>\n",
       "      <th>0</th>\n",
       "      <td>103</td>\n",
       "      <td>93</td>\n",
       "    </tr>\n",
       "    <tr>\n",
       "      <th>1</th>\n",
       "      <td>17</td>\n",
       "      <td>15</td>\n",
       "    </tr>\n",
       "  </tbody>\n",
       "</table>\n",
       "</div>"
      ],
      "text/plain": [
       "heart_disease    0   1\n",
       "high_sugar            \n",
       "0              103  93\n",
       "1               17  15"
      ]
     },
<<<<<<< HEAD
     "execution_count": 20,
=======
     "execution_count": 105,
>>>>>>> 47266e5516ab87a10e42c7b758c30bc97ef201e2
     "metadata": {},
     "output_type": "execute_result"
    }
   ],
   "source": [
<<<<<<< HEAD
    "# contigency table between answer\n",
=======
>>>>>>> 47266e5516ab87a10e42c7b758c30bc97ef201e2
    "crosstab_high_sugar = pd.crosstab(middle_six.high_sugar, middle_six.heart_disease)\n",
    "crosstab_high_sugar"
   ]
  },
  {
   "cell_type": "code",
<<<<<<< HEAD
   "execution_count": 21,
   "metadata": {},
   "outputs": [
    {
     "name": "stdout",
     "output_type": "stream",
     "text": [
      "===Chi Square Test===\n",
      "\n",
      "===Chi2 Stat===\n",
      "0.017065263605442114\n",
      "\n",
      "===Degrees of Freedom===\n",
      "1\n",
      "\n",
      "===P-Value===\n",
      "0.8960647795279932\n",
      "\n",
      "===Contingency Table===\n",
      "[[103.15789474  92.84210526]\n",
      " [ 16.84210526  15.15789474]]\n",
      "significance=0.050, p=0.896\n",
      "\n",
      "Variables are not associated(fail to reject H0)\n",
      "\n",
      "===Mutual Information's score=== \n",
      "7.974368301910673e-06\n"
     ]
    }
   ],
   "source": [
    "# get mutal information and chi square's p value\n",
    "mi_score = mutual_info_score(middle_six.high_sugar.values, middle_six.heart_disease.values, crosstab_high_sugar.values)\n",
    "chi2_stat, p, dof, ex = stats.chi2_contingency(crosstab_high_sugar.values)\n",
    "\n",
    "# select significance value\n",
    "alpha = 0.05\n",
    "\n",
    "print(\"===Chi Square Test===\\n\")\n",
    "print(\"===Chi2 Stat===\")\n",
    "print(chi2_stat)\n",
    "print(\"\\n===Degrees of Freedom===\")\n",
    "print(dof)\n",
    "print(\"\\n===P-Value===\")\n",
    "print(p)\n",
    "print(\"\\n===Contingency Table===\")\n",
    "print(ex)\n",
    "\n",
    "# Determine whether to reject or keep your null hypothesis\n",
    "print('significance=%.3f, p=%.3f' % (alpha, p))\n",
    "if p <= alpha:\n",
    "    print('\\nVariables are associated (reject H0)')\n",
    "else:\n",
    "    print('\\nVariables are not associated(fail to reject H0)')\n",
    "\n",
    "print(\"\\n===Mutual Information's score=== \\n{}\".format(mi_score))\n"
   ]
  },
  {
   "cell_type": "code",
   "execution_count": 22,
=======
   "execution_count": 106,
>>>>>>> 47266e5516ab87a10e42c7b758c30bc97ef201e2
   "metadata": {},
   "outputs": [
    {
     "data": {
      "text/plain": [
<<<<<<< HEAD
       "<matplotlib.axes._subplots.AxesSubplot at 0x120a1ab70>"
      ]
     },
     "execution_count": 22,
=======
       "<matplotlib.axes._subplots.AxesSubplot at 0x132501b00>"
      ]
     },
     "execution_count": 106,
>>>>>>> 47266e5516ab87a10e42c7b758c30bc97ef201e2
     "metadata": {},
     "output_type": "execute_result"
    },
    {
     "data": {
      "image/png": "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\n",
      "text/plain": [
       "<Figure size 432x288 with 1 Axes>"
      ]
     },
     "metadata": {
      "needs_background": "light"
     },
     "output_type": "display_data"
    }
   ],
   "source": [
<<<<<<< HEAD
    "# plot bar chart base on Contingency\n",
=======
>>>>>>> 47266e5516ab87a10e42c7b758c30bc97ef201e2
    "crosstab_high_sugar.plot.bar(stacked=True)"
   ]
  },
  {
   "cell_type": "code",
<<<<<<< HEAD
   "execution_count": 23,
=======
   "execution_count": 83,
>>>>>>> 47266e5516ab87a10e42c7b758c30bc97ef201e2
   "metadata": {},
   "outputs": [
    {
     "data": {
      "text/html": [
       "<div>\n",
       "<style scoped>\n",
       "    .dataframe tbody tr th:only-of-type {\n",
       "        vertical-align: middle;\n",
       "    }\n",
       "\n",
       "    .dataframe tbody tr th {\n",
       "        vertical-align: top;\n",
       "    }\n",
       "\n",
       "    .dataframe thead th {\n",
       "        text-align: right;\n",
       "    }\n",
       "</style>\n",
       "<table border=\"1\" class=\"dataframe\">\n",
       "  <thead>\n",
       "    <tr style=\"text-align: right;\">\n",
       "      <th></th>\n",
       "      <th></th>\n",
       "      <th>cholestoral</th>\n",
       "      <th>ecg</th>\n",
       "      <th>max_rate</th>\n",
       "      <th>exercise_angina</th>\n",
       "      <th>st_depression</th>\n",
       "    </tr>\n",
       "    <tr>\n",
       "      <th>high_sugar</th>\n",
       "      <th>heart_disease</th>\n",
       "      <th></th>\n",
       "      <th></th>\n",
       "      <th></th>\n",
       "      <th></th>\n",
       "      <th></th>\n",
       "    </tr>\n",
       "  </thead>\n",
       "  <tbody>\n",
       "    <tr>\n",
       "      <th rowspan=\"2\" valign=\"top\">0</th>\n",
       "      <th>0</th>\n",
       "      <td>241.980583</td>\n",
       "      <td>0.902913</td>\n",
       "      <td>157.747573</td>\n",
       "      <td>0.165049</td>\n",
       "      <td>0.566990</td>\n",
       "    </tr>\n",
       "    <tr>\n",
       "      <th>1</th>\n",
       "      <td>255.043011</td>\n",
       "      <td>1.150538</td>\n",
       "      <td>138.967742</td>\n",
       "      <td>0.505376</td>\n",
       "      <td>1.505376</td>\n",
       "    </tr>\n",
       "    <tr>\n",
       "      <th rowspan=\"2\" valign=\"top\">1</th>\n",
       "      <th>0</th>\n",
       "      <td>239.117647</td>\n",
       "      <td>0.705882</td>\n",
       "      <td>156.470588</td>\n",
       "      <td>0.058824</td>\n",
       "      <td>0.500000</td>\n",
       "    </tr>\n",
       "    <tr>\n",
       "      <th>1</th>\n",
       "      <td>260.866667</td>\n",
       "      <td>1.466667</td>\n",
       "      <td>137.733333</td>\n",
       "      <td>0.600000</td>\n",
       "      <td>1.566667</td>\n",
       "    </tr>\n",
       "  </tbody>\n",
       "</table>\n",
       "</div>"
      ],
      "text/plain": [
       "                          cholestoral       ecg    max_rate  exercise_angina  \\\n",
       "high_sugar heart_disease                                                       \n",
       "0          0               241.980583  0.902913  157.747573         0.165049   \n",
       "           1               255.043011  1.150538  138.967742         0.505376   \n",
       "1          0               239.117647  0.705882  156.470588         0.058824   \n",
       "           1               260.866667  1.466667  137.733333         0.600000   \n",
       "\n",
       "                          st_depression  \n",
       "high_sugar heart_disease                 \n",
       "0          0                   0.566990  \n",
       "           1                   1.505376  \n",
       "1          0                   0.500000  \n",
       "           1                   1.566667  "
      ]
     },
<<<<<<< HEAD
     "execution_count": 23,
=======
     "execution_count": 83,
>>>>>>> 47266e5516ab87a10e42c7b758c30bc97ef201e2
     "metadata": {},
     "output_type": "execute_result"
    }
   ],
   "source": [
<<<<<<< HEAD
    "# 分組的方式印出列中表\n",
=======
>>>>>>> 47266e5516ab87a10e42c7b758c30bc97ef201e2
    "high_sugar_groupby = middle_six.groupby([\"high_sugar\", \"heart_disease\"]).mean()\n",
    "# high_sugar_groupby = pd.pivot_table(middle_six, index=[\"high_sugar\", \"heart_disease\"])\n",
    "high_sugar_groupby"
   ]
  },
  {
   "cell_type": "code",
<<<<<<< HEAD
   "execution_count": 24,
=======
   "execution_count": 112,
>>>>>>> 47266e5516ab87a10e42c7b758c30bc97ef201e2
   "metadata": {},
   "outputs": [
    {
     "data": {
      "text/plain": [
<<<<<<< HEAD
       "<matplotlib.axes._subplots.AxesSubplot at 0x120ae4a58>"
      ]
     },
     "execution_count": 24,
=======
       "<matplotlib.axes._subplots.AxesSubplot at 0x1328f9e48>"
      ]
     },
     "execution_count": 112,
>>>>>>> 47266e5516ab87a10e42c7b758c30bc97ef201e2
     "metadata": {},
     "output_type": "execute_result"
    },
    {
     "data": {
      "image/png": "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\n",
      "text/plain": [
       "<Figure size 432x288 with 1 Axes>"
      ]
     },
     "metadata": {
      "needs_background": "light"
     },
     "output_type": "display_data"
    }
   ],
   "source": [
<<<<<<< HEAD
    "# 畫出折線圖\n",
=======
>>>>>>> 47266e5516ab87a10e42c7b758c30bc97ef201e2
    "high_sugar_groupby.plot.line()"
   ]
  },
  {
   "cell_type": "code",
<<<<<<< HEAD
   "execution_count": 25,
   "metadata": {},
   "outputs": [
    {
     "name": "stdout",
     "output_type": "stream",
     "text": [
      "0      2\n",
      "1      2\n",
      "2      2\n",
      "3      2\n",
      "4      0\n",
      "      ..\n",
      "223    0\n",
      "224    2\n",
      "225    0\n",
      "226    0\n",
      "227    0\n",
      "Name: ecg, Length: 228, dtype: int64 \n",
      "\n",
      "陣列中的總和---------------> 234\n",
      "陣列中的平均值-------------> 1.0263157894736843\n",
      "陣列中最小值---------------> 0\n",
      "陣列中第一四分位---------------> 0.0\n",
      "陣列中middle two的平均值---> 2.0\n",
      "陣列中第三四分位---------------> 2.0\n",
      "陣列中最大值---------------> 2\n",
      "陣列中的個數---------------> 228\n",
      "nan 個數: 0, 值為: Series([], Name: ecg, dtype: int64)\n",
      "unique value: [2 0 1]\n"
     ]
    },
    {
=======
   "execution_count": 21,
   "metadata": {},
   "outputs": [
    {
>>>>>>> 47266e5516ab87a10e42c7b758c30bc97ef201e2
     "data": {
      "text/plain": [
       "0      2\n",
       "1      2\n",
       "2      2\n",
       "3      2\n",
       "4      0\n",
       "      ..\n",
       "223    0\n",
       "224    2\n",
       "225    0\n",
       "226    0\n",
       "227    0\n",
       "Name: ecg, Length: 228, dtype: int64"
      ]
     },
<<<<<<< HEAD
     "execution_count": 25,
=======
     "execution_count": 21,
>>>>>>> 47266e5516ab87a10e42c7b758c30bc97ef201e2
     "metadata": {},
     "output_type": "execute_result"
    }
   ],
   "source": [
    "# ecg column\n",
    "ecg = middle_six.iloc[:,2]\n",
<<<<<<< HEAD
    "print(ecg, \"\\n\")\n",
    "print('陣列中的總和--------------->',ecg.sum())\n",
    "print('陣列中的平均值------------->',ecg.mean())\n",
    "print('陣列中最小值--------------->',ecg.min())\n",
    "print('陣列中第一四分位--------------->',ecg.quantile([0.25]).values[0])\n",
    "print('陣列中middle two的平均值--->',ecg.median())\n",
    "print('陣列中第三四分位--------------->',ecg.quantile([0.75]).values[0])\n",
    "print('陣列中最大值--------------->',ecg.max())\n",
    "print('陣列中的個數--------------->',ecg.count())\n",
    "print('nan 個數: {}, 值為: {}'.format(len(ecg[ecg.isna()]), ecg[ecg.isna()]))\n",
    "print('unique value: {}'.format(ecg.unique()))\n",
=======
>>>>>>> 47266e5516ab87a10e42c7b758c30bc97ef201e2
    "ecg"
   ]
  },
  {
   "cell_type": "code",
<<<<<<< HEAD
   "execution_count": 26,
=======
   "execution_count": 99,
>>>>>>> 47266e5516ab87a10e42c7b758c30bc97ef201e2
   "metadata": {},
   "outputs": [
    {
     "data": {
      "text/plain": [
<<<<<<< HEAD
       "<matplotlib.axes._subplots.AxesSubplot at 0x120c25470>"
      ]
     },
     "execution_count": 26,
=======
       "<matplotlib.axes._subplots.AxesSubplot at 0x1321d3128>"
      ]
     },
     "execution_count": 99,
>>>>>>> 47266e5516ab87a10e42c7b758c30bc97ef201e2
     "metadata": {},
     "output_type": "execute_result"
    },
    {
     "data": {
      "image/png": "iVBORw0KGgoAAAANSUhEUgAAAYUAAAD7CAYAAACFfIhNAAAABHNCSVQICAgIfAhkiAAAAAlwSFlzAAALEgAACxIB0t1+/AAAADh0RVh0U29mdHdhcmUAbWF0cGxvdGxpYiB2ZXJzaW9uMy4xLjIsIGh0dHA6Ly9tYXRwbG90bGliLm9yZy8li6FKAAATI0lEQVR4nO3dfbAldX3n8ffHQUCMy4MzIYQHZ0im4mJWy8mNZTQPKtkSJTJk13WxzO5o2EzcEKNrKhEkFayt2lqsZIOap82smgxZF0F8gETczYAYa9dlyIxBHkVGQJ0R5cYnJFog+M0fp297uN6ZOffO7e7LPe9X1anb/evu019+t7mf6f6d052qQpIkgCcMXYAkaeUwFCRJLUNBktQyFCRJLUNBktQyFCRJrc5CIcm7k9yf5Naxtt9L8ukkNyf5YJJjxpZdkGRPkjuTvLiruiRJ+9flmcJfAGfMa9sB/HhVPRP4DHABQJLTgHOAZzTb/EmSNR3WJklawGFdvXFVfTzJ+nltfzM2ewPw8mZ6M/DeqnoIuCfJHuA5wP8/0D7Wrl1b69evP9AqkqR5du/e/Q9VtW6hZZ2FwgR+Gbi8mT6RUUjM2du0HdD69evZtWtXB6VJ0uqV5HP7WzbIQHOSC4FHgPcsYdutSXYl2TU7O7v8xUnSFOs9FJK8GvgF4FX1vRsv7QNOHlvtpKbt+1TVtqqaqaqZdesWPPuRJC1Rr6GQ5Azgt4GzqupbY4uuBs5JckSSDcBG4MY+a5MkdTimkOQy4AXA2iR7gYsYfdroCGBHEoAbquq1VXVbkiuA2xldVjqvqh7tqjZJ0sLyeL519szMTDnQLEmLk2R3Vc0stMxvNEuSWoaCJKllKEiSWoaCJKk15DeaJelxbf35Hx5s3/defGYn7+uZgiSpZShIklqGgiSpZShIklqGgiSpZShIklqGgiSpZShIklqGgiSpZShIklpTe5uL1fj1dEk6VJ4pSJJahoIkqWUoSJJahoIkqWUoSJJahoIkqWUoSJJahoIkqWUoSJJahoIkqWUoSJJanYVCkncnuT/JrWNtxyXZkeSu5uexTXuSvCPJniQ3J9nUVV2SpP3r8kzhL4Az5rWdD1xXVRuB65p5gJcAG5vXVuBPO6xLkrQfnYVCVX0c+Oq85s3A9mZ6O3D2WPulNXIDcEySE7qqTZK0sL7HFI6vqvua6S8BxzfTJwJfGFtvb9MmSerRYAPNVVVALXa7JFuT7Eqya3Z2toPKJGl69R0KX567LNT8vL9p3wecPLbeSU3b96mqbVU1U1Uz69at67RYSZo2fYfC1cCWZnoLcNVY+79vPoX0XOAbY5eZJEk96exxnEkuA14ArE2yF7gIuBi4Ism5wOeAVzSrXwO8FNgDfAt4TVd1SZL2r7NQqKpX7mfR6QusW8B5XdUiSZqM32iWJLUMBUlSy1CQJLUMBUlSy1CQJLUMBUlSy1CQJLUMBUlSy1CQJLUMBUlSy1CQJLUMBUlSy1CQJLUMBUlSy1CQJLUMBUlSy1CQJLUMBUlSy1CQJLUMBUlSy1CQJLUMBUlSy1CQJLUMBUlSy1CQJLUMBUlSy1CQJLUGCYUk/ynJbUluTXJZkiOTbEiyM8meJJcnOXyI2iRpmvUeCklOBH4DmKmqHwfWAOcAbwUuqaofBb4GnNt3bZI07Ya6fHQY8KQkhwFHAfcBLwKubJZvB84eqDZJmlq9h0JV7QN+H/g8ozD4BrAb+HpVPdKsthc4se/aJGnaDXH56FhgM7AB+GHgycAZi9h+a5JdSXbNzs52VKUkTachLh/9PHBPVc1W1XeADwDPB45pLicBnATsW2jjqtpWVTNVNbNu3bp+KpakKTFEKHweeG6So5IEOB24HbgeeHmzzhbgqgFqk6SpNsSYwk5GA8qfBG5patgGvAl4Y5I9wFOBd/VdmyRNu8MOvsryq6qLgIvmNd8NPGeAciRJDb/RLElqGQqSpJahIElqGQqSpJahIElqGQqSpNZEoZDkX3RdiCRpeJOeKfxJkhuT/FqSozutSJI0mIlCoap+BngVcDKwO8n/SvIvO61MktS7iccUquou4HcY3Y7i54B3JPl0kn/VVXGSpH5NOqbwzCSXAHcwehjOy6rqnzfTl3RYnySpR5Pe++gPgXcCb66qb881VtUXk/xOJ5VJkno3aSicCXy7qh4FSPIE4Miq+lZV/WVn1UmSejXpmMK1wJPG5o9q2iRJq8ikoXBkVT04N9NMH9VNSZKkoUwaCv+YZNPcTJKfAL59gPUlSY9Dk44pvAF4X5IvAgF+CPi3nVUlSRrERKFQVX+X5OnAjzVNd1bVd7orS5I0hMU8jvMngfXNNpuSUFWXdlKVJGkQE4VCkr8EfgS4CXi0aS7AUJCkVWTSM4UZ4LSqqi6LkSQNa9JPH93KaHBZkrSKTXqmsBa4PcmNwENzjVV1VidVSZIGMWkovKXLIiRJK8OkH0n92yRPAzZW1bVJjgLWdFuaJKlvk946+1eAK4E/a5pOBD7UVVGSpGFMOtB8HvB84AFoH7jzg10VJUkaxqSh8FBVPTw3k+QwRt9TWJIkxyS5snly2x1JfirJcUl2JLmr+XnsUt9fkrQ0k4bC3yZ5M/Ck5tnM7wP+6hD2+3bgf1fV04FnMXqi2/nAdVW1EbiumZck9WjSUDgfmAVuAX4VuIbR85oXLcnRwM8C7wKoqoer6uvAZmB7s9p24OylvL8kaekm/fTRd4H/0bwO1QZGAfPnSZ4F7AZeDxxfVfc163wJOH4Z9iVJWoRJ7310DwuMIVTVqUvc5ybgdVW1M8nbmXepqKoqyYJjFkm2AlsBTjnllCXsXpK0P4u599GcI4F/Axy3xH3uBfZW1c5m/kpGofDlJCdU1X1JTgDuX2jjqtoGbAOYmZnxXkyStIwmGlOoqq+MvfZV1duAM5eyw6r6EvCFJHPPZjgduB24GtjStG0BrlrK+0uSlm7Sy0ebxmafwOjMYTHPYpjvdcB7khwO3A28pnnfK5KcC3wOeMUhvL8kaQkm/cP+38amHwHu5RD+aFfVTTz2ktSc05f6npKkQzfpp49e2HUhkqThTXr56I0HWl5Vf7A85UiShrSYTx/9JKPBYICXATcCd3VRlCRpGJOGwknApqr6JkCStwAfrqpf6qowSVL/Jr3NxfHAw2PzD+M3jiVp1Zn0TOFS4MYkH2zmz+Z79ymSJK0Sk3766L8k+QjwM03Ta6rq77srS5I0hEkvHwEcBTxQVW8H9ibZ0FFNkqSBTPo4zouANwEXNE1PBP5nV0VJkoYx6ZnCLwJnAf8IUFVfBJ7SVVGSpGFMGgoPV1XR3D47yZO7K0mSNJRJQ+GKJH8GHJPkV4BrWZ4H7kiSVpBJP330+82zmR8Afgz43ara0WllkqTeHTQUkqwBrm1uimcQSNIqdtDLR1X1KPDdJEf3UI8kaUCTfqP5QeCWJDtoPoEEUFW/0UlVkqRBTBoKH2hekqRV7IChkOSUqvp8VXmfI0maAgcbU/jQ3ESS93dciyRpYAcLhYxNn9plIZKk4R0sFGo/05KkVehgA83PSvIAozOGJzXTNPNVVf+s0+okSb06YChU1Zq+CpEkDW8xz1OQJK1yhoIkqWUoSJJahoIkqTVYKCRZk+Tvk/x1M78hyc4ke5JcnuTwoWqTpGk15JnC64E7xubfClxSVT8KfA04d5CqJGmKDRIKSU4CzgTe2cwHeBFwZbPKduDsIWqTpGk21JnC24DfBr7bzD8V+HpVPdLM7wVOHKIwSZpmvYdCkl8A7q+q3UvcfmuSXUl2zc7OLnN1kjTdhjhTeD5wVpJ7gfcyumz0duCYJHPfsD4J2LfQxlW1rapmqmpm3bp1fdQrSVOj91Coqguq6qSqWg+cA3y0ql4FXA+8vFltC3BV37VJ0rRbSd9TeBPwxiR7GI0xvGvgeiRp6kz6OM5OVNXHgI8103cDzxmyHkmadivpTEGSNDBDQZLUMhQkSS1DQZLUMhQkSS1DQZLUMhQkSS1DQZLUMhQkSS1DQZLUMhQkSS1DQZLUMhQkSS1DQZLUMhQkSS1DQZLUMhQkSS1DQZLUMhQkSS1DQZLUMhQkSS1DQZLUMhQkSS1DQZLUMhQkSS1DQZLUMhQkSa3eQyHJyUmuT3J7ktuSvL5pPy7JjiR3NT+P7bs2SZp2Q5wpPAL8ZlWdBjwXOC/JacD5wHVVtRG4rpmXJPWo91Coqvuq6pPN9DeBO4ATgc3A9ma17cDZfdcmSdNu0DGFJOuBZwM7geOr6r5m0ZeA4wcqS5Km1mChkOQHgPcDb6iqB8aXVVUBtZ/ttibZlWTX7OxsD5VK0vQYJBSSPJFRILynqj7QNH85yQnN8hOA+xfatqq2VdVMVc2sW7eun4IlaUoM8emjAO8C7qiqPxhbdDWwpZneAlzVd22SNO0OG2Cfzwf+HXBLkpuatjcDFwNXJDkX+BzwigFqk6Sp1nsoVNX/BbKfxaf3WYsk6bH8RrMkqWUoSJJahoIkqWUoSJJahoIkqWUoSJJahoIkqWUoSJJahoIkqWUoSJJahoIkqWUoSJJahoIkqWUoSJJahoIkqWUoSJJahoIkqWUoSJJahoIkqWUoSJJahoIkqWUoSJJahoIkqWUoSJJahw1dgLRarT//w4Ps996Lzxxkv1odPFOQJLUMBUlSa8WFQpIzktyZZE+S84euR5KmyYoKhSRrgD8GXgKcBrwyyWnDViVJ02NFhQLwHGBPVd1dVQ8D7wU2D1yTJE2NlRYKJwJfGJvf27RJknrwuPtIapKtwNZm9sEkdy7xrdYC/7A8VS1O3nrAxYPVNYGVWpt1jTnI8QX212KtyLry1kOq62n7W7DSQmEfcPLY/ElNW6uqtgHbDnVHSXZV1cyhvs9yW6l1wcqtzboWx7oWZ9rqWmmXj/4O2JhkQ5LDgXOAqweuSZKmxoo6U6iqR5L8OvB/gDXAu6vqtoHLkqSpsaJCAaCqrgGu6WFXh3wJqiMrtS5YubVZ1+JY1+JMVV2pqi7eV5L0OLTSxhQkSQNalaFwsFtlJDkiyeXN8p1J1o8tu6BpvzPJi3uu641Jbk9yc5LrkjxtbNmjSW5qXss6+D5BXa9OMju2//8wtmxLkrua15ae67pkrKbPJPn62LIu++vdSe5Pcut+lifJO5q6b06yaWxZl/11sLpe1dRzS5JPJHnW2LJ7m/abkuzqua4XJPnG2O/rd8eWdXbbmwnq+q2xmm5tjqnjmmWd9FeSk5Nc3/wduC3J6xdYp9vjq6pW1YvRAPVngVOBw4FPAafNW+fXgP/eTJ8DXN5Mn9asfwSwoXmfNT3W9ULgqGb6P87V1cw/OGB/vRr4owW2PQ64u/l5bDN9bF91zVv/dYw+mNBpfzXv/bPAJuDW/Sx/KfARIMBzgZ1d99eEdT1vbn+MbiWzc2zZvcDagfrrBcBfH+oxsNx1zVv3ZcBHu+4v4ARgUzP9FOAzC/z/2OnxtRrPFCa5VcZmYHszfSVwepI07e+tqoeq6h5gT/N+vdRVVddX1bea2RsYfU+ja4dya5EXAzuq6qtV9TVgB3DGQHW9ErhsmfZ9QFX1ceCrB1hlM3BpjdwAHJPkBLrtr4PWVVWfaPYL/R1fk/TX/nR625tF1tXL8VVV91XVJ5vpbwJ38P13dej0+FqNoTDJrTLadarqEeAbwFMn3LbLusady+hfA3OOTLIryQ1Jzl6mmhZT179uTlWvTDL3BcMV0V/NZbYNwEfHmrvqr0nsr/aVdBuX+cdXAX+TZHdGdw3o208l+VSSjyR5RtO2IvoryVGM/ri+f6y58/7K6LL2s4Gd8xZ1enytuI+kCpL8EjAD/NxY89Oqal+SU4GPJrmlqj7bU0l/BVxWVQ8l+VVGZ1kv6mnfkzgHuLKqHh1rG7K/VrQkL2QUCj891vzTTX/9ILAjyaebf0n34ZOMfl8PJnkp8CFgY0/7nsTLgP9XVeNnFZ32V5IfYBRCb6iqB5brfSexGs8UDnqrjPF1khwGHA18ZcJtu6yLJD8PXAicVVUPzbVX1b7m593Axxj9C6KXuqrqK2O1vBP4iUm37bKuMecw79S+w/6axP5q77K/JpLkmYx+h5ur6itz7WP9dT/wQZbvsulBVdUDVfVgM30N8MQka1kB/dU40PG17P2V5ImMAuE9VfWBBVbp9vha7oGSoV+Mzn7uZnQ5YW5w6hnz1jmPxw40X9FMP4PHDjTfzfINNE9S17MZDaxtnNd+LHBEM70WuItlGnCbsK4TxqZ/EbihvjewdU9T37HN9HF91dWs93RGg37po7/G9rGe/Q+cnsljBwJv7Lq/JqzrFEbjZM+b1/5k4Clj058Azuixrh+a+/0x+uP6+abvJjoGuqqrWX40o3GHJ/fRX81/96XA2w6wTqfH17J17kp6MRqd/wyjP7AXNm3/mdG/vgGOBN7X/A9yI3Dq2LYXNtvdCbyk57quBb4M3NS8rm7anwfc0vxPcQtwbs91/Vfgtmb/1wNPH9v2l5t+3AO8ps+6mvm3ABfP267r/roMuA/4DqPrtucCrwVe2ywPo4dFfbbZ/0xP/XWwut4JfG3s+NrVtJ/a9NWnmt/zhT3X9etjx9cNjIXWQsdAX3U167ya0YdPxrfrrL8YXdIr4Oax39NL+zy+/EazJKm1GscUJElLZChIklqGgiSpZShIklqGgiSpZShIklqGgiSpZShIklr/BCXsL9jI9CjmAAAAAElFTkSuQmCC\n",
      "text/plain": [
       "<Figure size 432x288 with 1 Axes>"
      ]
     },
     "metadata": {
      "needs_background": "light"
     },
     "output_type": "display_data"
    }
   ],
   "source": [
<<<<<<< HEAD
    "# plot basic histogram\n",
=======
>>>>>>> 47266e5516ab87a10e42c7b758c30bc97ef201e2
    "ecg.plot.hist()"
   ]
  },
  {
   "cell_type": "code",
<<<<<<< HEAD
   "execution_count": 27,
=======
   "execution_count": 107,
>>>>>>> 47266e5516ab87a10e42c7b758c30bc97ef201e2
   "metadata": {},
   "outputs": [
    {
     "data": {
      "text/html": [
       "<div>\n",
       "<style scoped>\n",
       "    .dataframe tbody tr th:only-of-type {\n",
       "        vertical-align: middle;\n",
       "    }\n",
       "\n",
       "    .dataframe tbody tr th {\n",
       "        vertical-align: top;\n",
       "    }\n",
       "\n",
       "    .dataframe thead th {\n",
       "        text-align: right;\n",
       "    }\n",
       "</style>\n",
       "<table border=\"1\" class=\"dataframe\">\n",
       "  <thead>\n",
       "    <tr style=\"text-align: right;\">\n",
       "      <th>heart_disease</th>\n",
       "      <th>0</th>\n",
       "      <th>1</th>\n",
       "    </tr>\n",
       "    <tr>\n",
       "      <th>ecg</th>\n",
       "      <th></th>\n",
       "      <th></th>\n",
       "    </tr>\n",
       "  </thead>\n",
       "  <tbody>\n",
       "    <tr>\n",
       "      <th>0</th>\n",
       "      <td>67</td>\n",
       "      <td>42</td>\n",
       "    </tr>\n",
       "    <tr>\n",
       "      <th>1</th>\n",
       "      <td>1</td>\n",
       "      <td>3</td>\n",
       "    </tr>\n",
       "    <tr>\n",
       "      <th>2</th>\n",
       "      <td>52</td>\n",
       "      <td>63</td>\n",
       "    </tr>\n",
       "  </tbody>\n",
       "</table>\n",
       "</div>"
      ],
      "text/plain": [
       "heart_disease   0   1\n",
       "ecg                  \n",
       "0              67  42\n",
       "1               1   3\n",
       "2              52  63"
      ]
     },
<<<<<<< HEAD
     "execution_count": 27,
=======
     "execution_count": 107,
>>>>>>> 47266e5516ab87a10e42c7b758c30bc97ef201e2
     "metadata": {},
     "output_type": "execute_result"
    }
   ],
   "source": [
<<<<<<< HEAD
    "# contigency table\n",
=======
>>>>>>> 47266e5516ab87a10e42c7b758c30bc97ef201e2
    "crosstab_ecg = pd.crosstab(middle_six.ecg, middle_six.heart_disease)\n",
    "crosstab_ecg"
   ]
  },
  {
   "cell_type": "code",
<<<<<<< HEAD
   "execution_count": 28,
   "metadata": {},
   "outputs": [
    {
     "name": "stdout",
     "output_type": "stream",
     "text": [
      "===Chi Square Test===\n",
      "\n",
      "===Chi2 Stat===\n",
      "7.17441364180295\n",
      "\n",
      "===Degrees of Freedom===\n",
      "2\n",
      "\n",
      "===P-Value===\n",
      "0.02767552526225857\n",
      "\n",
      "===Contingency Table===\n",
      "[[57.36842105 51.63157895]\n",
      " [ 2.10526316  1.89473684]\n",
      " [60.52631579 54.47368421]]\n",
      "significance=0.050, p=0.028\n",
      "\n",
      "Variables are associated (reject H0)\n",
      "\n",
      "===Mutual Information's score=== \n",
      "0.015907271189134244\n"
     ]
    }
   ],
   "source": [
    "# get mutal information and chi square's p value\n",
    "mi_score = mutual_info_score(middle_six.ecg.values, middle_six.heart_disease.values, crosstab_ecg.values)\n",
    "chi2_stat, p, dof, ex = stats.chi2_contingency(crosstab_ecg.values)\n",
    "\n",
    "# select significance value\n",
    "alpha = 0.05\n",
    "\n",
    "print(\"===Chi Square Test===\\n\")\n",
    "print(\"===Chi2 Stat===\")\n",
    "print(chi2_stat)\n",
    "print(\"\\n===Degrees of Freedom===\")\n",
    "print(dof)\n",
    "print(\"\\n===P-Value===\")\n",
    "print(p)\n",
    "print(\"\\n===Contingency Table===\")\n",
    "print(ex)\n",
    "\n",
    "# Determine whether to reject or keep your null hypothesis\n",
    "print('significance=%.3f, p=%.3f' % (alpha, p))\n",
    "if p <= alpha:\n",
    "    print('\\nVariables are associated (reject H0)')\n",
    "else:\n",
    "    print('\\nVariables are not associated(fail to reject H0)')\n",
    "\n",
    "print(\"\\n===Mutual Information's score=== \\n{}\".format(mi_score))"
   ]
  },
  {
   "cell_type": "code",
   "execution_count": 29,
=======
   "execution_count": 108,
>>>>>>> 47266e5516ab87a10e42c7b758c30bc97ef201e2
   "metadata": {},
   "outputs": [
    {
     "data": {
      "text/plain": [
<<<<<<< HEAD
       "<matplotlib.axes._subplots.AxesSubplot at 0x120d1ee10>"
      ]
     },
     "execution_count": 29,
=======
       "<matplotlib.axes._subplots.AxesSubplot at 0x132601d30>"
      ]
     },
     "execution_count": 108,
>>>>>>> 47266e5516ab87a10e42c7b758c30bc97ef201e2
     "metadata": {},
     "output_type": "execute_result"
    },
    {
     "data": {
      "image/png": "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\n",
      "text/plain": [
       "<Figure size 432x288 with 1 Axes>"
      ]
     },
     "metadata": {
      "needs_background": "light"
     },
     "output_type": "display_data"
    }
   ],
   "source": [
<<<<<<< HEAD
    "# plot bar chart base on conabstigency table\n",
=======
>>>>>>> 47266e5516ab87a10e42c7b758c30bc97ef201e2
    "crosstab_ecg.plot.bar(stacked=True)"
   ]
  },
  {
   "cell_type": "code",
<<<<<<< HEAD
   "execution_count": 30,
=======
   "execution_count": 84,
   "metadata": {},
   "outputs": [
    {
     "data": {
      "text/plain": [
       "array([2, 0, 1])"
      ]
     },
     "execution_count": 84,
     "metadata": {},
     "output_type": "execute_result"
    }
   ],
   "source": [
    "ecg.unique()"
   ]
  },
  {
   "cell_type": "code",
   "execution_count": 85,
>>>>>>> 47266e5516ab87a10e42c7b758c30bc97ef201e2
   "metadata": {},
   "outputs": [
    {
     "data": {
      "text/html": [
       "<div>\n",
       "<style scoped>\n",
       "    .dataframe tbody tr th:only-of-type {\n",
       "        vertical-align: middle;\n",
       "    }\n",
       "\n",
       "    .dataframe tbody tr th {\n",
       "        vertical-align: top;\n",
       "    }\n",
       "\n",
       "    .dataframe thead th {\n",
       "        text-align: right;\n",
       "    }\n",
       "</style>\n",
       "<table border=\"1\" class=\"dataframe\">\n",
       "  <thead>\n",
       "    <tr style=\"text-align: right;\">\n",
       "      <th></th>\n",
       "      <th></th>\n",
       "      <th>cholestoral</th>\n",
       "      <th>high_sugar</th>\n",
       "      <th>max_rate</th>\n",
       "      <th>exercise_angina</th>\n",
       "      <th>st_depression</th>\n",
       "    </tr>\n",
       "    <tr>\n",
       "      <th>ecg</th>\n",
       "      <th>heart_disease</th>\n",
       "      <th></th>\n",
       "      <th></th>\n",
       "      <th></th>\n",
       "      <th></th>\n",
       "      <th></th>\n",
       "    </tr>\n",
       "  </thead>\n",
       "  <tbody>\n",
       "    <tr>\n",
       "      <th rowspan=\"2\" valign=\"top\">0</th>\n",
       "      <th>0</th>\n",
       "      <td>237.164179</td>\n",
       "      <td>0.164179</td>\n",
       "      <td>157.522388</td>\n",
       "      <td>0.119403</td>\n",
       "      <td>0.516418</td>\n",
       "    </tr>\n",
       "    <tr>\n",
       "      <th>1</th>\n",
       "      <td>246.428571</td>\n",
       "      <td>0.095238</td>\n",
       "      <td>137.214286</td>\n",
       "      <td>0.571429</td>\n",
       "      <td>1.476190</td>\n",
       "    </tr>\n",
       "    <tr>\n",
       "      <th rowspan=\"2\" valign=\"top\">1</th>\n",
       "      <th>0</th>\n",
       "      <td>197.000000</td>\n",
       "      <td>0.000000</td>\n",
       "      <td>116.000000</td>\n",
       "      <td>0.000000</td>\n",
       "      <td>1.100000</td>\n",
       "    </tr>\n",
       "    <tr>\n",
       "      <th>1</th>\n",
       "      <td>283.333333</td>\n",
       "      <td>0.000000</td>\n",
       "      <td>129.000000</td>\n",
       "      <td>0.666667</td>\n",
       "      <td>3.266667</td>\n",
       "    </tr>\n",
       "    <tr>\n",
       "      <th rowspan=\"2\" valign=\"top\">2</th>\n",
       "      <th>0</th>\n",
       "      <td>248.115385</td>\n",
       "      <td>0.115385</td>\n",
       "      <td>158.423077</td>\n",
       "      <td>0.192308</td>\n",
       "      <td>0.600000</td>\n",
       "    </tr>\n",
       "    <tr>\n",
       "      <th>1</th>\n",
       "      <td>260.825397</td>\n",
       "      <td>0.174603</td>\n",
       "      <td>140.317460</td>\n",
       "      <td>0.476190</td>\n",
       "      <td>1.455556</td>\n",
       "    </tr>\n",
       "  </tbody>\n",
       "</table>\n",
       "</div>"
      ],
      "text/plain": [
       "                   cholestoral  high_sugar    max_rate  exercise_angina  \\\n",
       "ecg heart_disease                                                         \n",
       "0   0               237.164179    0.164179  157.522388         0.119403   \n",
       "    1               246.428571    0.095238  137.214286         0.571429   \n",
       "1   0               197.000000    0.000000  116.000000         0.000000   \n",
       "    1               283.333333    0.000000  129.000000         0.666667   \n",
       "2   0               248.115385    0.115385  158.423077         0.192308   \n",
       "    1               260.825397    0.174603  140.317460         0.476190   \n",
       "\n",
       "                   st_depression  \n",
       "ecg heart_disease                 \n",
       "0   0                   0.516418  \n",
       "    1                   1.476190  \n",
       "1   0                   1.100000  \n",
       "    1                   3.266667  \n",
       "2   0                   0.600000  \n",
       "    1                   1.455556  "
      ]
     },
<<<<<<< HEAD
     "execution_count": 30,
=======
     "execution_count": 85,
>>>>>>> 47266e5516ab87a10e42c7b758c30bc97ef201e2
     "metadata": {},
     "output_type": "execute_result"
    }
   ],
   "source": [
<<<<<<< HEAD
    "# 分組的方式印出列中表\n",
=======
>>>>>>> 47266e5516ab87a10e42c7b758c30bc97ef201e2
    "ecg_groupby = middle_six.groupby([\"ecg\", \"heart_disease\"]).mean()\n",
    "# ecg_groupby = pd.pivot_table(middle_six, index=[\"ecg\", \"heart_disease\"])\n",
    "ecg_groupby"
   ]
  },
  {
   "cell_type": "code",
<<<<<<< HEAD
   "execution_count": 31,
=======
   "execution_count": 113,
>>>>>>> 47266e5516ab87a10e42c7b758c30bc97ef201e2
   "metadata": {},
   "outputs": [
    {
     "data": {
      "text/plain": [
<<<<<<< HEAD
       "<matplotlib.axes._subplots.AxesSubplot at 0x120e051d0>"
      ]
     },
     "execution_count": 31,
=======
       "<matplotlib.axes._subplots.AxesSubplot at 0x132905cc0>"
      ]
     },
     "execution_count": 113,
>>>>>>> 47266e5516ab87a10e42c7b758c30bc97ef201e2
     "metadata": {},
     "output_type": "execute_result"
    },
    {
     "data": {
      "image/png": "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\n",
      "text/plain": [
       "<Figure size 432x288 with 1 Axes>"
      ]
     },
     "metadata": {
      "needs_background": "light"
     },
     "output_type": "display_data"
    }
   ],
   "source": [
<<<<<<< HEAD
    "# 畫出折線圖\n",
=======
>>>>>>> 47266e5516ab87a10e42c7b758c30bc97ef201e2
    "ecg_groupby.plot.line()"
   ]
  },
  {
   "cell_type": "code",
<<<<<<< HEAD
   "execution_count": 32,
   "metadata": {},
   "outputs": [
    {
     "name": "stdout",
     "output_type": "stream",
     "text": [
      "0      1\n",
      "1      0\n",
      "2      0\n",
      "3      0\n",
      "4      0\n",
      "      ..\n",
      "223    0\n",
      "224    1\n",
      "225    0\n",
      "226    0\n",
      "227    0\n",
      "Name: high_sugar, Length: 228, dtype: int64 \n",
      "\n",
      "陣列中的總和---------------> 33898\n",
      "陣列中的平均值-------------> 148.67543859649123\n",
      "陣列中最小值---------------> 71\n",
      "陣列中第一四分位---------------> 131.0\n",
      "陣列中middle two的平均值---> 152.0\n",
      "陣列中第三四分位---------------> 167.25\n",
      "陣列中最大值---------------> 202\n",
      "陣列中的個數---------------> 228\n",
      "nan 個數: 0, 值為: Series([], Name: max_rate, dtype: int64)\n",
      "unique value: [150 108 129 172 178 163 147 155 148 153 162 168 160 139 171 144 173 114\n",
      " 151 158 120 112 137 157 169 165 123 128 188 109 152 125 142 170 113  99\n",
      " 177 141 180 111 143 182 156 115 145 146 161 186 185 174 159 130 140 190\n",
      " 136  97 132 127 154 175 126 202 103 131 124 179 122  96 138  88 105 166\n",
      " 194 195 106 133 167 192 117 121 116  71 118 181 149 134 164  90]\n"
     ]
    }
   ],
   "source": [
    "# high_sugar column\n",
    "max_rate = middle_six.iloc[:,3]\n",
    "print(high_sugar, \"\\n\")\n",
    "print('陣列中的總和--------------->',max_rate.sum())\n",
    "print('陣列中的平均值------------->',max_rate.mean())\n",
    "print('陣列中最小值--------------->',max_rate.min())\n",
    "print('陣列中第一四分位--------------->',max_rate.quantile([0.25]).values[0])\n",
    "print('陣列中middle two的平均值--->',max_rate.median())\n",
    "print('陣列中第三四分位--------------->',max_rate.quantile([0.75]).values[0])\n",
    "print('陣列中最大值--------------->',max_rate.max())\n",
    "print('陣列中的個數--------------->',max_rate.count())\n",
    "print('nan 個數: {}, 值為: {}'.format(len(max_rate[max_rate.isna()]), max_rate[max_rate.isna()]))\n",
    "print('unique value: {}'.format(max_rate.unique()))"
=======
   "execution_count": 22,
   "metadata": {},
   "outputs": [
    {
     "data": {
      "text/plain": [
       "0      150\n",
       "1      108\n",
       "2      129\n",
       "3      172\n",
       "4      178\n",
       "      ... \n",
       "223    182\n",
       "224     90\n",
       "225    123\n",
       "226    115\n",
       "227    173\n",
       "Name: max_rate, Length: 228, dtype: int64"
      ]
     },
     "execution_count": 22,
     "metadata": {},
     "output_type": "execute_result"
    }
   ],
   "source": [
    "# max_rate column\n",
    "max_rate = middle_six.iloc[:,3]\n",
    "max_rate"
>>>>>>> 47266e5516ab87a10e42c7b758c30bc97ef201e2
   ]
  },
  {
   "cell_type": "code",
<<<<<<< HEAD
   "execution_count": 33,
=======
   "execution_count": 100,
>>>>>>> 47266e5516ab87a10e42c7b758c30bc97ef201e2
   "metadata": {},
   "outputs": [
    {
     "data": {
      "text/plain": [
<<<<<<< HEAD
       "<matplotlib.axes._subplots.AxesSubplot at 0x120ef06a0>"
      ]
     },
     "execution_count": 33,
=======
       "<matplotlib.axes._subplots.AxesSubplot at 0x1322c64e0>"
      ]
     },
     "execution_count": 100,
>>>>>>> 47266e5516ab87a10e42c7b758c30bc97ef201e2
     "metadata": {},
     "output_type": "execute_result"
    },
    {
     "data": {
      "image/png": "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\n",
      "text/plain": [
       "<Figure size 432x288 with 1 Axes>"
      ]
     },
     "metadata": {
      "needs_background": "light"
     },
     "output_type": "display_data"
    }
   ],
   "source": [
<<<<<<< HEAD
    "# plot basic histogram\n",
=======
>>>>>>> 47266e5516ab87a10e42c7b758c30bc97ef201e2
    "max_rate.plot.hist()"
   ]
  },
  {
   "cell_type": "code",
<<<<<<< HEAD
   "execution_count": 34,
=======
   "execution_count": 64,
>>>>>>> 47266e5516ab87a10e42c7b758c30bc97ef201e2
   "metadata": {},
   "outputs": [
    {
     "data": {
      "text/plain": [
<<<<<<< HEAD
       "(5,\n",
       " [71,\n",
       "  103.21739130434786,\n",
       "  124.85000000000002,\n",
       "  145.57142857142858,\n",
       "  161.1935483870968,\n",
       "  178.38297872340428,\n",
       "  202],\n",
       " 7)"
      ]
     },
     "execution_count": 34,
=======
       "array([150, 108, 129, 172, 178, 163, 147, 155, 148, 153, 162, 168, 160,\n",
       "       139, 171, 144, 173, 114, 151, 158, 120, 112, 137, 157, 169, 165,\n",
       "       123, 128, 188, 109, 152, 125, 142, 170, 113,  99, 177, 141, 180,\n",
       "       111, 143, 182, 156, 115, 145, 146, 161, 186, 185, 174, 159, 130,\n",
       "       140, 190, 136,  97, 132, 127, 154, 175, 126, 202, 103, 131, 124,\n",
       "       179, 122,  96, 138,  88, 105, 166, 194, 195, 106, 133, 167, 192,\n",
       "       117, 121, 116,  71, 118, 181, 149, 134, 164,  90])"
      ]
     },
     "execution_count": 64,
>>>>>>> 47266e5516ab87a10e42c7b758c30bc97ef201e2
     "metadata": {},
     "output_type": "execute_result"
    }
   ],
   "source": [
<<<<<<< HEAD
    "# 根據上面 histogram，試著找到最佳分群來當作 bin 區間\n",
    "Sum_of_squared_distances = []\n",
    "Sum_of_squared_thre = 0.3\n",
    "current_k = 0\n",
    "current_dst = 0\n",
    "center = None\n",
    "max_rate_val = max_rate.values\n",
    "max_rate_val = max_rate_val.reshape(-1,1)\n",
    "K = range(1,15)\n",
    "for k in K:\n",
    "    km = KMeans(n_clusters=k)\n",
    "    km = km.fit(max_rate_val)\n",
    "    if k == 1 :\n",
    "        current_dst = km.inertia_\n",
    "        current_k = k\n",
    "        center = km.cluster_centers_\n",
    "    else :\n",
    "        if np.abs(current_dst - km.inertia_)/current_dst >= Sum_of_squared_thre :\n",
    "            current_k = k\n",
    "            center = km.cluster_centers_\n",
    "        current_dst = km.inertia_\n",
    "    Sum_of_squared_distances.append(current_dst)\n",
    "\n",
    "final_center = []\n",
    "center = center.astype(np.float64)\n",
    "center = center.reshape(-1)\n",
    "center = np.sort(center)\n",
    "center = center.tolist()\n",
    "final_center.append(max_rate_val.min())\n",
    "final_center.extend(center)\n",
    "final_center.append(max_rate_val.max())\n",
    "current_k, final_center, len(final_center)"
=======
    "max_rate.unique()"
   ]
  },
  {
   "cell_type": "code",
   "execution_count": 23,
   "metadata": {},
   "outputs": [
    {
     "data": {
      "text/plain": [
       "0      0\n",
       "1      1\n",
       "2      1\n",
       "3      0\n",
       "4      0\n",
       "      ..\n",
       "223    0\n",
       "224    0\n",
       "225    1\n",
       "226    1\n",
       "227    0\n",
       "Name: exercise_angina, Length: 228, dtype: int64"
      ]
     },
     "execution_count": 23,
     "metadata": {},
     "output_type": "execute_result"
    }
   ],
   "source": [
    "# exercise_angina column\n",
    "exercise_angina = middle_six.iloc[:,4]\n",
    "exercise_angina"
>>>>>>> 47266e5516ab87a10e42c7b758c30bc97ef201e2
   ]
  },
  {
   "cell_type": "code",
<<<<<<< HEAD
   "execution_count": 35,
=======
   "execution_count": 101,
>>>>>>> 47266e5516ab87a10e42c7b758c30bc97ef201e2
   "metadata": {},
   "outputs": [
    {
     "data": {
<<<<<<< HEAD
      "image/png": "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\n",
=======
      "text/plain": [
       "<matplotlib.axes._subplots.AxesSubplot at 0x1323b0828>"
      ]
     },
     "execution_count": 101,
     "metadata": {},
     "output_type": "execute_result"
    },
    {
     "data": {
      "image/png": "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\n",
>>>>>>> 47266e5516ab87a10e42c7b758c30bc97ef201e2
      "text/plain": [
       "<Figure size 432x288 with 1 Axes>"
      ]
     },
     "metadata": {
      "needs_background": "light"
     },
     "output_type": "display_data"
    }
   ],
   "source": [
<<<<<<< HEAD
    "# plot k means result\n",
    "plt.plot(K, Sum_of_squared_distances, 'bx-')\n",
    "plt.xlabel('k')\n",
    "plt.ylabel('Sum_of_squared_distances')\n",
    "plt.title('Elbow Method For Optimal k')\n",
    "plt.show()"
=======
    "exercise_angina.plot.hist()"
>>>>>>> 47266e5516ab87a10e42c7b758c30bc97ef201e2
   ]
  },
  {
   "cell_type": "code",
<<<<<<< HEAD
   "execution_count": 36,
=======
   "execution_count": 109,
>>>>>>> 47266e5516ab87a10e42c7b758c30bc97ef201e2
   "metadata": {},
   "outputs": [
    {
     "data": {
      "text/html": [
       "<div>\n",
       "<style scoped>\n",
       "    .dataframe tbody tr th:only-of-type {\n",
       "        vertical-align: middle;\n",
       "    }\n",
       "\n",
       "    .dataframe tbody tr th {\n",
       "        vertical-align: top;\n",
       "    }\n",
       "\n",
       "    .dataframe thead th {\n",
       "        text-align: right;\n",
       "    }\n",
       "</style>\n",
       "<table border=\"1\" class=\"dataframe\">\n",
       "  <thead>\n",
       "    <tr style=\"text-align: right;\">\n",
<<<<<<< HEAD
       "      <th></th>\n",
       "      <th>cholestoral</th>\n",
       "      <th>high_sugar</th>\n",
       "      <th>ecg</th>\n",
       "      <th>max_rate</th>\n",
       "      <th>exercise_angina</th>\n",
       "      <th>st_depression</th>\n",
       "      <th>heart_disease</th>\n",
       "      <th>cholestoral_label</th>\n",
       "      <th>max_rate_label</th>\n",
       "    </tr>\n",
       "  </thead>\n",
       "  <tbody>\n",
       "    <tr>\n",
       "      <th>0</th>\n",
       "      <td>233</td>\n",
       "      <td>1</td>\n",
       "      <td>2</td>\n",
       "      <td>150</td>\n",
       "      <td>0</td>\n",
       "      <td>2.3</td>\n",
       "      <td>0</td>\n",
       "      <td>2</td>\n",
       "      <td>3</td>\n",
       "    </tr>\n",
       "    <tr>\n",
       "      <th>1</th>\n",
       "      <td>286</td>\n",
       "      <td>0</td>\n",
       "      <td>2</td>\n",
       "      <td>108</td>\n",
       "      <td>1</td>\n",
       "      <td>1.5</td>\n",
       "      <td>1</td>\n",
       "      <td>4</td>\n",
       "      <td>1</td>\n",
       "    </tr>\n",
       "    <tr>\n",
       "      <th>2</th>\n",
       "      <td>229</td>\n",
       "      <td>0</td>\n",
       "      <td>2</td>\n",
       "      <td>129</td>\n",
       "      <td>1</td>\n",
       "      <td>2.6</td>\n",
       "      <td>1</td>\n",
       "      <td>2</td>\n",
       "      <td>2</td>\n",
       "    </tr>\n",
       "    <tr>\n",
       "      <th>3</th>\n",
       "      <td>204</td>\n",
       "      <td>0</td>\n",
       "      <td>2</td>\n",
       "      <td>172</td>\n",
       "      <td>0</td>\n",
       "      <td>1.4</td>\n",
       "      <td>0</td>\n",
       "      <td>1</td>\n",
       "      <td>4</td>\n",
       "    </tr>\n",
       "    <tr>\n",
       "      <th>4</th>\n",
       "      <td>236</td>\n",
       "      <td>0</td>\n",
       "      <td>0</td>\n",
       "      <td>178</td>\n",
       "      <td>0</td>\n",
       "      <td>0.8</td>\n",
       "      <td>0</td>\n",
       "      <td>2</td>\n",
       "      <td>4</td>\n",
       "    </tr>\n",
       "    <tr>\n",
       "      <th>...</th>\n",
       "      <td>...</td>\n",
       "      <td>...</td>\n",
       "      <td>...</td>\n",
       "      <td>...</td>\n",
       "      <td>...</td>\n",
       "      <td>...</td>\n",
       "      <td>...</td>\n",
       "      <td>...</td>\n",
       "      <td>...</td>\n",
       "    </tr>\n",
       "    <tr>\n",
       "      <th>223</th>\n",
       "      <td>157</td>\n",
       "      <td>0</td>\n",
       "      <td>0</td>\n",
       "      <td>182</td>\n",
       "      <td>0</td>\n",
       "      <td>0.0</td>\n",
       "      <td>0</td>\n",
       "      <td>0</td>\n",
       "      <td>5</td>\n",
       "    </tr>\n",
       "    <tr>\n",
       "      <th>224</th>\n",
       "      <td>176</td>\n",
       "      <td>1</td>\n",
       "      <td>2</td>\n",
       "      <td>90</td>\n",
       "      <td>0</td>\n",
       "      <td>1.0</td>\n",
       "      <td>1</td>\n",
       "      <td>1</td>\n",
       "      <td>0</td>\n",
       "    </tr>\n",
       "    <tr>\n",
       "      <th>225</th>\n",
       "      <td>241</td>\n",
       "      <td>0</td>\n",
       "      <td>0</td>\n",
       "      <td>123</td>\n",
       "      <td>1</td>\n",
       "      <td>0.2</td>\n",
       "      <td>1</td>\n",
       "      <td>3</td>\n",
       "      <td>1</td>\n",
       "    </tr>\n",
       "    <tr>\n",
       "      <th>226</th>\n",
       "      <td>131</td>\n",
       "      <td>0</td>\n",
       "      <td>0</td>\n",
       "      <td>115</td>\n",
       "      <td>1</td>\n",
       "      <td>1.2</td>\n",
       "      <td>1</td>\n",
       "      <td>0</td>\n",
       "      <td>1</td>\n",
       "    </tr>\n",
       "    <tr>\n",
       "      <th>227</th>\n",
       "      <td>175</td>\n",
       "      <td>0</td>\n",
       "      <td>0</td>\n",
       "      <td>173</td>\n",
       "      <td>0</td>\n",
       "      <td>0.0</td>\n",
       "      <td>0</td>\n",
       "      <td>1</td>\n",
       "      <td>4</td>\n",
       "    </tr>\n",
       "  </tbody>\n",
       "</table>\n",
       "<p>228 rows × 9 columns</p>\n",
       "</div>"
      ],
      "text/plain": [
       "     cholestoral  high_sugar  ecg  max_rate  exercise_angina  st_depression  \\\n",
       "0            233           1    2       150                0            2.3   \n",
       "1            286           0    2       108                1            1.5   \n",
       "2            229           0    2       129                1            2.6   \n",
       "3            204           0    2       172                0            1.4   \n",
       "4            236           0    0       178                0            0.8   \n",
       "..           ...         ...  ...       ...              ...            ...   \n",
       "223          157           0    0       182                0            0.0   \n",
       "224          176           1    2        90                0            1.0   \n",
       "225          241           0    0       123                1            0.2   \n",
       "226          131           0    0       115                1            1.2   \n",
       "227          175           0    0       173                0            0.0   \n",
       "\n",
       "     heart_disease cholestoral_label max_rate_label  \n",
       "0                0                 2              3  \n",
       "1                1                 4              1  \n",
       "2                1                 2              2  \n",
       "3                0                 1              4  \n",
       "4                0                 2              4  \n",
       "..             ...               ...            ...  \n",
       "223              0                 0              5  \n",
       "224              1                 1              0  \n",
       "225              1                 3              1  \n",
       "226              1                 0              1  \n",
       "227              0                 1              4  \n",
       "\n",
       "[228 rows x 9 columns]"
      ]
     },
     "execution_count": 36,
     "metadata": {},
     "output_type": "execute_result"
    }
   ],
   "source": [
    "# cut bins by k means result\n",
    "bins = final_center\n",
    "label_name = [str(i) for i in list(range(len(bins)-1))]\n",
    "middle_six[\"max_rate_label\"] = pd.cut(middle_six.max_rate, bins, labels=label_name, include_lowest=True)\n",
    "middle_six"
   ]
  },
  {
   "cell_type": "code",
   "execution_count": 37,
   "metadata": {},
   "outputs": [
    {
     "name": "stdout",
     "output_type": "stream",
     "text": [
      "nan 個數: 0, 值為: Series([], Name: max_rate_label, dtype: category\n",
      "Categories (6, object): [0 < 1 < 2 < 3 < 4 < 5])\n",
      "unique value: [3, 1, 2, 4, 5, 0]\n",
      "Categories (6, object): [0 < 1 < 2 < 3 < 4 < 5]\n"
     ]
    }
   ],
   "source": [
    "max_rate_label = middle_six[\"max_rate_label\"]\n",
    "print('nan 個數: {}, 值為: {}'.format(len(max_rate_label[max_rate_label.isna()]), max_rate_label[max_rate_label.isna()]))\n",
    "print('unique value: {}'.format(max_rate_label.unique()))"
   ]
  },
  {
   "cell_type": "code",
   "execution_count": 38,
   "metadata": {},
   "outputs": [
    {
     "data": {
      "text/plain": [
       "<matplotlib.axes._subplots.AxesSubplot at 0x1210b8860>"
      ]
     },
     "execution_count": 38,
     "metadata": {},
     "output_type": "execute_result"
    },
    {
     "data": {
      "image/png": "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\n",
      "text/plain": [
       "<Figure size 432x288 with 1 Axes>"
      ]
     },
     "metadata": {
      "needs_background": "light"
     },
     "output_type": "display_data"
    }
   ],
   "source": [
    "# plot bins from result\n",
    "max_rate_label = middle_six[\"max_rate_label\"].value_counts()\n",
    "max_rate_label.plot(kind='bar')"
   ]
  },
  {
   "cell_type": "code",
   "execution_count": 39,
   "metadata": {},
   "outputs": [
    {
     "data": {
      "text/plain": [
       "<matplotlib.axes._subplots.AxesSubplot at 0x120fe4828>"
      ]
     },
     "execution_count": 39,
     "metadata": {},
     "output_type": "execute_result"
    },
    {
     "data": {
      "image/png": "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\n",
      "text/plain": [
       "<Figure size 432x288 with 1 Axes>"
      ]
     },
     "metadata": {
      "needs_background": "light"
     },
     "output_type": "display_data"
    }
   ],
   "source": [
    "# find outliers and boxplot\n",
    "sns.boxplot(x=max_rate)"
=======
       "      <th>heart_disease</th>\n",
       "      <th>0</th>\n",
       "      <th>1</th>\n",
       "    </tr>\n",
       "    <tr>\n",
       "      <th>exercise_angina</th>\n",
       "      <th></th>\n",
       "      <th></th>\n",
       "    </tr>\n",
       "  </thead>\n",
       "  <tbody>\n",
       "    <tr>\n",
       "      <th>0</th>\n",
       "      <td>102</td>\n",
       "      <td>52</td>\n",
       "    </tr>\n",
       "    <tr>\n",
       "      <th>1</th>\n",
       "      <td>18</td>\n",
       "      <td>56</td>\n",
       "    </tr>\n",
       "  </tbody>\n",
       "</table>\n",
       "</div>"
      ],
      "text/plain": [
       "heart_disease      0   1\n",
       "exercise_angina         \n",
       "0                102  52\n",
       "1                 18  56"
      ]
     },
     "execution_count": 109,
     "metadata": {},
     "output_type": "execute_result"
    }
   ],
   "source": [
    "crosstab_exercise_angina = pd.crosstab(middle_six.exercise_angina, middle_six.heart_disease)\n",
    "crosstab_exercise_angina"
>>>>>>> 47266e5516ab87a10e42c7b758c30bc97ef201e2
   ]
  },
  {
   "cell_type": "code",
<<<<<<< HEAD
   "execution_count": 40,
=======
   "execution_count": 110,
>>>>>>> 47266e5516ab87a10e42c7b758c30bc97ef201e2
   "metadata": {},
   "outputs": [
    {
     "data": {
      "text/plain": [
<<<<<<< HEAD
       "<matplotlib.axes._subplots.AxesSubplot at 0x1212734e0>"
      ]
     },
     "execution_count": 40,
=======
       "<matplotlib.axes._subplots.AxesSubplot at 0x1326f94a8>"
      ]
     },
     "execution_count": 110,
>>>>>>> 47266e5516ab87a10e42c7b758c30bc97ef201e2
     "metadata": {},
     "output_type": "execute_result"
    },
    {
     "data": {
<<<<<<< HEAD
      "image/png": "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\n",
=======
      "image/png": "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\n",
>>>>>>> 47266e5516ab87a10e42c7b758c30bc97ef201e2
      "text/plain": [
       "<Figure size 432x288 with 1 Axes>"
      ]
     },
     "metadata": {
      "needs_background": "light"
     },
     "output_type": "display_data"
    }
   ],
   "source": [
<<<<<<< HEAD
    "without_outlier = max_rate.between(max_rate.quantile(.15), max_rate.quantile(.85))\n",
    "outlier = ~without_outlier\n",
    "max_rate_without_outlier = max_rate[without_outlier] # without outliers\n",
    "sns.boxplot(x=max_rate_without_outlier)"
=======
    "crosstab_exercise_angina.plot.bar(stacked=True)"
>>>>>>> 47266e5516ab87a10e42c7b758c30bc97ef201e2
   ]
  },
  {
   "cell_type": "code",
<<<<<<< HEAD
   "execution_count": 41,
=======
   "execution_count": 65,
>>>>>>> 47266e5516ab87a10e42c7b758c30bc97ef201e2
   "metadata": {},
   "outputs": [
    {
     "data": {
      "text/plain": [
<<<<<<< HEAD
       "<matplotlib.axes._subplots.AxesSubplot at 0x12133a7f0>"
      ]
     },
     "execution_count": 41,
     "metadata": {},
     "output_type": "execute_result"
    },
    {
     "data": {
      "image/png": "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\n",
      "text/plain": [
       "<Figure size 432x288 with 1 Axes>"
      ]
     },
     "metadata": {
      "needs_background": "light"
     },
     "output_type": "display_data"
    }
   ],
   "source": [
    "max_rate_without_outlier.plot.hist()"
=======
       "array([0, 1])"
      ]
     },
     "execution_count": 65,
     "metadata": {},
     "output_type": "execute_result"
    }
   ],
   "source": [
    "exercise_angina.unique()"
>>>>>>> 47266e5516ab87a10e42c7b758c30bc97ef201e2
   ]
  },
  {
   "cell_type": "code",
<<<<<<< HEAD
   "execution_count": 42,
   "metadata": {},
   "outputs": [
    {
     "data": {
      "text/plain": [
       "<matplotlib.axes._subplots.AxesSubplot at 0x1204d3080>"
      ]
     },
     "execution_count": 42,
     "metadata": {},
     "output_type": "execute_result"
    },
    {
     "data": {
      "image/png": "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\n",
      "text/plain": [
       "<Figure size 432x288 with 1 Axes>"
      ]
     },
     "metadata": {
      "needs_background": "light"
     },
     "output_type": "display_data"
    }
   ],
   "source": [
    "max_rate_with_outlier = max_rate[outlier] # without outliers\n",
    "sns.boxplot(x=max_rate_with_outlier)"
   ]
  },
  {
   "cell_type": "code",
   "execution_count": 43,
   "metadata": {},
   "outputs": [
    {
     "name": "stdout",
     "output_type": "stream",
     "text": [
      "0      0\n",
      "1      1\n",
      "2      1\n",
      "3      0\n",
      "4      0\n",
      "      ..\n",
      "223    0\n",
      "224    0\n",
      "225    1\n",
      "226    1\n",
      "227    0\n",
      "Name: exercise_angina, Length: 228, dtype: int64 \n",
      "\n",
      "陣列中的總和---------------> 74\n",
      "陣列中的平均值-------------> 0.32456140350877194\n",
      "陣列中最小值---------------> 0\n",
      "陣列中第一四分位---------------> 0.0\n",
      "陣列中middle two的平均值---> 0.0\n",
      "陣列中第三四分位---------------> 1.0\n",
      "陣列中最大值---------------> 1\n",
      "陣列中的個數---------------> 228\n",
      "nan 個數: 0, 值為: Series([], Name: exercise_angina, dtype: int64)\n",
      "unique value: [0 1]\n"
     ]
    },
    {
     "data": {
      "text/plain": [
       "0      0\n",
       "1      1\n",
       "2      1\n",
       "3      0\n",
       "4      0\n",
       "      ..\n",
       "223    0\n",
       "224    0\n",
       "225    1\n",
       "226    1\n",
       "227    0\n",
       "Name: exercise_angina, Length: 228, dtype: int64"
      ]
     },
     "execution_count": 43,
     "metadata": {},
     "output_type": "execute_result"
    }
   ],
   "source": [
    "# exercise_angina column\n",
    "exercise_angina = middle_six.iloc[:,4]\n",
    "print(exercise_angina, \"\\n\")\n",
    "print('陣列中的總和--------------->',exercise_angina.sum())\n",
    "print('陣列中的平均值------------->',exercise_angina.mean())\n",
    "print('陣列中最小值--------------->',exercise_angina.min())\n",
    "print('陣列中第一四分位--------------->',exercise_angina.quantile([0.25]).values[0])\n",
    "print('陣列中middle two的平均值--->',exercise_angina.median())\n",
    "print('陣列中第三四分位--------------->',exercise_angina.quantile([0.75]).values[0])\n",
    "print('陣列中最大值--------------->',exercise_angina.max())\n",
    "print('陣列中的個數--------------->',exercise_angina.count())\n",
    "print('nan 個數: {}, 值為: {}'.format(len(exercise_angina[exercise_angina.isna()]), exercise_angina[exercise_angina.isna()]))\n",
    "print('unique value: {}'.format(exercise_angina.unique()))\n",
    "exercise_angina"
   ]
  },
  {
   "cell_type": "code",
   "execution_count": 44,
   "metadata": {},
   "outputs": [
    {
     "data": {
      "text/plain": [
       "<matplotlib.axes._subplots.AxesSubplot at 0x1204f7630>"
      ]
     },
     "execution_count": 44,
     "metadata": {},
     "output_type": "execute_result"
    },
    {
     "data": {
      "image/png": "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\n",
      "text/plain": [
       "<Figure size 432x288 with 1 Axes>"
      ]
     },
     "metadata": {
      "needs_background": "light"
     },
     "output_type": "display_data"
    }
   ],
   "source": [
    "# plot basic histogram\n",
    "exercise_angina.plot.hist()"
   ]
  },
  {
   "cell_type": "code",
   "execution_count": 45,
   "metadata": {},
   "outputs": [
    {
     "data": {
      "text/html": [
       "<div>\n",
       "<style scoped>\n",
       "    .dataframe tbody tr th:only-of-type {\n",
       "        vertical-align: middle;\n",
       "    }\n",
       "\n",
       "    .dataframe tbody tr th {\n",
       "        vertical-align: top;\n",
       "    }\n",
       "\n",
       "    .dataframe thead th {\n",
       "        text-align: right;\n",
       "    }\n",
       "</style>\n",
       "<table border=\"1\" class=\"dataframe\">\n",
       "  <thead>\n",
       "    <tr style=\"text-align: right;\">\n",
       "      <th>heart_disease</th>\n",
       "      <th>0</th>\n",
       "      <th>1</th>\n",
       "    </tr>\n",
       "    <tr>\n",
       "      <th>exercise_angina</th>\n",
       "      <th></th>\n",
       "      <th></th>\n",
       "    </tr>\n",
       "  </thead>\n",
       "  <tbody>\n",
       "    <tr>\n",
       "      <th>0</th>\n",
       "      <td>102</td>\n",
       "      <td>52</td>\n",
       "    </tr>\n",
       "    <tr>\n",
       "      <th>1</th>\n",
       "      <td>18</td>\n",
       "      <td>56</td>\n",
       "    </tr>\n",
       "  </tbody>\n",
       "</table>\n",
       "</div>"
      ],
      "text/plain": [
       "heart_disease      0   1\n",
       "exercise_angina         \n",
       "0                102  52\n",
       "1                 18  56"
      ]
     },
     "execution_count": 45,
     "metadata": {},
     "output_type": "execute_result"
    }
   ],
   "source": [
    "crosstab_exercise_angina = pd.crosstab(middle_six.exercise_angina, middle_six.heart_disease)\n",
    "crosstab_exercise_angina"
   ]
  },
  {
   "cell_type": "code",
   "execution_count": 46,
   "metadata": {},
   "outputs": [
    {
     "name": "stdout",
     "output_type": "stream",
     "text": [
      "===Chi Square Test===\n",
      "\n",
      "===Chi2 Stat===\n",
      "33.55227272727272\n",
      "\n",
      "===Degrees of Freedom===\n",
      "1\n",
      "\n",
      "===P-Value===\n",
      "6.937426621743426e-09\n",
      "\n",
      "===Contingency Table===\n",
      "[[81.05263158 72.94736842]\n",
      " [38.94736842 35.05263158]]\n",
      "significance=0.050, p=0.000\n",
      "\n",
      "Variables are associated (reject H0)\n",
      "\n",
      "===Mutual Information's score=== \n",
      "0.07977364348277668\n"
     ]
    }
   ],
   "source": [
    "# get mutal information and chi square's p value\n",
    "mi_score = mutual_info_score(middle_six.exercise_angina.values, middle_six.heart_disease.values, crosstab_exercise_angina.values)\n",
    "chi2_stat, p, dof, ex = stats.chi2_contingency(crosstab_exercise_angina.values)\n",
    "\n",
    "# select significance value\n",
    "alpha = 0.05\n",
    "\n",
    "print(\"===Chi Square Test===\\n\")\n",
    "print(\"===Chi2 Stat===\")\n",
    "print(chi2_stat)\n",
    "print(\"\\n===Degrees of Freedom===\")\n",
    "print(dof)\n",
    "print(\"\\n===P-Value===\")\n",
    "print(p)\n",
    "print(\"\\n===Contingency Table===\")\n",
    "print(ex)\n",
    "\n",
    "# Determine whether to reject or keep your null hypothesis\n",
    "print('significance=%.3f, p=%.3f' % (alpha, p))\n",
    "if p <= alpha:\n",
    "    print('\\nVariables are associated (reject H0)')\n",
    "else:\n",
    "    print('\\nVariables are not associated(fail to reject H0)')\n",
    "\n",
    "print(\"\\n===Mutual Information's score=== \\n{}\".format(mi_score))\n"
   ]
  },
  {
   "cell_type": "code",
   "execution_count": 47,
   "metadata": {},
   "outputs": [
    {
     "data": {
      "text/plain": [
       "<matplotlib.axes._subplots.AxesSubplot at 0x1204e8550>"
      ]
     },
     "execution_count": 47,
     "metadata": {},
     "output_type": "execute_result"
    },
    {
     "data": {
      "image/png": "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\n",
      "text/plain": [
       "<Figure size 432x288 with 1 Axes>"
      ]
     },
     "metadata": {
      "needs_background": "light"
     },
     "output_type": "display_data"
    }
   ],
   "source": [
    "# plot bar chart based on contigency table\n",
    "crosstab_exercise_angina.plot.bar(stacked=True)"
   ]
  },
  {
   "cell_type": "code",
   "execution_count": 48,
=======
   "execution_count": 86,
>>>>>>> 47266e5516ab87a10e42c7b758c30bc97ef201e2
   "metadata": {},
   "outputs": [
    {
     "data": {
      "text/html": [
       "<div>\n",
       "<style scoped>\n",
       "    .dataframe tbody tr th:only-of-type {\n",
       "        vertical-align: middle;\n",
       "    }\n",
       "\n",
       "    .dataframe tbody tr th {\n",
       "        vertical-align: top;\n",
       "    }\n",
       "\n",
       "    .dataframe thead th {\n",
       "        text-align: right;\n",
       "    }\n",
       "</style>\n",
       "<table border=\"1\" class=\"dataframe\">\n",
       "  <thead>\n",
       "    <tr style=\"text-align: right;\">\n",
       "      <th></th>\n",
       "      <th></th>\n",
       "      <th>cholestoral</th>\n",
       "      <th>high_sugar</th>\n",
       "      <th>ecg</th>\n",
       "      <th>max_rate</th>\n",
       "      <th>st_depression</th>\n",
       "    </tr>\n",
       "    <tr>\n",
       "      <th>exercise_angina</th>\n",
       "      <th>heart_disease</th>\n",
       "      <th></th>\n",
       "      <th></th>\n",
       "      <th></th>\n",
       "      <th></th>\n",
       "      <th></th>\n",
       "    </tr>\n",
       "  </thead>\n",
       "  <tbody>\n",
       "    <tr>\n",
       "      <th rowspan=\"2\" valign=\"top\">0</th>\n",
       "      <th>0</th>\n",
       "      <td>241.284314</td>\n",
       "      <td>0.156863</td>\n",
       "      <td>0.833333</td>\n",
       "      <td>159.519608</td>\n",
       "      <td>0.543137</td>\n",
       "    </tr>\n",
       "    <tr>\n",
       "      <th>1</th>\n",
       "      <td>248.711538</td>\n",
       "      <td>0.115385</td>\n",
       "      <td>1.288462</td>\n",
       "      <td>145.153846</td>\n",
       "      <td>1.313462</td>\n",
       "    </tr>\n",
       "    <tr>\n",
       "      <th rowspan=\"2\" valign=\"top\">1</th>\n",
       "      <th>0</th>\n",
       "      <td>243.222222</td>\n",
       "      <td>0.055556</td>\n",
       "      <td>1.111111</td>\n",
       "      <td>146.500000</td>\n",
       "      <td>0.638889</td>\n",
       "    </tr>\n",
       "    <tr>\n",
       "      <th>1</th>\n",
       "      <td>262.482143</td>\n",
       "      <td>0.160714</td>\n",
       "      <td>1.107143</td>\n",
<<<<<<< HEAD
       "      <td>132.892857</td>\n",
       "      <td>1.700000</td>\n",
       "    </tr>\n",
       "  </tbody>\n",
       "</table>\n",
       "</div>"
      ],
      "text/plain": [
       "                               cholestoral  high_sugar       ecg    max_rate  \\\n",
       "exercise_angina heart_disease                                                  \n",
       "0               0               241.284314    0.156863  0.833333  159.519608   \n",
       "                1               248.711538    0.115385  1.288462  145.153846   \n",
       "1               0               243.222222    0.055556  1.111111  146.500000   \n",
       "                1               262.482143    0.160714  1.107143  132.892857   \n",
       "\n",
       "                               st_depression  \n",
       "exercise_angina heart_disease                 \n",
       "0               0                   0.543137  \n",
       "                1                   1.313462  \n",
       "1               0                   0.638889  \n",
       "                1                   1.700000  "
      ]
     },
     "execution_count": 48,
     "metadata": {},
     "output_type": "execute_result"
    }
   ],
   "source": [
    "exercise_angina_groupby = middle_six.groupby([\"exercise_angina\", \"heart_disease\"]).mean()\n",
    "# exercise_angina_groupby = pd.pivot_table(middle_six, index=[\"exercise_angina\", \"heart_disease\"])\n",
    "exercise_angina_groupby"
   ]
  },
  {
   "cell_type": "code",
   "execution_count": 49,
   "metadata": {},
   "outputs": [
    {
     "data": {
      "text/plain": [
       "<matplotlib.axes._subplots.AxesSubplot at 0x1214bc160>"
      ]
     },
     "execution_count": 49,
     "metadata": {},
     "output_type": "execute_result"
    },
    {
     "data": {
      "image/png": "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\n",
      "text/plain": [
       "<Figure size 432x288 with 1 Axes>"
      ]
     },
     "metadata": {
      "needs_background": "light"
     },
     "output_type": "display_data"
    }
   ],
   "source": [
    "# 畫出折線圖\n",
    "exercise_angina_groupby.plot.line()"
   ]
  },
  {
   "cell_type": "code",
   "execution_count": 50,
   "metadata": {},
   "outputs": [
    {
     "name": "stdout",
     "output_type": "stream",
     "text": [
      "0      2.3\n",
      "1      1.5\n",
      "2      2.6\n",
      "3      1.4\n",
      "4      0.8\n",
      "      ... \n",
      "223    0.0\n",
      "224    1.0\n",
      "225    0.2\n",
      "226    1.2\n",
      "227    0.0\n",
      "Name: st_depression, Length: 228, dtype: float64 \n",
      "\n",
      "陣列中的總和---------------> 230.4\n",
      "陣列中的平均值-------------> 1.0105263157894737\n",
      "陣列中最小值---------------> 0.0\n",
      "陣列中第一四分位---------------> 0.0\n",
      "陣列中middle two的平均值---> 0.8\n",
      "陣列中第三四分位---------------> 1.6\n",
      "陣列中最大值---------------> 6.2\n",
      "陣列中的個數---------------> 228\n",
      "nan 個數: 0, 值為: Series([], Name: st_depression, dtype: float64)\n",
      "unique value: [2.3 1.5 2.6 1.4 0.8 0.6 3.1 0.4 1.3 0.5 1.  1.2 0.2 1.8 3.2 0.  2.5 1.6\n",
      " 2.2 2.8 3.  3.6 6.2 2.  4.  5.6 2.4 2.9 0.1 2.1 1.9 4.2 0.9 1.1 3.8 0.7\n",
      " 3.4 0.3 4.4]\n"
     ]
    },
    {
     "data": {
      "text/plain": [
       "0      2.3\n",
       "1      1.5\n",
       "2      2.6\n",
       "3      1.4\n",
       "4      0.8\n",
       "      ... \n",
       "223    0.0\n",
       "224    1.0\n",
       "225    0.2\n",
       "226    1.2\n",
       "227    0.0\n",
       "Name: st_depression, Length: 228, dtype: float64"
      ]
     },
     "execution_count": 50,
     "metadata": {},
     "output_type": "execute_result"
    }
   ],
   "source": [
    "# st_depression column\n",
    "st_depression = middle_six.iloc[:,5]\n",
    "print(st_depression, \"\\n\")\n",
    "print('陣列中的總和--------------->',st_depression.sum())\n",
    "print('陣列中的平均值------------->',st_depression.mean())\n",
    "print('陣列中最小值--------------->',st_depression.min())\n",
    "print('陣列中第一四分位--------------->',st_depression.quantile([0.25]).values[0])\n",
    "print('陣列中middle two的平均值--->',st_depression.median())\n",
    "print('陣列中第三四分位--------------->',st_depression.quantile([0.75]).values[0])\n",
    "print('陣列中最大值--------------->',st_depression.max())\n",
    "print('陣列中的個數--------------->',st_depression.count())\n",
    "print('nan 個數: {}, 值為: {}'.format(len(st_depression[st_depression.isna()]), st_depression[st_depression.isna()]))\n",
    "print('unique value: {}'.format(st_depression.unique()))\n",
    "st_depression"
   ]
  },
  {
   "cell_type": "code",
   "execution_count": 51,
   "metadata": {},
   "outputs": [
    {
     "data": {
      "text/plain": [
       "<matplotlib.axes._subplots.AxesSubplot at 0x12159a0f0>"
      ]
     },
     "execution_count": 51,
     "metadata": {},
     "output_type": "execute_result"
    },
    {
     "data": {
      "image/png": "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\n",
      "text/plain": [
       "<Figure size 432x288 with 1 Axes>"
      ]
     },
     "metadata": {
      "needs_background": "light"
     },
     "output_type": "display_data"
    }
   ],
   "source": [
    "# plot basic histogram\n",
    "st_depression.plot.hist()"
   ]
  },
  {
   "cell_type": "code",
   "execution_count": 52,
   "metadata": {},
   "outputs": [
    {
     "data": {
      "text/plain": [
       "(7,\n",
       " [0.0,\n",
       "  0.053061224489794556,\n",
       "  0.7800000000000001,\n",
       "  1.3666666666666667,\n",
       "  1.984615384615385,\n",
       "  2.86,\n",
       "  4.033333333333333,\n",
       "  5.9,\n",
       "  6.2],\n",
       " 9)"
      ]
     },
     "execution_count": 52,
     "metadata": {},
     "output_type": "execute_result"
    }
   ],
   "source": [
    "# 根據上面 histogram，試著找到最佳分群來當作 bin 區間\n",
    "Sum_of_squared_distances = []\n",
    "Sum_of_squared_thre = 0.3\n",
    "current_k = 0\n",
    "current_dst = 0\n",
    "center = None\n",
    "st_depression_val = st_depression.values\n",
    "st_depression_val = st_depression_val.reshape(-1,1)\n",
    "K = range(1,15)\n",
    "for k in K:\n",
    "    km = KMeans(n_clusters=k)\n",
    "    km = km.fit(st_depression_val)\n",
    "    if k == 1 :\n",
    "        current_dst = km.inertia_\n",
    "        current_k = k\n",
    "        center = km.cluster_centers_\n",
    "    else :\n",
    "        if np.abs(current_dst - km.inertia_)/current_dst >= Sum_of_squared_thre :\n",
    "            current_k = k\n",
    "            center = km.cluster_centers_\n",
    "        current_dst = km.inertia_\n",
    "    Sum_of_squared_distances.append(current_dst)\n",
    "\n",
    "final_center = []\n",
    "center = center.astype(np.float64)\n",
    "center = center.reshape(-1)\n",
    "center = np.sort(center)\n",
    "center = center.tolist()\n",
    "final_center.append(st_depression_val.min())\n",
    "final_center.extend(center)\n",
    "final_center.append(st_depression_val.max())\n",
    "current_k, final_center, len(final_center)"
   ]
  },
  {
   "cell_type": "code",
   "execution_count": 53,
   "metadata": {},
   "outputs": [
    {
     "data": {
      "image/png": "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\n",
      "text/plain": [
       "<Figure size 432x288 with 1 Axes>"
      ]
     },
     "metadata": {
      "needs_background": "light"
     },
     "output_type": "display_data"
    }
   ],
   "source": [
    "# plot k means result\n",
    "plt.plot(K, Sum_of_squared_distances, 'bx-')\n",
    "plt.xlabel('k')\n",
    "plt.ylabel('Sum_of_squared_distances')\n",
    "plt.title('Elbow Method For Optimal k')\n",
    "plt.show()"
   ]
  },
  {
   "cell_type": "code",
   "execution_count": 54,
   "metadata": {},
   "outputs": [
    {
     "data": {
      "text/html": [
       "<div>\n",
       "<style scoped>\n",
       "    .dataframe tbody tr th:only-of-type {\n",
       "        vertical-align: middle;\n",
       "    }\n",
       "\n",
       "    .dataframe tbody tr th {\n",
       "        vertical-align: top;\n",
       "    }\n",
       "\n",
       "    .dataframe thead th {\n",
       "        text-align: right;\n",
       "    }\n",
       "</style>\n",
       "<table border=\"1\" class=\"dataframe\">\n",
       "  <thead>\n",
       "    <tr style=\"text-align: right;\">\n",
       "      <th></th>\n",
       "      <th>cholestoral</th>\n",
       "      <th>high_sugar</th>\n",
       "      <th>ecg</th>\n",
       "      <th>max_rate</th>\n",
       "      <th>exercise_angina</th>\n",
       "      <th>st_depression</th>\n",
       "      <th>heart_disease</th>\n",
       "      <th>cholestoral_label</th>\n",
       "      <th>max_rate_label</th>\n",
       "      <th>st_depression_label</th>\n",
       "    </tr>\n",
       "  </thead>\n",
       "  <tbody>\n",
       "    <tr>\n",
       "      <th>0</th>\n",
       "      <td>233</td>\n",
       "      <td>1</td>\n",
       "      <td>2</td>\n",
       "      <td>150</td>\n",
       "      <td>0</td>\n",
       "      <td>2.3</td>\n",
       "      <td>0</td>\n",
       "      <td>2</td>\n",
       "      <td>3</td>\n",
       "      <td>4</td>\n",
       "    </tr>\n",
       "    <tr>\n",
       "      <th>1</th>\n",
       "      <td>286</td>\n",
       "      <td>0</td>\n",
       "      <td>2</td>\n",
       "      <td>108</td>\n",
       "      <td>1</td>\n",
       "      <td>1.5</td>\n",
       "      <td>1</td>\n",
       "      <td>4</td>\n",
       "      <td>1</td>\n",
       "      <td>3</td>\n",
       "    </tr>\n",
       "    <tr>\n",
       "      <th>2</th>\n",
       "      <td>229</td>\n",
       "      <td>0</td>\n",
       "      <td>2</td>\n",
       "      <td>129</td>\n",
       "      <td>1</td>\n",
       "      <td>2.6</td>\n",
       "      <td>1</td>\n",
       "      <td>2</td>\n",
       "      <td>2</td>\n",
       "      <td>4</td>\n",
       "    </tr>\n",
       "    <tr>\n",
       "      <th>3</th>\n",
       "      <td>204</td>\n",
       "      <td>0</td>\n",
       "      <td>2</td>\n",
       "      <td>172</td>\n",
       "      <td>0</td>\n",
       "      <td>1.4</td>\n",
       "      <td>0</td>\n",
       "      <td>1</td>\n",
       "      <td>4</td>\n",
       "      <td>3</td>\n",
       "    </tr>\n",
       "    <tr>\n",
       "      <th>4</th>\n",
       "      <td>236</td>\n",
       "      <td>0</td>\n",
       "      <td>0</td>\n",
       "      <td>178</td>\n",
       "      <td>0</td>\n",
       "      <td>0.8</td>\n",
       "      <td>0</td>\n",
       "      <td>2</td>\n",
       "      <td>4</td>\n",
       "      <td>2</td>\n",
       "    </tr>\n",
       "    <tr>\n",
       "      <th>...</th>\n",
       "      <td>...</td>\n",
       "      <td>...</td>\n",
       "      <td>...</td>\n",
       "      <td>...</td>\n",
       "      <td>...</td>\n",
       "      <td>...</td>\n",
       "      <td>...</td>\n",
       "      <td>...</td>\n",
       "      <td>...</td>\n",
       "      <td>...</td>\n",
       "    </tr>\n",
       "    <tr>\n",
       "      <th>223</th>\n",
       "      <td>157</td>\n",
       "      <td>0</td>\n",
       "      <td>0</td>\n",
       "      <td>182</td>\n",
       "      <td>0</td>\n",
       "      <td>0.0</td>\n",
       "      <td>0</td>\n",
       "      <td>0</td>\n",
       "      <td>5</td>\n",
       "      <td>0</td>\n",
       "    </tr>\n",
       "    <tr>\n",
       "      <th>224</th>\n",
       "      <td>176</td>\n",
       "      <td>1</td>\n",
       "      <td>2</td>\n",
       "      <td>90</td>\n",
       "      <td>0</td>\n",
       "      <td>1.0</td>\n",
       "      <td>1</td>\n",
       "      <td>1</td>\n",
       "      <td>0</td>\n",
       "      <td>2</td>\n",
       "    </tr>\n",
       "    <tr>\n",
       "      <th>225</th>\n",
       "      <td>241</td>\n",
       "      <td>0</td>\n",
       "      <td>0</td>\n",
       "      <td>123</td>\n",
       "      <td>1</td>\n",
       "      <td>0.2</td>\n",
       "      <td>1</td>\n",
       "      <td>3</td>\n",
       "      <td>1</td>\n",
       "      <td>1</td>\n",
       "    </tr>\n",
       "    <tr>\n",
       "      <th>226</th>\n",
       "      <td>131</td>\n",
       "      <td>0</td>\n",
       "      <td>0</td>\n",
       "      <td>115</td>\n",
       "      <td>1</td>\n",
       "      <td>1.2</td>\n",
       "      <td>1</td>\n",
       "      <td>0</td>\n",
       "      <td>1</td>\n",
       "      <td>2</td>\n",
       "    </tr>\n",
       "    <tr>\n",
       "      <th>227</th>\n",
       "      <td>175</td>\n",
       "      <td>0</td>\n",
       "      <td>0</td>\n",
       "      <td>173</td>\n",
       "      <td>0</td>\n",
       "      <td>0.0</td>\n",
       "      <td>0</td>\n",
       "      <td>1</td>\n",
       "      <td>4</td>\n",
       "      <td>0</td>\n",
       "    </tr>\n",
       "  </tbody>\n",
       "</table>\n",
       "<p>228 rows × 10 columns</p>\n",
       "</div>"
      ],
      "text/plain": [
       "     cholestoral  high_sugar  ecg  max_rate  exercise_angina  st_depression  \\\n",
       "0            233           1    2       150                0            2.3   \n",
       "1            286           0    2       108                1            1.5   \n",
       "2            229           0    2       129                1            2.6   \n",
       "3            204           0    2       172                0            1.4   \n",
       "4            236           0    0       178                0            0.8   \n",
       "..           ...         ...  ...       ...              ...            ...   \n",
       "223          157           0    0       182                0            0.0   \n",
       "224          176           1    2        90                0            1.0   \n",
       "225          241           0    0       123                1            0.2   \n",
       "226          131           0    0       115                1            1.2   \n",
       "227          175           0    0       173                0            0.0   \n",
       "\n",
       "     heart_disease cholestoral_label max_rate_label st_depression_label  \n",
       "0                0                 2              3                   4  \n",
       "1                1                 4              1                   3  \n",
       "2                1                 2              2                   4  \n",
       "3                0                 1              4                   3  \n",
       "4                0                 2              4                   2  \n",
       "..             ...               ...            ...                 ...  \n",
       "223              0                 0              5                   0  \n",
       "224              1                 1              0                   2  \n",
       "225              1                 3              1                   1  \n",
       "226              1                 0              1                   2  \n",
       "227              0                 1              4                   0  \n",
       "\n",
       "[228 rows x 10 columns]"
      ]
     },
     "execution_count": 54,
     "metadata": {},
     "output_type": "execute_result"
    }
   ],
   "source": [
    "# cut bins by k means result\n",
    "bins = final_center\n",
    "label_name = [str(i) for i in list(range(len(bins)-1))]\n",
    "middle_six[\"st_depression_label\"] = pd.cut(middle_six.st_depression, bins, labels=label_name, include_lowest=True)\n",
    "middle_six"
   ]
  },
  {
   "cell_type": "code",
   "execution_count": 55,
   "metadata": {},
   "outputs": [
    {
     "name": "stdout",
     "output_type": "stream",
     "text": [
      "nan 個數: 0, 值為: Series([], Name: st_depression_label, dtype: category\n",
      "Categories (8, object): [0 < 1 < 2 < 3 < 4 < 5 < 6 < 7])\n",
      "unique value: [4, 3, 2, 1, 5, 0, 7, 6]\n",
      "Categories (8, object): [0 < 1 < 2 < 3 < 4 < 5 < 6 < 7]\n"
     ]
    }
   ],
   "source": [
    "st_depression_label = middle_six[\"st_depression_label\"]\n",
    "print('nan 個數: {}, 值為: {}'.format(len(st_depression_label[st_depression_label.isna()]), st_depression_label[st_depression_label.isna()]))\n",
    "print('unique value: {}'.format(st_depression_label.unique()))"
   ]
  },
  {
   "cell_type": "code",
   "execution_count": 56,
   "metadata": {},
   "outputs": [
    {
     "data": {
      "text/plain": [
       "<matplotlib.axes._subplots.AxesSubplot at 0x1217338d0>"
      ]
     },
     "execution_count": 56,
     "metadata": {},
     "output_type": "execute_result"
    },
    {
     "data": {
      "image/png": "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\n",
      "text/plain": [
       "<Figure size 432x288 with 1 Axes>"
      ]
     },
     "metadata": {
      "needs_background": "light"
     },
     "output_type": "display_data"
    }
   ],
   "source": [
    "# plot bins from result\n",
    "st_depression_label = middle_six[\"st_depression_label\"].value_counts()\n",
    "st_depression_label.plot(kind='bar')"
   ]
  },
  {
   "cell_type": "code",
   "execution_count": 57,
   "metadata": {},
   "outputs": [
    {
     "data": {
      "text/plain": [
       "<matplotlib.axes._subplots.AxesSubplot at 0x12182d748>"
      ]
     },
     "execution_count": 57,
     "metadata": {},
     "output_type": "execute_result"
    },
    {
     "data": {
      "image/png": "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\n",
      "text/plain": [
       "<Figure size 432x288 with 1 Axes>"
      ]
     },
     "metadata": {
      "needs_background": "light"
     },
     "output_type": "display_data"
    }
   ],
   "source": [
    "# find outliers and boxplot\n",
    "sns.boxplot(x=st_depression)"
=======
       "      <td>132.892857</td>\n",
       "      <td>1.700000</td>\n",
       "    </tr>\n",
       "  </tbody>\n",
       "</table>\n",
       "</div>"
      ],
      "text/plain": [
       "                               cholestoral  high_sugar       ecg    max_rate  \\\n",
       "exercise_angina heart_disease                                                  \n",
       "0               0               241.284314    0.156863  0.833333  159.519608   \n",
       "                1               248.711538    0.115385  1.288462  145.153846   \n",
       "1               0               243.222222    0.055556  1.111111  146.500000   \n",
       "                1               262.482143    0.160714  1.107143  132.892857   \n",
       "\n",
       "                               st_depression  \n",
       "exercise_angina heart_disease                 \n",
       "0               0                   0.543137  \n",
       "                1                   1.313462  \n",
       "1               0                   0.638889  \n",
       "                1                   1.700000  "
      ]
     },
     "execution_count": 86,
     "metadata": {},
     "output_type": "execute_result"
    }
   ],
   "source": [
    "exercise_angina_groupby = middle_six.groupby([\"exercise_angina\", \"heart_disease\"]).mean()\n",
    "# exercise_angina_groupby = pd.pivot_table(middle_six, index=[\"exercise_angina\", \"heart_disease\"])\n",
    "exercise_angina_groupby"
>>>>>>> 47266e5516ab87a10e42c7b758c30bc97ef201e2
   ]
  },
  {
   "cell_type": "code",
<<<<<<< HEAD
   "execution_count": 58,
=======
   "execution_count": 114,
>>>>>>> 47266e5516ab87a10e42c7b758c30bc97ef201e2
   "metadata": {},
   "outputs": [
    {
     "data": {
      "text/plain": [
<<<<<<< HEAD
       "<matplotlib.axes._subplots.AxesSubplot at 0x1218fa3c8>"
      ]
     },
     "execution_count": 58,
=======
       "<matplotlib.axes._subplots.AxesSubplot at 0x1328f98d0>"
      ]
     },
     "execution_count": 114,
>>>>>>> 47266e5516ab87a10e42c7b758c30bc97ef201e2
     "metadata": {},
     "output_type": "execute_result"
    },
    {
     "data": {
<<<<<<< HEAD
      "image/png": "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\n",
=======
      "image/png": "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\n",
>>>>>>> 47266e5516ab87a10e42c7b758c30bc97ef201e2
      "text/plain": [
       "<Figure size 432x288 with 1 Axes>"
      ]
     },
     "metadata": {
      "needs_background": "light"
     },
     "output_type": "display_data"
    }
   ],
   "source": [
<<<<<<< HEAD
    "without_outlier = st_depression.between(st_depression.quantile(.15), st_depression.quantile(.85))\n",
    "outlier = ~without_outlier\n",
    "st_depression_without_outlier = st_depression[without_outlier] # without outliers\n",
    "sns.boxplot(x=st_depression_without_outlier)"
=======
    "exercise_angina_groupby.plot.line()"
>>>>>>> 47266e5516ab87a10e42c7b758c30bc97ef201e2
   ]
  },
  {
   "cell_type": "code",
<<<<<<< HEAD
   "execution_count": 59,
=======
   "execution_count": 24,
>>>>>>> 47266e5516ab87a10e42c7b758c30bc97ef201e2
   "metadata": {},
   "outputs": [
    {
     "data": {
      "text/plain": [
<<<<<<< HEAD
       "<matplotlib.axes._subplots.AxesSubplot at 0x1219bf400>"
      ]
     },
     "execution_count": 59,
     "metadata": {},
     "output_type": "execute_result"
    },
    {
     "data": {
      "image/png": "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\n",
      "text/plain": [
       "<Figure size 432x288 with 1 Axes>"
      ]
     },
     "metadata": {
      "needs_background": "light"
     },
     "output_type": "display_data"
    }
   ],
   "source": [
    "st_depression_without_outlier.plot.hist()"
=======
       "0      2.3\n",
       "1      1.5\n",
       "2      2.6\n",
       "3      1.4\n",
       "4      0.8\n",
       "      ... \n",
       "223    0.0\n",
       "224    1.0\n",
       "225    0.2\n",
       "226    1.2\n",
       "227    0.0\n",
       "Name: st_depression, Length: 228, dtype: float64"
      ]
     },
     "execution_count": 24,
     "metadata": {},
     "output_type": "execute_result"
    }
   ],
   "source": [
    "# st_depression column\n",
    "st_depression = middle_six.iloc[:,5]\n",
    "st_depression"
>>>>>>> 47266e5516ab87a10e42c7b758c30bc97ef201e2
   ]
  },
  {
   "cell_type": "code",
<<<<<<< HEAD
   "execution_count": 60,
=======
   "execution_count": 102,
>>>>>>> 47266e5516ab87a10e42c7b758c30bc97ef201e2
   "metadata": {},
   "outputs": [
    {
     "data": {
      "text/plain": [
<<<<<<< HEAD
       "<matplotlib.axes._subplots.AxesSubplot at 0x121acc978>"
      ]
     },
     "execution_count": 60,
=======
       "<matplotlib.axes._subplots.AxesSubplot at 0x1324384a8>"
      ]
     },
     "execution_count": 102,
>>>>>>> 47266e5516ab87a10e42c7b758c30bc97ef201e2
     "metadata": {},
     "output_type": "execute_result"
    },
    {
     "data": {
<<<<<<< HEAD
      "image/png": "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\n",
=======
      "image/png": "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\n",
>>>>>>> 47266e5516ab87a10e42c7b758c30bc97ef201e2
      "text/plain": [
       "<Figure size 432x288 with 1 Axes>"
      ]
     },
     "metadata": {
      "needs_background": "light"
     },
     "output_type": "display_data"
    }
   ],
   "source": [
<<<<<<< HEAD
    "st_depression_with_outlier = st_depression[outlier] # without outliers\n",
    "sns.boxplot(x=st_depression_with_outlier)"
   ]
  },
  {
   "cell_type": "code",
   "execution_count": 61,
   "metadata": {},
   "outputs": [
    {
     "data": {
      "text/plain": [
       "(array([  5,   8,  17,  21,  23,  28,  30,  32,  33,  39,  42,  43,  44,\n",
       "         45,  47,  53,  58,  60,  63,  72,  75,  76,  77,  80,  81,  82,\n",
       "         85,  87, 101, 103, 108, 109, 114, 117, 118, 124, 128, 132, 135,\n",
       "        138, 139, 144, 153, 154, 155, 157, 163, 174, 175, 176, 182, 183,\n",
       "        193, 197, 199, 203, 205, 206, 212, 213, 216, 217, 222, 223, 224,\n",
       "        226, 227]),\n",
       " array([  1,   4,  16,  18,  22,  23,  24,  26,  35,  37,  45,  51,  53,\n",
       "         55,  56,  58,  62,  70,  71,  72,  81,  83,  89,  90,  91,  97,\n",
       "         98, 100, 107, 110, 113, 114, 115, 121, 125, 126, 130, 132, 133,\n",
       "        136, 139, 140, 141, 142, 147, 154, 160, 166, 170, 175, 177, 178,\n",
       "        179, 183, 184, 186, 190, 191, 192, 193, 202, 205, 214, 216, 223,\n",
       "        224, 226, 227]),\n",
       " array([  0,   2,   7,  16,  18,  23,  29,  31,  37,  46,  47,  49,  54,\n",
       "         63,  68,  82,  86,  87,  89,  92, 113, 114, 125, 132, 137, 145,\n",
       "        158, 160, 175, 178, 201, 204, 213, 217, 218]))"
      ]
     },
     "execution_count": 61,
     "metadata": {},
     "output_type": "execute_result"
    }
   ],
   "source": [
    "# gather all outlier and remove intersect index\n",
    "cholestoral_outlier_index = cholestoral_with_outlier.index.values\n",
    "max_rate_outlier_index = max_rate_with_outlier.index.values\n",
    "st_depression_outlier_index = st_depression_with_outlier.index.values\n",
    "cholestoral_outlier_index, max_rate_outlier_index, st_depression_outlier_index"
   ]
  },
  {
   "cell_type": "code",
   "execution_count": 62,
   "metadata": {},
   "outputs": [],
   "source": [
    "# deal with outher outlier\n",
    "intersect_index = reduce(np.intersect1d, (cholestoral_outlier_index, max_rate_outlier_index, st_depression_outlier_index))\n",
    "cholestoral_outlier_others = np.setdiff1d(cholestoral_outlier_index, intersect_index) # use mean to replace with it\n",
    "max_rate_outlier_others = np.setdiff1d(max_rate_outlier_index, intersect_index) # use mean to replace with it\n",
    "st_depression_outlier_others = np.setdiff1d(st_depression_outlier_index, intersect_index) # use median to replace with it\n",
    "\n",
    "# get reset cholestoral, max_rate and st_depression\n",
    "middle_six.iloc[cholestoral_outlier_others, columns.index(\"cholestoral\")] = cholestoral_without_outlier.mean()\n",
    "middle_six.iloc[max_rate_outlier_others, columns.index(\"max_rate\")] = max_rate_without_outlier.mean()\n",
    "middle_six.iloc[st_depression_outlier_others, columns.index(\"st_depression\")] = st_depression_without_outlier.median()"
=======
    "st_depression.plot.hist()"
>>>>>>> 47266e5516ab87a10e42c7b758c30bc97ef201e2
   ]
  },
  {
   "cell_type": "code",
<<<<<<< HEAD
   "execution_count": 64,
=======
   "execution_count": 66,
>>>>>>> 47266e5516ab87a10e42c7b758c30bc97ef201e2
   "metadata": {},
   "outputs": [
    {
     "data": {
<<<<<<< HEAD
      "text/html": [
       "<div>\n",
       "<style scoped>\n",
       "    .dataframe tbody tr th:only-of-type {\n",
       "        vertical-align: middle;\n",
       "    }\n",
       "\n",
       "    .dataframe tbody tr th {\n",
       "        vertical-align: top;\n",
       "    }\n",
       "\n",
       "    .dataframe thead th {\n",
       "        text-align: right;\n",
       "    }\n",
       "</style>\n",
       "<table border=\"1\" class=\"dataframe\">\n",
       "  <thead>\n",
       "    <tr style=\"text-align: right;\">\n",
       "      <th></th>\n",
       "      <th>cholestoral</th>\n",
       "      <th>high_sugar</th>\n",
       "      <th>ecg</th>\n",
       "      <th>max_rate</th>\n",
       "      <th>exercise_angina</th>\n",
       "      <th>st_depression</th>\n",
       "      <th>heart_disease</th>\n",
       "      <th>cholestoral_label</th>\n",
       "      <th>max_rate_label</th>\n",
       "      <th>st_depression_label</th>\n",
       "    </tr>\n",
       "  </thead>\n",
       "  <tbody>\n",
       "    <tr>\n",
       "      <th>0</th>\n",
       "      <td>233.00000</td>\n",
       "      <td>1</td>\n",
       "      <td>2</td>\n",
       "      <td>150.00000</td>\n",
       "      <td>0</td>\n",
       "      <td>0.4</td>\n",
       "      <td>0</td>\n",
       "      <td>2</td>\n",
       "      <td>3</td>\n",
       "      <td>4</td>\n",
       "    </tr>\n",
       "    <tr>\n",
       "      <th>1</th>\n",
       "      <td>286.00000</td>\n",
       "      <td>0</td>\n",
       "      <td>2</td>\n",
       "      <td>150.10625</td>\n",
       "      <td>1</td>\n",
       "      <td>1.5</td>\n",
       "      <td>1</td>\n",
       "      <td>4</td>\n",
       "      <td>1</td>\n",
       "      <td>3</td>\n",
       "    </tr>\n",
       "    <tr>\n",
       "      <th>2</th>\n",
       "      <td>229.00000</td>\n",
       "      <td>0</td>\n",
       "      <td>2</td>\n",
       "      <td>129.00000</td>\n",
       "      <td>1</td>\n",
       "      <td>0.4</td>\n",
       "      <td>1</td>\n",
       "      <td>2</td>\n",
       "      <td>2</td>\n",
       "      <td>4</td>\n",
       "    </tr>\n",
       "    <tr>\n",
       "      <th>3</th>\n",
       "      <td>204.00000</td>\n",
       "      <td>0</td>\n",
       "      <td>2</td>\n",
       "      <td>172.00000</td>\n",
       "      <td>0</td>\n",
       "      <td>1.4</td>\n",
       "      <td>0</td>\n",
       "      <td>1</td>\n",
       "      <td>4</td>\n",
       "      <td>3</td>\n",
       "    </tr>\n",
       "    <tr>\n",
       "      <th>4</th>\n",
       "      <td>236.00000</td>\n",
       "      <td>0</td>\n",
       "      <td>0</td>\n",
       "      <td>150.10625</td>\n",
       "      <td>0</td>\n",
       "      <td>0.8</td>\n",
       "      <td>0</td>\n",
       "      <td>2</td>\n",
       "      <td>4</td>\n",
       "      <td>2</td>\n",
       "    </tr>\n",
       "    <tr>\n",
       "      <th>...</th>\n",
       "      <td>...</td>\n",
       "      <td>...</td>\n",
       "      <td>...</td>\n",
       "      <td>...</td>\n",
       "      <td>...</td>\n",
       "      <td>...</td>\n",
       "      <td>...</td>\n",
       "      <td>...</td>\n",
       "      <td>...</td>\n",
       "      <td>...</td>\n",
       "    </tr>\n",
       "    <tr>\n",
       "      <th>219</th>\n",
       "      <td>246.10559</td>\n",
       "      <td>0</td>\n",
       "      <td>0</td>\n",
       "      <td>150.10625</td>\n",
       "      <td>0</td>\n",
       "      <td>0.0</td>\n",
       "      <td>0</td>\n",
       "      <td>0</td>\n",
       "      <td>5</td>\n",
       "      <td>0</td>\n",
       "    </tr>\n",
       "    <tr>\n",
       "      <th>220</th>\n",
       "      <td>246.10559</td>\n",
       "      <td>1</td>\n",
       "      <td>2</td>\n",
       "      <td>150.10625</td>\n",
       "      <td>0</td>\n",
       "      <td>1.0</td>\n",
       "      <td>1</td>\n",
       "      <td>1</td>\n",
       "      <td>0</td>\n",
       "      <td>2</td>\n",
       "    </tr>\n",
       "    <tr>\n",
       "      <th>221</th>\n",
       "      <td>241.00000</td>\n",
       "      <td>0</td>\n",
       "      <td>0</td>\n",
       "      <td>123.00000</td>\n",
       "      <td>1</td>\n",
       "      <td>0.2</td>\n",
       "      <td>1</td>\n",
       "      <td>3</td>\n",
       "      <td>1</td>\n",
       "      <td>1</td>\n",
       "    </tr>\n",
       "    <tr>\n",
       "      <th>222</th>\n",
       "      <td>246.10559</td>\n",
       "      <td>0</td>\n",
       "      <td>0</td>\n",
       "      <td>150.10625</td>\n",
       "      <td>1</td>\n",
       "      <td>1.2</td>\n",
       "      <td>1</td>\n",
       "      <td>0</td>\n",
       "      <td>1</td>\n",
       "      <td>2</td>\n",
       "    </tr>\n",
       "    <tr>\n",
       "      <th>223</th>\n",
       "      <td>246.10559</td>\n",
       "      <td>0</td>\n",
       "      <td>0</td>\n",
       "      <td>150.10625</td>\n",
       "      <td>0</td>\n",
       "      <td>0.0</td>\n",
       "      <td>0</td>\n",
       "      <td>1</td>\n",
       "      <td>4</td>\n",
       "      <td>0</td>\n",
       "    </tr>\n",
       "  </tbody>\n",
       "</table>\n",
       "<p>224 rows × 10 columns</p>\n",
       "</div>"
      ],
      "text/plain": [
       "     cholestoral  high_sugar  ecg   max_rate  exercise_angina  st_depression  \\\n",
       "0      233.00000           1    2  150.00000                0            0.4   \n",
       "1      286.00000           0    2  150.10625                1            1.5   \n",
       "2      229.00000           0    2  129.00000                1            0.4   \n",
       "3      204.00000           0    2  172.00000                0            1.4   \n",
       "4      236.00000           0    0  150.10625                0            0.8   \n",
       "..           ...         ...  ...        ...              ...            ...   \n",
       "219    246.10559           0    0  150.10625                0            0.0   \n",
       "220    246.10559           1    2  150.10625                0            1.0   \n",
       "221    241.00000           0    0  123.00000                1            0.2   \n",
       "222    246.10559           0    0  150.10625                1            1.2   \n",
       "223    246.10559           0    0  150.10625                0            0.0   \n",
       "\n",
       "     heart_disease cholestoral_label max_rate_label st_depression_label  \n",
       "0                0                 2              3                   4  \n",
       "1                1                 4              1                   3  \n",
       "2                1                 2              2                   4  \n",
       "3                0                 1              4                   3  \n",
       "4                0                 2              4                   2  \n",
       "..             ...               ...            ...                 ...  \n",
       "219              0                 0              5                   0  \n",
       "220              1                 1              0                   2  \n",
       "221              1                 3              1                   1  \n",
       "222              1                 0              1                   2  \n",
       "223              0                 1              4                   0  \n",
       "\n",
       "[224 rows x 10 columns]"
      ]
     },
     "execution_count": 64,
=======
      "text/plain": [
       "array([2.3, 1.5, 2.6, 1.4, 0.8, 0.6, 3.1, 0.4, 1.3, 0.5, 1. , 1.2, 0.2,\n",
       "       1.8, 3.2, 0. , 2.5, 1.6, 2.2, 2.8, 3. , 3.6, 6.2, 2. , 4. , 5.6,\n",
       "       2.4, 2.9, 0.1, 2.1, 1.9, 4.2, 0.9, 1.1, 3.8, 0.7, 3.4, 0.3, 4.4])"
      ]
     },
     "execution_count": 66,
>>>>>>> 47266e5516ab87a10e42c7b758c30bc97ef201e2
     "metadata": {},
     "output_type": "execute_result"
    }
   ],
   "source": [
<<<<<<< HEAD
    "middle_six = middle_six.drop(intersect_index)\n",
    "middle_six_reset_index = middle_six.reset_index().index\n",
    "middle_six.index = middle_six_reset_index\n",
    "middle_six"
   ]
  },
  {
   "cell_type": "code",
   "execution_count": 69,
   "metadata": {},
   "outputs": [],
   "source": [
    "# move column\n",
    "moved_index = [1,5,8]\n",
    "cholestoral_label = middle_six[\"cholestoral_label\"]\n",
    "max_rate_label = middle_six[\"max_rate_label\"]\n",
    "st_depression_label = middle_six[\"st_depression_label\"]\n",
    "\n",
    "middle_six.drop(labels=[\"cholestoral_label\", \"max_rate_label\", \"st_depression_label\"], axis=1, inplace = True)\n",
    "middle_six.insert(moved_index[0], 'cholestoral_label', cholestoral_label)\n",
    "middle_six.insert(moved_index[1], 'max_rate_label', max_rate_label)\n",
    "middle_six.insert(moved_index[2], 'st_depression_label', st_depression_label)\n",
    "\n",
    "# save train csv\n",
    "middle_six.to_csv(\"data/second_part_processed_data_train.csv\")"
=======
    "st_depression.unique()"
>>>>>>> 47266e5516ab87a10e42c7b758c30bc97ef201e2
   ]
  }
 ],
 "metadata": {
  "kernelspec": {
   "display_name": "Python 3",
   "language": "python",
   "name": "python3"
  },
  "language_info": {
   "codemirror_mode": {
    "name": "ipython",
    "version": 3
   },
   "file_extension": ".py",
   "mimetype": "text/x-python",
   "name": "python",
   "nbconvert_exporter": "python",
   "pygments_lexer": "ipython3",
   "version": "3.6.4"
  }
 },
 "nbformat": 4,
 "nbformat_minor": 2
}

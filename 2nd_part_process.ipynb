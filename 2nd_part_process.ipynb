{
 "cells": [
  {
   "cell_type": "markdown",
   "metadata": {},
   "source": [
    "## 先引入相關套件，以及所需的運算函式，包括  MinMaxScaler / KMeans ..."
   ]
  },
  {
   "cell_type": "code",
   "execution_count": 1,
   "metadata": {},
   "outputs": [],
   "source": [
    "# import basic packages\n",
    "from functools import reduce\n",
    "import pandas as pd\n",
    "import seaborn as sns\n",
    "import numpy as np\n",
    "import matplotlib.pyplot as plt\n",
    "\n",
    "# import sklearn tools\n",
    "from sklearn.preprocessing import MinMaxScaler\n",
    "from sklearn.cluster import KMeans\n",
    "from sklearn.metrics import mutual_info_score\n",
    "from scipy import stats\n",
    "%matplotlib inline\n",
    "\n",
    "# range\n",
    "rge = 0.5\n",
    "\n",
    "# define min_max scaler \n",
    "mms = MinMaxScaler()"
   ]
  },
  {
   "cell_type": "markdown",
   "metadata": {},
   "source": [
    "## 讀訓練資料，同時定義好負責的欄位\n",
    "## 利用 copy() 來 clone 新的 dataframe，方便後續運算、增加欄位"
   ]
  },
  {
   "cell_type": "code",
   "execution_count": 2,
   "metadata": {},
   "outputs": [
    {
     "data": {
      "text/html": [
       "<div>\n",
       "<style scoped>\n",
       "    .dataframe tbody tr th:only-of-type {\n",
       "        vertical-align: middle;\n",
       "    }\n",
       "\n",
       "    .dataframe tbody tr th {\n",
       "        vertical-align: top;\n",
       "    }\n",
       "\n",
       "    .dataframe thead th {\n",
       "        text-align: right;\n",
       "    }\n",
       "</style>\n",
       "<table border=\"1\" class=\"dataframe\">\n",
       "  <thead>\n",
       "    <tr style=\"text-align: right;\">\n",
       "      <th></th>\n",
       "      <th>cholestoral</th>\n",
       "      <th>high_sugar</th>\n",
       "      <th>ecg</th>\n",
       "      <th>max_rate</th>\n",
       "      <th>exercise_angina</th>\n",
       "      <th>st_depression</th>\n",
       "      <th>heart_disease</th>\n",
       "    </tr>\n",
       "  </thead>\n",
       "  <tbody>\n",
       "    <tr>\n",
       "      <th>0</th>\n",
       "      <td>233</td>\n",
       "      <td>1</td>\n",
       "      <td>2</td>\n",
       "      <td>150</td>\n",
       "      <td>0</td>\n",
       "      <td>2.3</td>\n",
       "      <td>0</td>\n",
       "    </tr>\n",
       "    <tr>\n",
       "      <th>1</th>\n",
       "      <td>286</td>\n",
       "      <td>0</td>\n",
       "      <td>2</td>\n",
       "      <td>108</td>\n",
       "      <td>1</td>\n",
       "      <td>1.5</td>\n",
       "      <td>1</td>\n",
       "    </tr>\n",
       "    <tr>\n",
       "      <th>2</th>\n",
       "      <td>229</td>\n",
       "      <td>0</td>\n",
       "      <td>2</td>\n",
       "      <td>129</td>\n",
       "      <td>1</td>\n",
       "      <td>2.6</td>\n",
       "      <td>1</td>\n",
       "    </tr>\n",
       "    <tr>\n",
       "      <th>3</th>\n",
       "      <td>204</td>\n",
       "      <td>0</td>\n",
       "      <td>2</td>\n",
       "      <td>172</td>\n",
       "      <td>0</td>\n",
       "      <td>1.4</td>\n",
       "      <td>0</td>\n",
       "    </tr>\n",
       "    <tr>\n",
       "      <th>4</th>\n",
       "      <td>236</td>\n",
       "      <td>0</td>\n",
       "      <td>0</td>\n",
       "      <td>178</td>\n",
       "      <td>0</td>\n",
       "      <td>0.8</td>\n",
       "      <td>0</td>\n",
       "    </tr>\n",
       "    <tr>\n",
       "      <th>...</th>\n",
       "      <td>...</td>\n",
       "      <td>...</td>\n",
       "      <td>...</td>\n",
       "      <td>...</td>\n",
       "      <td>...</td>\n",
       "      <td>...</td>\n",
       "      <td>...</td>\n",
       "    </tr>\n",
       "    <tr>\n",
       "      <th>223</th>\n",
       "      <td>157</td>\n",
       "      <td>0</td>\n",
       "      <td>0</td>\n",
       "      <td>182</td>\n",
       "      <td>0</td>\n",
       "      <td>0.0</td>\n",
       "      <td>0</td>\n",
       "    </tr>\n",
       "    <tr>\n",
       "      <th>224</th>\n",
       "      <td>176</td>\n",
       "      <td>1</td>\n",
       "      <td>2</td>\n",
       "      <td>90</td>\n",
       "      <td>0</td>\n",
       "      <td>1.0</td>\n",
       "      <td>1</td>\n",
       "    </tr>\n",
       "    <tr>\n",
       "      <th>225</th>\n",
       "      <td>241</td>\n",
       "      <td>0</td>\n",
       "      <td>0</td>\n",
       "      <td>123</td>\n",
       "      <td>1</td>\n",
       "      <td>0.2</td>\n",
       "      <td>1</td>\n",
       "    </tr>\n",
       "    <tr>\n",
       "      <th>226</th>\n",
       "      <td>131</td>\n",
       "      <td>0</td>\n",
       "      <td>0</td>\n",
       "      <td>115</td>\n",
       "      <td>1</td>\n",
       "      <td>1.2</td>\n",
       "      <td>1</td>\n",
       "    </tr>\n",
       "    <tr>\n",
       "      <th>227</th>\n",
       "      <td>175</td>\n",
       "      <td>0</td>\n",
       "      <td>0</td>\n",
       "      <td>173</td>\n",
       "      <td>0</td>\n",
       "      <td>0.0</td>\n",
       "      <td>0</td>\n",
       "    </tr>\n",
       "  </tbody>\n",
       "</table>\n",
       "<p>228 rows × 7 columns</p>\n",
       "</div>"
      ],
      "text/plain": [
       "     cholestoral  high_sugar  ecg  max_rate  exercise_angina  st_depression  \\\n",
       "0            233           1    2       150                0            2.3   \n",
       "1            286           0    2       108                1            1.5   \n",
       "2            229           0    2       129                1            2.6   \n",
       "3            204           0    2       172                0            1.4   \n",
       "4            236           0    0       178                0            0.8   \n",
       "..           ...         ...  ...       ...              ...            ...   \n",
       "223          157           0    0       182                0            0.0   \n",
       "224          176           1    2        90                0            1.0   \n",
       "225          241           0    0       123                1            0.2   \n",
       "226          131           0    0       115                1            1.2   \n",
       "227          175           0    0       173                0            0.0   \n",
       "\n",
       "     heart_disease  \n",
       "0                0  \n",
       "1                1  \n",
       "2                1  \n",
       "3                0  \n",
       "4                0  \n",
       "..             ...  \n",
       "223              0  \n",
       "224              1  \n",
       "225              1  \n",
       "226              1  \n",
       "227              0  \n",
       "\n",
       "[228 rows x 7 columns]"
      ]
     },
     "execution_count": 2,
     "metadata": {},
     "output_type": "execute_result"
    }
   ],
   "source": [
    "# read training csv\n",
    "training_data = pd.read_csv(\"Data/train.csv\")\n",
    "\n",
    "# define middle data\n",
    "columns = [\"cholestoral\", \"high_sugar\", \"ecg\", \"max_rate\", \"exercise_angina\", \"st_depression\", \"heart_disease\"]\n",
    "middle_six = training_data[columns].copy()\n",
    "middle_six"
   ]
  },
  {
   "cell_type": "markdown",
   "metadata": {},
   "source": [
    "## 簡單描述一下該 dataframe，包括中位數、四分位數、最大值....等等\n",
    "## 此外，也描述一下資料的 shape、各個欄位的資料型態"
   ]
  },
  {
   "cell_type": "code",
   "execution_count": 3,
   "metadata": {},
   "outputs": [
    {
     "data": {
      "text/html": [
       "<div>\n",
       "<style scoped>\n",
       "    .dataframe tbody tr th:only-of-type {\n",
       "        vertical-align: middle;\n",
       "    }\n",
       "\n",
       "    .dataframe tbody tr th {\n",
       "        vertical-align: top;\n",
       "    }\n",
       "\n",
       "    .dataframe thead th {\n",
       "        text-align: right;\n",
       "    }\n",
       "</style>\n",
       "<table border=\"1\" class=\"dataframe\">\n",
       "  <thead>\n",
       "    <tr style=\"text-align: right;\">\n",
       "      <th></th>\n",
       "      <th>cholestoral</th>\n",
       "      <th>high_sugar</th>\n",
       "      <th>ecg</th>\n",
       "      <th>max_rate</th>\n",
       "      <th>exercise_angina</th>\n",
       "      <th>st_depression</th>\n",
       "      <th>heart_disease</th>\n",
       "    </tr>\n",
       "  </thead>\n",
       "  <tbody>\n",
       "    <tr>\n",
       "      <th>count</th>\n",
       "      <td>228.000000</td>\n",
       "      <td>228.000000</td>\n",
       "      <td>228.000000</td>\n",
       "      <td>228.000000</td>\n",
       "      <td>228.000000</td>\n",
       "      <td>228.000000</td>\n",
       "      <td>228.000000</td>\n",
       "    </tr>\n",
       "    <tr>\n",
       "      <th>mean</th>\n",
       "      <td>248.337719</td>\n",
       "      <td>0.140351</td>\n",
       "      <td>1.026316</td>\n",
       "      <td>148.675439</td>\n",
       "      <td>0.324561</td>\n",
       "      <td>1.010526</td>\n",
       "      <td>0.473684</td>\n",
       "    </tr>\n",
       "    <tr>\n",
       "      <th>std</th>\n",
       "      <td>49.388909</td>\n",
       "      <td>0.348115</td>\n",
       "      <td>0.993020</td>\n",
       "      <td>23.969693</td>\n",
       "      <td>0.469241</td>\n",
       "      <td>1.146215</td>\n",
       "      <td>0.500406</td>\n",
       "    </tr>\n",
       "    <tr>\n",
       "      <th>min</th>\n",
       "      <td>126.000000</td>\n",
       "      <td>0.000000</td>\n",
       "      <td>0.000000</td>\n",
       "      <td>71.000000</td>\n",
       "      <td>0.000000</td>\n",
       "      <td>0.000000</td>\n",
       "      <td>0.000000</td>\n",
       "    </tr>\n",
       "    <tr>\n",
       "      <th>25%</th>\n",
       "      <td>212.750000</td>\n",
       "      <td>0.000000</td>\n",
       "      <td>0.000000</td>\n",
       "      <td>131.000000</td>\n",
       "      <td>0.000000</td>\n",
       "      <td>0.000000</td>\n",
       "      <td>0.000000</td>\n",
       "    </tr>\n",
       "    <tr>\n",
       "      <th>50%</th>\n",
       "      <td>244.000000</td>\n",
       "      <td>0.000000</td>\n",
       "      <td>2.000000</td>\n",
       "      <td>152.000000</td>\n",
       "      <td>0.000000</td>\n",
       "      <td>0.800000</td>\n",
       "      <td>0.000000</td>\n",
       "    </tr>\n",
       "    <tr>\n",
       "      <th>75%</th>\n",
       "      <td>276.250000</td>\n",
       "      <td>0.000000</td>\n",
       "      <td>2.000000</td>\n",
       "      <td>167.250000</td>\n",
       "      <td>1.000000</td>\n",
       "      <td>1.600000</td>\n",
       "      <td>1.000000</td>\n",
       "    </tr>\n",
       "    <tr>\n",
       "      <th>max</th>\n",
       "      <td>417.000000</td>\n",
       "      <td>1.000000</td>\n",
       "      <td>2.000000</td>\n",
       "      <td>202.000000</td>\n",
       "      <td>1.000000</td>\n",
       "      <td>6.200000</td>\n",
       "      <td>1.000000</td>\n",
       "    </tr>\n",
       "  </tbody>\n",
       "</table>\n",
       "</div>"
      ],
      "text/plain": [
       "       cholestoral  high_sugar         ecg    max_rate  exercise_angina  \\\n",
       "count   228.000000  228.000000  228.000000  228.000000       228.000000   \n",
       "mean    248.337719    0.140351    1.026316  148.675439         0.324561   \n",
       "std      49.388909    0.348115    0.993020   23.969693         0.469241   \n",
       "min     126.000000    0.000000    0.000000   71.000000         0.000000   \n",
       "25%     212.750000    0.000000    0.000000  131.000000         0.000000   \n",
       "50%     244.000000    0.000000    2.000000  152.000000         0.000000   \n",
       "75%     276.250000    0.000000    2.000000  167.250000         1.000000   \n",
       "max     417.000000    1.000000    2.000000  202.000000         1.000000   \n",
       "\n",
       "       st_depression  heart_disease  \n",
       "count     228.000000     228.000000  \n",
       "mean        1.010526       0.473684  \n",
       "std         1.146215       0.500406  \n",
       "min         0.000000       0.000000  \n",
       "25%         0.000000       0.000000  \n",
       "50%         0.800000       0.000000  \n",
       "75%         1.600000       1.000000  \n",
       "max         6.200000       1.000000  "
      ]
     },
     "execution_count": 3,
     "metadata": {},
     "output_type": "execute_result"
    }
   ],
   "source": [
    "# briefly describe data\n",
    "middle_six.describe()"
   ]
  },
  {
   "cell_type": "code",
   "execution_count": 4,
   "metadata": {},
   "outputs": [
    {
     "name": "stdout",
     "output_type": "stream",
     "text": [
      "shape: (228, 7)\n",
      "dtype: cholestoral          int64\n",
      "high_sugar           int64\n",
      "ecg                  int64\n",
      "max_rate             int64\n",
      "exercise_angina      int64\n",
      "st_depression      float64\n",
      "heart_disease        int64\n",
      "dtype: object\n",
      "matched index: Index(['cholestoral', 'high_sugar', 'ecg', 'max_rate', 'exercise_angina',\n",
      "       'st_depression', 'heart_disease'],\n",
      "      dtype='object')\n"
     ]
    }
   ],
   "source": [
    "# print some overall info\n",
    "print(\"shape:\", middle_six.shape)\n",
    "print(\"dtype:\", middle_six.dtypes)\n",
    "match_status = (middle_six.dtypes == \"float64\") | (middle_six.dtypes == \"int64\")\n",
    "match_dtype = middle_six.dtypes[match_status]\n",
    "print(\"matched index:\", match_dtype.index)"
   ]
  },
  {
   "cell_type": "markdown",
   "metadata": {},
   "source": [
    "## 用 seaborn 套件，對每個變數彼此之間畫出棒狀圖、散步圖...\n",
    "## 同時也用 dataframe 的 corr() 函式，找到個變數之間的相關係數（用預設的皮爾森係數）。並利用 seaborn 畫出熱區圖"
   ]
  },
  {
   "cell_type": "code",
   "execution_count": 5,
   "metadata": {},
   "outputs": [
    {
     "data": {
      "text/plain": [
       "<seaborn.axisgrid.PairGrid at 0x118d42d30>"
      ]
     },
     "execution_count": 5,
     "metadata": {},
     "output_type": "execute_result"
    },
    {
     "data": {
      "image/png": "[encoded data removed]",
      "text/plain": [
       "<Figure size 1260x1260 with 56 Axes>"
      ]
     },
     "metadata": {
      "needs_background": "light"
     },
     "output_type": "display_data"
    }
   ],
   "source": [
    "# print all variables' pariplot\n",
    "sns.pairplot(middle_six.loc[:,match_status])"
   ]
  },
  {
   "cell_type": "code",
   "execution_count": 6,
   "metadata": {},
   "outputs": [
    {
     "data": {
      "text/plain": [
       "<matplotlib.axes._subplots.AxesSubplot at 0x11c6a5160>"
      ]
     },
     "execution_count": 6,
     "metadata": {},
     "output_type": "execute_result"
    },
    {
     "data": {
      "image/png": "[encoded data removed]",
      "text/plain": [
       "<Figure size 432x288 with 2 Axes>"
      ]
     },
     "metadata": {
      "needs_background": "light"
     },
     "output_type": "display_data"
    }
   ],
   "source": [
    "# print correlation and use seaborn to plot heatmap\n",
    "middle_six_corr = middle_six.loc[:,match_status].corr()\n",
    "sns.heatmap(middle_six_corr, xticklabels=middle_six_corr.columns, yticklabels=middle_six_corr.columns, cmap=sns.diverging_palette(220, 10, as_cmap=True), annot=True)"
   ]
  },
  {
   "cell_type": "markdown",
   "metadata": {},
   "source": [
    "## 處理 cholestoral 變數。\n",
    "## 首先列出 總和、平均數，也列出四分位數。最後看看有沒有 nan 的資料 "
   ]
  },
  {
   "cell_type": "code",
   "execution_count": 7,
   "metadata": {},
   "outputs": [
    {
     "name": "stdout",
     "output_type": "stream",
     "text": [
      "0      233\n",
      "1      286\n",
      "2      229\n",
      "3      204\n",
      "4      236\n",
      "      ... \n",
      "223    157\n",
      "224    176\n",
      "225    241\n",
      "226    131\n",
      "227    175\n",
      "Name: cholestoral, Length: 228, dtype: int64 \n",
      "\n",
      "陣列中的總和---------------> 56621\n",
      "陣列中的平均值-------------> 248.33771929824562\n",
      "陣列中最小值---------------> 126\n",
      "陣列中第一四分位---------------> 212.75\n",
      "陣列中middle two的平均值---> 244.0\n",
      "陣列中第三四分位---------------> 276.25\n",
      "陣列中最大值---------------> 417\n",
      "陣列中的個數---------------> 228\n",
      "nan 個數: 0, 值為: Series([], Name: cholestoral, dtype: int64)\n",
      "unique value: [233 286 229 204 236 354 254 203 192 294 199 239 275 266 211 224 340 226\n",
      " 247 335 177 276 243 212 330 230 175 417 198 290 219 253 172 273 213 305\n",
      " 304 188 282 185 232 231 269 267 248 197 258 245 270 264 321 274 325 257\n",
      " 216 164 252 255 201 222 260 182 303 265 309 307 186 341 263 407 217 234\n",
      " 220 209 227 261 250 281 288 240 289 308 318 298 246 322 299 300 214 223\n",
      " 160 249 394 184 409 244 195 283 196 126 313 259 200 228 193 271 268 210\n",
      " 277 327 149 306 178 237 208 218 242 319 315 180 311 278 205 225 342 157\n",
      " 176 241 131]\n"
     ]
    }
   ],
   "source": [
    "# cholestoral column, and get unique value\n",
    "cholestoral = middle_six.iloc[:,0]\n",
    "print(cholestoral, \"\\n\")\n",
    "print('陣列中的總和--------------->',cholestoral.sum())\n",
    "print('陣列中的平均值------------->',cholestoral.mean())\n",
    "print('陣列中最小值--------------->',cholestoral.min())\n",
    "print('陣列中第一四分位--------------->',cholestoral.quantile([0.25]).values[0])\n",
    "print('陣列中middle two的平均值--->',cholestoral.median())\n",
    "print('陣列中第三四分位--------------->',cholestoral.quantile([0.75]).values[0])\n",
    "print('陣列中最大值--------------->',cholestoral.max())\n",
    "print('陣列中的個數--------------->',cholestoral.count())\n",
    "print('nan 個數: {}, 值為: {}'.format(len(cholestoral[cholestoral.isna()]), cholestoral[cholestoral.isna()]))\n",
    "print('unique value: {}'.format(cholestoral.unique()))"
   ]
  },
  {
   "cell_type": "markdown",
   "metadata": {},
   "source": [
    "## 先畫出原始的直方圖"
   ]
  },
  {
   "cell_type": "code",
   "execution_count": 8,
   "metadata": {},
   "outputs": [
    {
     "data": {
      "text/plain": [
       "<matplotlib.axes._subplots.AxesSubplot at 0x11cf7b390>"
      ]
     },
     "execution_count": 8,
     "metadata": {},
     "output_type": "execute_result"
    },
    {
     "data": {
      "image/png": "[encoded data removed]",
      "text/plain": [
       "<Figure size 432x288 with 1 Axes>"
      ]
     },
     "metadata": {
      "needs_background": "light"
     },
     "output_type": "display_data"
    }
   ],
   "source": [
    "cholestoral.plot.hist()"
   ]
  },
  {
   "cell_type": "markdown",
   "metadata": {},
   "source": [
    "## 根據上面直方圖，想說可不可以從資料本身的特色及分佈，利用 KMeans 分群，找到適合的點群，並利用該些點群來當成區間參考\n",
    "## 把各種 k 所算出來的 sum of distance 利用 plot 畫出來"
   ]
  },
  {
   "cell_type": "code",
   "execution_count": 9,
   "metadata": {},
   "outputs": [
    {
     "data": {
      "text/plain": [
       "(2, [126, 216.51094890510944, 296.2527472527472, 417], 4)"
      ]
     },
     "execution_count": 9,
     "metadata": {},
     "output_type": "execute_result"
    }
   ],
   "source": [
    "# 根據上面 histogram，試著找到最佳分群來當作 bin 區間\n",
    "Sum_of_squared_distances = []\n",
    "Sum_of_squared_thre = 0.5\n",
    "current_k = 0\n",
    "current_dst = 0\n",
    "center = None\n",
    "cholestoral_val = cholestoral.values\n",
    "cholestoral_val = cholestoral_val.reshape(-1,1)\n",
    "K = range(1,15)\n",
    "for k in K:\n",
    "    km = KMeans(n_clusters=k)\n",
    "    km = km.fit(cholestoral_val)\n",
    "    if k == 1 :\n",
    "        current_dst = km.inertia_\n",
    "        current_k = k\n",
    "        center = km.cluster_centers_\n",
    "    else :\n",
    "        if np.abs(current_dst - km.inertia_)/current_dst >= Sum_of_squared_thre :\n",
    "            current_k = k\n",
    "            center = km.cluster_centers_\n",
    "        current_dst = km.inertia_\n",
    "    Sum_of_squared_distances.append(current_dst)\n",
    "\n",
    "final_center = []\n",
    "center = center.astype(np.float64)\n",
    "center = center.reshape(-1)\n",
    "center = np.sort(center)\n",
    "center = center.tolist()\n",
    "final_center.append(cholestoral_val.min())\n",
    "final_center.extend(center)\n",
    "final_center.append(cholestoral_val.max())\n",
    "current_k, final_center, len(final_center)"
   ]
  },
  {
   "cell_type": "code",
   "execution_count": 10,
   "metadata": {},
   "outputs": [
    {
     "data": {
      "image/png": "[encoded data removed]",
      "text/plain": [
       "<Figure size 432x288 with 1 Axes>"
      ]
     },
     "metadata": {
      "needs_background": "light"
     },
     "output_type": "display_data"
    }
   ],
   "source": [
    "# plot k means result\n",
    "plt.plot(K, Sum_of_squared_distances, 'bx-')\n",
    "plt.xlabel('k')\n",
    "plt.ylabel('Sum_of_squared_distances')\n",
    "plt.title('Elbow Method For Optimal k')\n",
    "plt.show()"
   ]
  },
  {
   "cell_type": "markdown",
   "metadata": {},
   "source": [
    "## 根據找到的各區間，對應每筆資料的同時，多新增一個欄位來填入這些轉換後的標籤值"
   ]
  },
  {
   "cell_type": "code",
   "execution_count": 11,
   "metadata": {},
   "outputs": [
    {
     "data": {
      "text/html": [
       "<div>\n",
       "<style scoped>\n",
       "    .dataframe tbody tr th:only-of-type {\n",
       "        vertical-align: middle;\n",
       "    }\n",
       "\n",
       "    .dataframe tbody tr th {\n",
       "        vertical-align: top;\n",
       "    }\n",
       "\n",
       "    .dataframe thead th {\n",
       "        text-align: right;\n",
       "    }\n",
       "</style>\n",
       "<table border=\"1\" class=\"dataframe\">\n",
       "  <thead>\n",
       "    <tr style=\"text-align: right;\">\n",
       "      <th></th>\n",
       "      <th>cholestoral</th>\n",
       "      <th>high_sugar</th>\n",
       "      <th>ecg</th>\n",
       "      <th>max_rate</th>\n",
       "      <th>exercise_angina</th>\n",
       "      <th>st_depression</th>\n",
       "      <th>heart_disease</th>\n",
       "      <th>cholestoral_label</th>\n",
       "    </tr>\n",
       "  </thead>\n",
       "  <tbody>\n",
       "    <tr>\n",
       "      <th>0</th>\n",
       "      <td>233</td>\n",
       "      <td>1</td>\n",
       "      <td>2</td>\n",
       "      <td>150</td>\n",
       "      <td>0</td>\n",
       "      <td>2.3</td>\n",
       "      <td>0</td>\n",
       "      <td>1</td>\n",
       "    </tr>\n",
       "    <tr>\n",
       "      <th>1</th>\n",
       "      <td>286</td>\n",
       "      <td>0</td>\n",
       "      <td>2</td>\n",
       "      <td>108</td>\n",
       "      <td>1</td>\n",
       "      <td>1.5</td>\n",
       "      <td>1</td>\n",
       "      <td>1</td>\n",
       "    </tr>\n",
       "    <tr>\n",
       "      <th>2</th>\n",
       "      <td>229</td>\n",
       "      <td>0</td>\n",
       "      <td>2</td>\n",
       "      <td>129</td>\n",
       "      <td>1</td>\n",
       "      <td>2.6</td>\n",
       "      <td>1</td>\n",
       "      <td>1</td>\n",
       "    </tr>\n",
       "    <tr>\n",
       "      <th>3</th>\n",
       "      <td>204</td>\n",
       "      <td>0</td>\n",
       "      <td>2</td>\n",
       "      <td>172</td>\n",
       "      <td>0</td>\n",
       "      <td>1.4</td>\n",
       "      <td>0</td>\n",
       "      <td>0</td>\n",
       "    </tr>\n",
       "    <tr>\n",
       "      <th>4</th>\n",
       "      <td>236</td>\n",
       "      <td>0</td>\n",
       "      <td>0</td>\n",
       "      <td>178</td>\n",
       "      <td>0</td>\n",
       "      <td>0.8</td>\n",
       "      <td>0</td>\n",
       "      <td>1</td>\n",
       "    </tr>\n",
       "    <tr>\n",
       "      <th>...</th>\n",
       "      <td>...</td>\n",
       "      <td>...</td>\n",
       "      <td>...</td>\n",
       "      <td>...</td>\n",
       "      <td>...</td>\n",
       "      <td>...</td>\n",
       "      <td>...</td>\n",
       "      <td>...</td>\n",
       "    </tr>\n",
       "    <tr>\n",
       "      <th>223</th>\n",
       "      <td>157</td>\n",
       "      <td>0</td>\n",
       "      <td>0</td>\n",
       "      <td>182</td>\n",
       "      <td>0</td>\n",
       "      <td>0.0</td>\n",
       "      <td>0</td>\n",
       "      <td>0</td>\n",
       "    </tr>\n",
       "    <tr>\n",
       "      <th>224</th>\n",
       "      <td>176</td>\n",
       "      <td>1</td>\n",
       "      <td>2</td>\n",
       "      <td>90</td>\n",
       "      <td>0</td>\n",
       "      <td>1.0</td>\n",
       "      <td>1</td>\n",
       "      <td>0</td>\n",
       "    </tr>\n",
       "    <tr>\n",
       "      <th>225</th>\n",
       "      <td>241</td>\n",
       "      <td>0</td>\n",
       "      <td>0</td>\n",
       "      <td>123</td>\n",
       "      <td>1</td>\n",
       "      <td>0.2</td>\n",
       "      <td>1</td>\n",
       "      <td>1</td>\n",
       "    </tr>\n",
       "    <tr>\n",
       "      <th>226</th>\n",
       "      <td>131</td>\n",
       "      <td>0</td>\n",
       "      <td>0</td>\n",
       "      <td>115</td>\n",
       "      <td>1</td>\n",
       "      <td>1.2</td>\n",
       "      <td>1</td>\n",
       "      <td>0</td>\n",
       "    </tr>\n",
       "    <tr>\n",
       "      <th>227</th>\n",
       "      <td>175</td>\n",
       "      <td>0</td>\n",
       "      <td>0</td>\n",
       "      <td>173</td>\n",
       "      <td>0</td>\n",
       "      <td>0.0</td>\n",
       "      <td>0</td>\n",
       "      <td>0</td>\n",
       "    </tr>\n",
       "  </tbody>\n",
       "</table>\n",
       "<p>228 rows × 8 columns</p>\n",
       "</div>"
      ],
      "text/plain": [
       "     cholestoral  high_sugar  ecg  max_rate  exercise_angina  st_depression  \\\n",
       "0            233           1    2       150                0            2.3   \n",
       "1            286           0    2       108                1            1.5   \n",
       "2            229           0    2       129                1            2.6   \n",
       "3            204           0    2       172                0            1.4   \n",
       "4            236           0    0       178                0            0.8   \n",
       "..           ...         ...  ...       ...              ...            ...   \n",
       "223          157           0    0       182                0            0.0   \n",
       "224          176           1    2        90                0            1.0   \n",
       "225          241           0    0       123                1            0.2   \n",
       "226          131           0    0       115                1            1.2   \n",
       "227          175           0    0       173                0            0.0   \n",
       "\n",
       "     heart_disease cholestoral_label  \n",
       "0                0                 1  \n",
       "1                1                 1  \n",
       "2                1                 1  \n",
       "3                0                 0  \n",
       "4                0                 1  \n",
       "..             ...               ...  \n",
       "223              0                 0  \n",
       "224              1                 0  \n",
       "225              1                 1  \n",
       "226              1                 0  \n",
       "227              0                 0  \n",
       "\n",
       "[228 rows x 8 columns]"
      ]
     },
     "execution_count": 11,
     "metadata": {},
     "output_type": "execute_result"
    }
   ],
   "source": [
    "# cut bins by k means result\n",
    "bins = final_center\n",
    "label_name = [str(i) for i in list(range(len(bins)-1))]\n",
    "middle_six[\"cholestoral_label\"] = pd.cut(middle_six.cholestoral, bins, labels=label_name, include_lowest=True)\n",
    "middle_six"
   ]
  },
  {
   "cell_type": "markdown",
   "metadata": {},
   "source": [
    "##  確認新欄位有無 nan 的值，並列出 unique value"
   ]
  },
  {
   "cell_type": "code",
   "execution_count": 12,
   "metadata": {},
   "outputs": [
    {
     "name": "stdout",
     "output_type": "stream",
     "text": [
      "nan 個數: 0, 值為: Series([], Name: cholestoral_label, dtype: category\n",
      "Categories (3, object): [0 < 1 < 2])\n",
      "unique value: [1, 0, 2]\n",
      "Categories (3, object): [0 < 1 < 2]\n"
     ]
    }
   ],
   "source": [
    "cholestoral_label = middle_six[\"cholestoral_label\"]\n",
    "print('nan 個數: {}, 值為: {}'.format(len(cholestoral_label[cholestoral_label.isna()]), cholestoral_label[cholestoral_label.isna()]))\n",
    "print('unique value: {}'.format(cholestoral_label.unique()))"
   ]
  },
  {
   "cell_type": "markdown",
   "metadata": {},
   "source": [
    "## 把新增的欄位的資料，用直方圖畫出來看看分佈"
   ]
  },
  {
   "cell_type": "code",
   "execution_count": 13,
   "metadata": {},
   "outputs": [
    {
     "data": {
      "text/plain": [
       "<matplotlib.axes._subplots.AxesSubplot at 0x11d166c50>"
      ]
     },
     "execution_count": 13,
     "metadata": {},
     "output_type": "execute_result"
    },
    {
     "data": {
      "image/png": "[encoded data removed]",
      "text/plain": [
       "<Figure size 432x288 with 1 Axes>"
      ]
     },
     "metadata": {
      "needs_background": "light"
     },
     "output_type": "display_data"
    }
   ],
   "source": [
    "# plot bins from result\n",
    "cholestoral_label = middle_six[\"cholestoral_label\"].value_counts()\n",
    "cholestoral_label.plot(kind='bar')"
   ]
  },
  {
   "cell_type": "markdown",
   "metadata": {},
   "source": [
    "## 利用 seaborn 畫出 boxplot，同時找到離群值\n",
    "## 而這邊找離群值的方法，純粹是找資料中 0.15 與 0.85 以外（兩旁）的資料\n",
    "## 同時也能找到非離群值的欄位資料"
   ]
  },
  {
   "cell_type": "code",
   "execution_count": 14,
   "metadata": {},
   "outputs": [
    {
     "data": {
      "text/plain": [
       "<matplotlib.axes._subplots.AxesSubplot at 0x11d239748>"
      ]
     },
     "execution_count": 14,
     "metadata": {},
     "output_type": "execute_result"
    },
    {
     "data": {
      "image/png": "[encoded data removed]",
      "text/plain": [
       "<Figure size 432x288 with 1 Axes>"
      ]
     },
     "metadata": {
      "needs_background": "light"
     },
     "output_type": "display_data"
    }
   ],
   "source": [
    "# find outliers and boxplot\n",
    "sns.boxplot(x=cholestoral)"
   ]
  },
  {
   "cell_type": "code",
   "execution_count": 15,
   "metadata": {},
   "outputs": [
    {
     "data": {
      "text/plain": [
       "<matplotlib.axes._subplots.AxesSubplot at 0x11d2feb00>"
      ]
     },
     "execution_count": 15,
     "metadata": {},
     "output_type": "execute_result"
    },
    {
     "data": {
      "image/png": "[encoded data removed]",
      "text/plain": [
       "<Figure size 432x288 with 1 Axes>"
      ]
     },
     "metadata": {
      "needs_background": "light"
     },
     "output_type": "display_data"
    }
   ],
   "source": [
    "Q1 = cholestoral.quantile(0.25)\n",
    "Q3 = cholestoral.quantile(0.75)\n",
    "IQR = Q3 - Q1\n",
    "cholestoral_min_outlier = (cholestoral < (Q1 - rge * IQR))\n",
    "cholestoral_max_outlier = (cholestoral > (Q3 + rge * IQR))\n",
    "outlier = cholestoral_min_outlier | cholestoral_max_outlier\n",
    "without_outlier = ~outlier\n",
    "cholestoral_without_outlier = cholestoral[without_outlier] # without outliers\n",
    "sns.boxplot(x=cholestoral_without_outlier)"
   ]
  },
  {
   "cell_type": "markdown",
   "metadata": {},
   "source": [
    "## 移除 outliers 後，在利用直方圖來看看分佈跟畫出 boxplot"
   ]
  },
  {
   "cell_type": "code",
   "execution_count": 16,
   "metadata": {},
   "outputs": [
    {
     "data": {
      "text/plain": [
       "<matplotlib.axes._subplots.AxesSubplot at 0x11d3dbf28>"
      ]
     },
     "execution_count": 16,
     "metadata": {},
     "output_type": "execute_result"
    },
    {
     "data": {
      "image/png": "[encoded data removed]",
      "text/plain": [
       "<Figure size 432x288 with 1 Axes>"
      ]
     },
     "metadata": {
      "needs_background": "light"
     },
     "output_type": "display_data"
    }
   ],
   "source": [
    "cholestoral_without_outlier.plot.hist()"
   ]
  },
  {
   "cell_type": "code",
   "execution_count": 17,
   "metadata": {},
   "outputs": [
    {
     "data": {
      "text/plain": [
       "<matplotlib.axes._subplots.AxesSubplot at 0x11d4c4470>"
      ]
     },
     "execution_count": 17,
     "metadata": {},
     "output_type": "execute_result"
    },
    {
     "data": {
      "image/png": "[encoded data removed]",
      "text/plain": [
       "<Figure size 432x288 with 1 Axes>"
      ]
     },
     "metadata": {
      "needs_background": "light"
     },
     "output_type": "display_data"
    }
   ],
   "source": [
    "cholestoral_with_outlier = cholestoral[outlier]\n",
    "sns.boxplot(x=cholestoral_with_outlier)"
   ]
  },
  {
   "cell_type": "markdown",
   "metadata": {},
   "source": [
    "## 處理 high_sugar 變數。\n",
    "## 首先列出 總和、平均數，也列出四分位數。最後看看有沒有 nan 的資料 "
   ]
  },
  {
   "cell_type": "code",
   "execution_count": 18,
   "metadata": {},
   "outputs": [
    {
     "name": "stdout",
     "output_type": "stream",
     "text": [
      "0      1\n",
      "1      0\n",
      "2      0\n",
      "3      0\n",
      "4      0\n",
      "      ..\n",
      "223    0\n",
      "224    1\n",
      "225    0\n",
      "226    0\n",
      "227    0\n",
      "Name: high_sugar, Length: 228, dtype: int64 \n",
      "\n",
      "陣列中的總和---------------> 32\n",
      "陣列中的平均值-------------> 0.14035087719298245\n",
      "陣列中最小值---------------> 0\n",
      "陣列中第一四分位---------------> 0.0\n",
      "陣列中middle two的平均值---> 0.0\n",
      "陣列中第三四分位---------------> 0.0\n",
      "陣列中最大值---------------> 1\n",
      "陣列中的個數---------------> 228\n",
      "nan 個數: 0, 值為: Series([], Name: high_sugar, dtype: int64)\n",
      "unique value: [1 0]\n"
     ]
    },
    {
     "data": {
      "text/plain": [
       "0      1\n",
       "1      0\n",
       "2      0\n",
       "3      0\n",
       "4      0\n",
       "      ..\n",
       "223    0\n",
       "224    1\n",
       "225    0\n",
       "226    0\n",
       "227    0\n",
       "Name: high_sugar, Length: 228, dtype: int64"
      ]
     },
     "execution_count": 18,
     "metadata": {},
     "output_type": "execute_result"
    }
   ],
   "source": [
    "# high_sugar column\n",
    "high_sugar = middle_six.iloc[:,1]\n",
    "print(high_sugar, \"\\n\")\n",
    "print('陣列中的總和--------------->',high_sugar.sum())\n",
    "print('陣列中的平均值------------->',high_sugar.mean())\n",
    "print('陣列中最小值--------------->',high_sugar.min())\n",
    "print('陣列中第一四分位--------------->',high_sugar.quantile([0.25]).values[0])\n",
    "print('陣列中middle two的平均值--->',high_sugar.median())\n",
    "print('陣列中第三四分位--------------->',high_sugar.quantile([0.75]).values[0])\n",
    "print('陣列中最大值--------------->',high_sugar.max())\n",
    "print('陣列中的個數--------------->',high_sugar.count())\n",
    "print('nan 個數: {}, 值為: {}'.format(len(high_sugar[high_sugar.isna()]), high_sugar[high_sugar.isna()]))\n",
    "print('unique value: {}'.format(high_sugar.unique()))\n",
    "high_sugar"
   ]
  },
  {
   "cell_type": "markdown",
   "metadata": {},
   "source": [
    "## 畫出 high sugar 的直方圖（bar chart）"
   ]
  },
  {
   "cell_type": "code",
   "execution_count": 19,
   "metadata": {},
   "outputs": [
    {
     "data": {
      "text/plain": [
       "<matplotlib.axes._subplots.AxesSubplot at 0x11d505b70>"
      ]
     },
     "execution_count": 19,
     "metadata": {},
     "output_type": "execute_result"
    },
    {
     "data": {
      "image/png": "[encoded data removed]",
      "text/plain": [
       "<Figure size 432x288 with 1 Axes>"
      ]
     },
     "metadata": {
      "needs_background": "light"
     },
     "output_type": "display_data"
    }
   ],
   "source": [
    "# plot high sugar\n",
    "high_sugar.plot.hist()"
   ]
  },
  {
   "cell_type": "markdown",
   "metadata": {},
   "source": [
    "## 利用列聯表，找到 high sugar 跟 heart disease 答案之間的關係\n",
    "## 接著利用列聯表，試圖找出此 high sugar 的特徵重不重要；與答案有沒有關係\n",
    "## 方法包括：chi square / mutual information。其中 chi square test 是拿來看特徵有沒有跟答案獨立、關係；mutual information 是看特徵在答案分類中，資訊熵佔大不大"
   ]
  },
  {
   "cell_type": "code",
   "execution_count": 20,
   "metadata": {},
   "outputs": [
    {
     "data": {
      "text/html": [
       "<div>\n",
       "<style scoped>\n",
       "    .dataframe tbody tr th:only-of-type {\n",
       "        vertical-align: middle;\n",
       "    }\n",
       "\n",
       "    .dataframe tbody tr th {\n",
       "        vertical-align: top;\n",
       "    }\n",
       "\n",
       "    .dataframe thead th {\n",
       "        text-align: right;\n",
       "    }\n",
       "</style>\n",
       "<table border=\"1\" class=\"dataframe\">\n",
       "  <thead>\n",
       "    <tr style=\"text-align: right;\">\n",
       "      <th>heart_disease</th>\n",
       "      <th>0</th>\n",
       "      <th>1</th>\n",
       "    </tr>\n",
       "    <tr>\n",
       "      <th>high_sugar</th>\n",
       "      <th></th>\n",
       "      <th></th>\n",
       "    </tr>\n",
       "  </thead>\n",
       "  <tbody>\n",
       "    <tr>\n",
       "      <th>0</th>\n",
       "      <td>103</td>\n",
       "      <td>93</td>\n",
       "    </tr>\n",
       "    <tr>\n",
       "      <th>1</th>\n",
       "      <td>17</td>\n",
       "      <td>15</td>\n",
       "    </tr>\n",
       "  </tbody>\n",
       "</table>\n",
       "</div>"
      ],
      "text/plain": [
       "heart_disease    0   1\n",
       "high_sugar            \n",
       "0              103  93\n",
       "1               17  15"
      ]
     },
     "execution_count": 20,
     "metadata": {},
     "output_type": "execute_result"
    }
   ],
   "source": [
    "# contigency table between answer\n",
    "crosstab_high_sugar = pd.crosstab(middle_six.high_sugar, middle_six.heart_disease)\n",
    "crosstab_high_sugar"
   ]
  },
  {
   "cell_type": "markdown",
   "metadata": {},
   "source": [
    "## 根據上面直方圖，想說可不可以從資料本身的特色及分佈，利用 KMeans 分群，找到適合的點群，並利用該些點群來當成區間參考\n",
    "## 把各種 k 所算出來的 sum of distance 利用 plot 畫出來"
   ]
  },
  {
   "cell_type": "code",
   "execution_count": 21,
   "metadata": {},
   "outputs": [
    {
     "name": "stdout",
     "output_type": "stream",
     "text": [
      "===Chi Square Test===\n",
      "\n",
      "===Chi2 Stat===\n",
      "0.017065263605442114\n",
      "\n",
      "===Degrees of Freedom===\n",
      "1\n",
      "\n",
      "===P-Value===\n",
      "0.8960647795279932\n",
      "\n",
      "===Contingency Table===\n",
      "[[103.15789474  92.84210526]\n",
      " [ 16.84210526  15.15789474]]\n",
      "significance=0.050, p=0.896\n",
      "\n",
      "Variables are not associated(fail to reject H0)\n",
      "\n",
      "===Mutual Information's score=== \n",
      "7.974368301910673e-06\n"
     ]
    }
   ],
   "source": [
    "# get mutal information and chi square's p value\n",
    "mi_score = mutual_info_score(middle_six.high_sugar.values, middle_six.heart_disease.values, crosstab_high_sugar.values)\n",
    "chi2_stat, p, dof, ex = stats.chi2_contingency(crosstab_high_sugar.values)\n",
    "\n",
    "# select significance value\n",
    "alpha = 0.05\n",
    "\n",
    "print(\"===Chi Square Test===\\n\")\n",
    "print(\"===Chi2 Stat===\")\n",
    "print(chi2_stat)\n",
    "print(\"\\n===Degrees of Freedom===\")\n",
    "print(dof)\n",
    "print(\"\\n===P-Value===\")\n",
    "print(p)\n",
    "print(\"\\n===Contingency Table===\")\n",
    "print(ex)\n",
    "\n",
    "# Determine whether to reject or keep your null hypothesis\n",
    "print('significance=%.3f, p=%.3f' % (alpha, p))\n",
    "if p <= alpha:\n",
    "    print('\\nVariables are associated (reject H0)')\n",
    "else:\n",
    "    print('\\nVariables are not associated(fail to reject H0)')\n",
    "\n",
    "print(\"\\n===Mutual Information's score=== \\n{}\".format(mi_score))\n"
   ]
  },
  {
   "cell_type": "markdown",
   "metadata": {},
   "source": [
    "## 根據上面列聯表，畫出 stack 的直方圖"
   ]
  },
  {
   "cell_type": "code",
   "execution_count": 22,
   "metadata": {},
   "outputs": [
    {
     "data": {
      "text/plain": [
       "<matplotlib.axes._subplots.AxesSubplot at 0x11d68a7f0>"
      ]
     },
     "execution_count": 22,
     "metadata": {},
     "output_type": "execute_result"
    },
    {
     "data": {
      "image/png": "[encoded data removed]",
      "text/plain": [
       "<Figure size 432x288 with 1 Axes>"
      ]
     },
     "metadata": {
      "needs_background": "light"
     },
     "output_type": "display_data"
    }
   ],
   "source": [
    "# plot bar chart base on Contingency\n",
    "crosstab_high_sugar.plot.bar(stacked=True)"
   ]
  },
  {
   "cell_type": "markdown",
   "metadata": {},
   "source": [
    "## 這部分我們利用 high_sugar 與 heart_disease 群集起來，列出每個值的平均值\n",
    "## 並利用折線圖來看趨勢走向，了解彼此關係"
   ]
  },
  {
   "cell_type": "code",
   "execution_count": 23,
   "metadata": {},
   "outputs": [
    {
     "data": {
      "text/html": [
       "<div>\n",
       "<style scoped>\n",
       "    .dataframe tbody tr th:only-of-type {\n",
       "        vertical-align: middle;\n",
       "    }\n",
       "\n",
       "    .dataframe tbody tr th {\n",
       "        vertical-align: top;\n",
       "    }\n",
       "\n",
       "    .dataframe thead th {\n",
       "        text-align: right;\n",
       "    }\n",
       "</style>\n",
       "<table border=\"1\" class=\"dataframe\">\n",
       "  <thead>\n",
       "    <tr style=\"text-align: right;\">\n",
       "      <th></th>\n",
       "      <th></th>\n",
       "      <th>cholestoral</th>\n",
       "      <th>ecg</th>\n",
       "      <th>max_rate</th>\n",
       "      <th>exercise_angina</th>\n",
       "      <th>st_depression</th>\n",
       "    </tr>\n",
       "    <tr>\n",
       "      <th>high_sugar</th>\n",
       "      <th>heart_disease</th>\n",
       "      <th></th>\n",
       "      <th></th>\n",
       "      <th></th>\n",
       "      <th></th>\n",
       "      <th></th>\n",
       "    </tr>\n",
       "  </thead>\n",
       "  <tbody>\n",
       "    <tr>\n",
       "      <th rowspan=\"2\" valign=\"top\">0</th>\n",
       "      <th>0</th>\n",
       "      <td>241.980583</td>\n",
       "      <td>0.902913</td>\n",
       "      <td>157.747573</td>\n",
       "      <td>0.165049</td>\n",
       "      <td>0.566990</td>\n",
       "    </tr>\n",
       "    <tr>\n",
       "      <th>1</th>\n",
       "      <td>255.043011</td>\n",
       "      <td>1.150538</td>\n",
       "      <td>138.967742</td>\n",
       "      <td>0.505376</td>\n",
       "      <td>1.505376</td>\n",
       "    </tr>\n",
       "    <tr>\n",
       "      <th rowspan=\"2\" valign=\"top\">1</th>\n",
       "      <th>0</th>\n",
       "      <td>239.117647</td>\n",
       "      <td>0.705882</td>\n",
       "      <td>156.470588</td>\n",
       "      <td>0.058824</td>\n",
       "      <td>0.500000</td>\n",
       "    </tr>\n",
       "    <tr>\n",
       "      <th>1</th>\n",
       "      <td>260.866667</td>\n",
       "      <td>1.466667</td>\n",
       "      <td>137.733333</td>\n",
       "      <td>0.600000</td>\n",
       "      <td>1.566667</td>\n",
       "    </tr>\n",
       "  </tbody>\n",
       "</table>\n",
       "</div>"
      ],
      "text/plain": [
       "                          cholestoral       ecg    max_rate  exercise_angina  \\\n",
       "high_sugar heart_disease                                                       \n",
       "0          0               241.980583  0.902913  157.747573         0.165049   \n",
       "           1               255.043011  1.150538  138.967742         0.505376   \n",
       "1          0               239.117647  0.705882  156.470588         0.058824   \n",
       "           1               260.866667  1.466667  137.733333         0.600000   \n",
       "\n",
       "                          st_depression  \n",
       "high_sugar heart_disease                 \n",
       "0          0                   0.566990  \n",
       "           1                   1.505376  \n",
       "1          0                   0.500000  \n",
       "           1                   1.566667  "
      ]
     },
     "execution_count": 23,
     "metadata": {},
     "output_type": "execute_result"
    }
   ],
   "source": [
    "# 分組的方式印出列中表\n",
    "high_sugar_groupby = middle_six.groupby([\"high_sugar\", \"heart_disease\"]).mean()\n",
    "# high_sugar_groupby = pd.pivot_table(middle_six, index=[\"high_sugar\", \"heart_disease\"])\n",
    "high_sugar_groupby"
   ]
  },
  {
   "cell_type": "code",
   "execution_count": 24,
   "metadata": {},
   "outputs": [
    {
     "data": {
      "text/plain": [
       "<matplotlib.axes._subplots.AxesSubplot at 0x11d6580f0>"
      ]
     },
     "execution_count": 24,
     "metadata": {},
     "output_type": "execute_result"
    },
    {
     "data": {
      "image/png": "[encoded data removed]",
      "text/plain": [
       "<Figure size 432x288 with 1 Axes>"
      ]
     },
     "metadata": {
      "needs_background": "light"
     },
     "output_type": "display_data"
    }
   ],
   "source": [
    "# 畫出折線圖\n",
    "high_sugar_groupby.plot.line()"
   ]
  },
  {
   "cell_type": "markdown",
   "metadata": {},
   "source": [
    "## 處理 ecg 變數。\n",
    "## 首先列出 總和、平均數，也列出四分位數。最後看看有沒有 nan 的資料 "
   ]
  },
  {
   "cell_type": "code",
   "execution_count": 25,
   "metadata": {},
   "outputs": [
    {
     "name": "stdout",
     "output_type": "stream",
     "text": [
      "0      2\n",
      "1      2\n",
      "2      2\n",
      "3      2\n",
      "4      0\n",
      "      ..\n",
      "223    0\n",
      "224    2\n",
      "225    0\n",
      "226    0\n",
      "227    0\n",
      "Name: ecg, Length: 228, dtype: int64 \n",
      "\n",
      "陣列中的總和---------------> 234\n",
      "陣列中的平均值-------------> 1.0263157894736843\n",
      "陣列中最小值---------------> 0\n",
      "陣列中第一四分位---------------> 0.0\n",
      "陣列中middle two的平均值---> 2.0\n",
      "陣列中第三四分位---------------> 2.0\n",
      "陣列中最大值---------------> 2\n",
      "陣列中的個數---------------> 228\n",
      "nan 個數: 0, 值為: Series([], Name: ecg, dtype: int64)\n",
      "unique value: [2 0 1]\n"
     ]
    },
    {
     "data": {
      "text/plain": [
       "0      2\n",
       "1      2\n",
       "2      2\n",
       "3      2\n",
       "4      0\n",
       "      ..\n",
       "223    0\n",
       "224    2\n",
       "225    0\n",
       "226    0\n",
       "227    0\n",
       "Name: ecg, Length: 228, dtype: int64"
      ]
     },
     "execution_count": 25,
     "metadata": {},
     "output_type": "execute_result"
    }
   ],
   "source": [
    "# ecg column\n",
    "ecg = middle_six.iloc[:,2]\n",
    "print(ecg, \"\\n\")\n",
    "print('陣列中的總和--------------->',ecg.sum())\n",
    "print('陣列中的平均值------------->',ecg.mean())\n",
    "print('陣列中最小值--------------->',ecg.min())\n",
    "print('陣列中第一四分位--------------->',ecg.quantile([0.25]).values[0])\n",
    "print('陣列中middle two的平均值--->',ecg.median())\n",
    "print('陣列中第三四分位--------------->',ecg.quantile([0.75]).values[0])\n",
    "print('陣列中最大值--------------->',ecg.max())\n",
    "print('陣列中的個數--------------->',ecg.count())\n",
    "print('nan 個數: {}, 值為: {}'.format(len(ecg[ecg.isna()]), ecg[ecg.isna()]))\n",
    "print('unique value: {}'.format(ecg.unique()))\n",
    "ecg"
   ]
  },
  {
   "cell_type": "markdown",
   "metadata": {},
   "source": [
    "## 畫出 eco 直方圖"
   ]
  },
  {
   "cell_type": "code",
   "execution_count": 26,
   "metadata": {},
   "outputs": [
    {
     "data": {
      "text/plain": [
       "<matplotlib.axes._subplots.AxesSubplot at 0x11d87a048>"
      ]
     },
     "execution_count": 26,
     "metadata": {},
     "output_type": "execute_result"
    },
    {
     "data": {
      "image/png": "[encoded data removed]",
      "text/plain": [
       "<Figure size 432x288 with 1 Axes>"
      ]
     },
     "metadata": {
      "needs_background": "light"
     },
     "output_type": "display_data"
    }
   ],
   "source": [
    "# plot basic histogram\n",
    "ecg.plot.hist()"
   ]
  },
  {
   "cell_type": "markdown",
   "metadata": {},
   "source": [
    "## 利用列聯表，找到 ecg 跟 heart disease 答案之間的關係\n",
    "## 接著利用列聯表，試圖找出此 ecg 的特徵重不重要；與答案有沒有關係\n",
    "## 方法包括：chi square / mutual information。其中 chi square test 是拿來看特徵有沒有跟答案獨立、關係；mutual information 是看特徵在答案分類中，資訊熵佔大不大"
   ]
  },
  {
   "cell_type": "code",
   "execution_count": 27,
   "metadata": {},
   "outputs": [
    {
     "data": {
      "text/html": [
       "<div>\n",
       "<style scoped>\n",
       "    .dataframe tbody tr th:only-of-type {\n",
       "        vertical-align: middle;\n",
       "    }\n",
       "\n",
       "    .dataframe tbody tr th {\n",
       "        vertical-align: top;\n",
       "    }\n",
       "\n",
       "    .dataframe thead th {\n",
       "        text-align: right;\n",
       "    }\n",
       "</style>\n",
       "<table border=\"1\" class=\"dataframe\">\n",
       "  <thead>\n",
       "    <tr style=\"text-align: right;\">\n",
       "      <th>heart_disease</th>\n",
       "      <th>0</th>\n",
       "      <th>1</th>\n",
       "    </tr>\n",
       "    <tr>\n",
       "      <th>ecg</th>\n",
       "      <th></th>\n",
       "      <th></th>\n",
       "    </tr>\n",
       "  </thead>\n",
       "  <tbody>\n",
       "    <tr>\n",
       "      <th>0</th>\n",
       "      <td>67</td>\n",
       "      <td>42</td>\n",
       "    </tr>\n",
       "    <tr>\n",
       "      <th>1</th>\n",
       "      <td>1</td>\n",
       "      <td>3</td>\n",
       "    </tr>\n",
       "    <tr>\n",
       "      <th>2</th>\n",
       "      <td>52</td>\n",
       "      <td>63</td>\n",
       "    </tr>\n",
       "  </tbody>\n",
       "</table>\n",
       "</div>"
      ],
      "text/plain": [
       "heart_disease   0   1\n",
       "ecg                  \n",
       "0              67  42\n",
       "1               1   3\n",
       "2              52  63"
      ]
     },
     "execution_count": 27,
     "metadata": {},
     "output_type": "execute_result"
    }
   ],
   "source": [
    "# contigency table\n",
    "crosstab_ecg = pd.crosstab(middle_six.ecg, middle_six.heart_disease)\n",
    "crosstab_ecg"
   ]
  },
  {
   "cell_type": "code",
   "execution_count": 28,
   "metadata": {},
   "outputs": [
    {
     "name": "stdout",
     "output_type": "stream",
     "text": [
      "===Chi Square Test===\n",
      "\n",
      "===Chi2 Stat===\n",
      "7.17441364180295\n",
      "\n",
      "===Degrees of Freedom===\n",
      "2\n",
      "\n",
      "===P-Value===\n",
      "0.02767552526225857\n",
      "\n",
      "===Contingency Table===\n",
      "[[57.36842105 51.63157895]\n",
      " [ 2.10526316  1.89473684]\n",
      " [60.52631579 54.47368421]]\n",
      "significance=0.050, p=0.028\n",
      "\n",
      "Variables are associated (reject H0)\n",
      "\n",
      "===Mutual Information's score=== \n",
      "0.015907271189134244\n"
     ]
    }
   ],
   "source": [
    "# get mutal information and chi square's p value\n",
    "mi_score = mutual_info_score(middle_six.ecg.values, middle_six.heart_disease.values, crosstab_ecg.values)\n",
    "chi2_stat, p, dof, ex = stats.chi2_contingency(crosstab_ecg.values)\n",
    "\n",
    "# select significance value\n",
    "alpha = 0.05\n",
    "\n",
    "print(\"===Chi Square Test===\\n\")\n",
    "print(\"===Chi2 Stat===\")\n",
    "print(chi2_stat)\n",
    "print(\"\\n===Degrees of Freedom===\")\n",
    "print(dof)\n",
    "print(\"\\n===P-Value===\")\n",
    "print(p)\n",
    "print(\"\\n===Contingency Table===\")\n",
    "print(ex)\n",
    "\n",
    "# Determine whether to reject or keep your null hypothesis\n",
    "print('significance=%.3f, p=%.3f' % (alpha, p))\n",
    "if p <= alpha:\n",
    "    print('\\nVariables are associated (reject H0)')\n",
    "else:\n",
    "    print('\\nVariables are not associated(fail to reject H0)')\n",
    "\n",
    "print(\"\\n===Mutual Information's score=== \\n{}\".format(mi_score))"
   ]
  },
  {
   "cell_type": "markdown",
   "metadata": {},
   "source": [
    "## 根據上面列聯表，畫出 stack 的直方圖"
   ]
  },
  {
   "cell_type": "code",
   "execution_count": 29,
   "metadata": {},
   "outputs": [
    {
     "data": {
      "text/plain": [
       "<matplotlib.axes._subplots.AxesSubplot at 0x11d9876a0>"
      ]
     },
     "execution_count": 29,
     "metadata": {},
     "output_type": "execute_result"
    },
    {
     "data": {
      "image/png": "[encoded data removed]",
      "text/plain": [
       "<Figure size 432x288 with 1 Axes>"
      ]
     },
     "metadata": {
      "needs_background": "light"
     },
     "output_type": "display_data"
    }
   ],
   "source": [
    "# plot bar chart base on conabstigency table\n",
    "crosstab_ecg.plot.bar(stacked=True)"
   ]
  },
  {
   "cell_type": "markdown",
   "metadata": {},
   "source": [
    "## 這部分我們利用 ecg 與 heart_disease 群集起來，列出每個值的平均值\n",
    "## 並利用折線圖來看趨勢走向，了解彼此關係"
   ]
  },
  {
   "cell_type": "code",
   "execution_count": 30,
   "metadata": {},
   "outputs": [
    {
     "data": {
      "text/html": [
       "<div>\n",
       "<style scoped>\n",
       "    .dataframe tbody tr th:only-of-type {\n",
       "        vertical-align: middle;\n",
       "    }\n",
       "\n",
       "    .dataframe tbody tr th {\n",
       "        vertical-align: top;\n",
       "    }\n",
       "\n",
       "    .dataframe thead th {\n",
       "        text-align: right;\n",
       "    }\n",
       "</style>\n",
       "<table border=\"1\" class=\"dataframe\">\n",
       "  <thead>\n",
       "    <tr style=\"text-align: right;\">\n",
       "      <th></th>\n",
       "      <th></th>\n",
       "      <th>cholestoral</th>\n",
       "      <th>high_sugar</th>\n",
       "      <th>max_rate</th>\n",
       "      <th>exercise_angina</th>\n",
       "      <th>st_depression</th>\n",
       "    </tr>\n",
       "    <tr>\n",
       "      <th>ecg</th>\n",
       "      <th>heart_disease</th>\n",
       "      <th></th>\n",
       "      <th></th>\n",
       "      <th></th>\n",
       "      <th></th>\n",
       "      <th></th>\n",
       "    </tr>\n",
       "  </thead>\n",
       "  <tbody>\n",
       "    <tr>\n",
       "      <th rowspan=\"2\" valign=\"top\">0</th>\n",
       "      <th>0</th>\n",
       "      <td>237.164179</td>\n",
       "      <td>0.164179</td>\n",
       "      <td>157.522388</td>\n",
       "      <td>0.119403</td>\n",
       "      <td>0.516418</td>\n",
       "    </tr>\n",
       "    <tr>\n",
       "      <th>1</th>\n",
       "      <td>246.428571</td>\n",
       "      <td>0.095238</td>\n",
       "      <td>137.214286</td>\n",
       "      <td>0.571429</td>\n",
       "      <td>1.476190</td>\n",
       "    </tr>\n",
       "    <tr>\n",
       "      <th rowspan=\"2\" valign=\"top\">1</th>\n",
       "      <th>0</th>\n",
       "      <td>197.000000</td>\n",
       "      <td>0.000000</td>\n",
       "      <td>116.000000</td>\n",
       "      <td>0.000000</td>\n",
       "      <td>1.100000</td>\n",
       "    </tr>\n",
       "    <tr>\n",
       "      <th>1</th>\n",
       "      <td>283.333333</td>\n",
       "      <td>0.000000</td>\n",
       "      <td>129.000000</td>\n",
       "      <td>0.666667</td>\n",
       "      <td>3.266667</td>\n",
       "    </tr>\n",
       "    <tr>\n",
       "      <th rowspan=\"2\" valign=\"top\">2</th>\n",
       "      <th>0</th>\n",
       "      <td>248.115385</td>\n",
       "      <td>0.115385</td>\n",
       "      <td>158.423077</td>\n",
       "      <td>0.192308</td>\n",
       "      <td>0.600000</td>\n",
       "    </tr>\n",
       "    <tr>\n",
       "      <th>1</th>\n",
       "      <td>260.825397</td>\n",
       "      <td>0.174603</td>\n",
       "      <td>140.317460</td>\n",
       "      <td>0.476190</td>\n",
       "      <td>1.455556</td>\n",
       "    </tr>\n",
       "  </tbody>\n",
       "</table>\n",
       "</div>"
      ],
      "text/plain": [
       "                   cholestoral  high_sugar    max_rate  exercise_angina  \\\n",
       "ecg heart_disease                                                         \n",
       "0   0               237.164179    0.164179  157.522388         0.119403   \n",
       "    1               246.428571    0.095238  137.214286         0.571429   \n",
       "1   0               197.000000    0.000000  116.000000         0.000000   \n",
       "    1               283.333333    0.000000  129.000000         0.666667   \n",
       "2   0               248.115385    0.115385  158.423077         0.192308   \n",
       "    1               260.825397    0.174603  140.317460         0.476190   \n",
       "\n",
       "                   st_depression  \n",
       "ecg heart_disease                 \n",
       "0   0                   0.516418  \n",
       "    1                   1.476190  \n",
       "1   0                   1.100000  \n",
       "    1                   3.266667  \n",
       "2   0                   0.600000  \n",
       "    1                   1.455556  "
      ]
     },
     "execution_count": 30,
     "metadata": {},
     "output_type": "execute_result"
    }
   ],
   "source": [
    "# 分組的方式印出列中表\n",
    "ecg_groupby = middle_six.groupby([\"ecg\", \"heart_disease\"]).mean()\n",
    "# ecg_groupby = pd.pivot_table(middle_six, index=[\"ecg\", \"heart_disease\"])\n",
    "ecg_groupby"
   ]
  },
  {
   "cell_type": "code",
   "execution_count": 31,
   "metadata": {},
   "outputs": [
    {
     "data": {
      "text/plain": [
       "<matplotlib.axes._subplots.AxesSubplot at 0x11da68710>"
      ]
     },
     "execution_count": 31,
     "metadata": {},
     "output_type": "execute_result"
    },
    {
     "data": {
      "image/png": "[encoded data removed]",
      "text/plain": [
       "<Figure size 432x288 with 1 Axes>"
      ]
     },
     "metadata": {
      "needs_background": "light"
     },
     "output_type": "display_data"
    }
   ],
   "source": [
    "# 畫出折線圖\n",
    "ecg_groupby.plot.line()"
   ]
  },
  {
   "cell_type": "markdown",
   "metadata": {},
   "source": [
    "## 處理 max_rate 變數。\n",
    "## 首先列出 總和、平均數，也列出四分位數。最後看看有沒有 nan 的資料 "
   ]
  },
  {
   "cell_type": "code",
   "execution_count": 32,
   "metadata": {},
   "outputs": [
    {
     "name": "stdout",
     "output_type": "stream",
     "text": [
      "0      1\n",
      "1      0\n",
      "2      0\n",
      "3      0\n",
      "4      0\n",
      "      ..\n",
      "223    0\n",
      "224    1\n",
      "225    0\n",
      "226    0\n",
      "227    0\n",
      "Name: high_sugar, Length: 228, dtype: int64 \n",
      "\n",
      "陣列中的總和---------------> 33898\n",
      "陣列中的平均值-------------> 148.67543859649123\n",
      "陣列中最小值---------------> 71\n",
      "陣列中第一四分位---------------> 131.0\n",
      "陣列中middle two的平均值---> 152.0\n",
      "陣列中第三四分位---------------> 167.25\n",
      "陣列中最大值---------------> 202\n",
      "陣列中的個數---------------> 228\n",
      "nan 個數: 0, 值為: Series([], Name: max_rate, dtype: int64)\n",
      "unique value: [150 108 129 172 178 163 147 155 148 153 162 168 160 139 171 144 173 114\n",
      " 151 158 120 112 137 157 169 165 123 128 188 109 152 125 142 170 113  99\n",
      " 177 141 180 111 143 182 156 115 145 146 161 186 185 174 159 130 140 190\n",
      " 136  97 132 127 154 175 126 202 103 131 124 179 122  96 138  88 105 166\n",
      " 194 195 106 133 167 192 117 121 116  71 118 181 149 134 164  90]\n"
     ]
    }
   ],
   "source": [
    "# high_sugar column\n",
    "max_rate = middle_six.iloc[:,3]\n",
    "print(high_sugar, \"\\n\")\n",
    "print('陣列中的總和--------------->',max_rate.sum())\n",
    "print('陣列中的平均值------------->',max_rate.mean())\n",
    "print('陣列中最小值--------------->',max_rate.min())\n",
    "print('陣列中第一四分位--------------->',max_rate.quantile([0.25]).values[0])\n",
    "print('陣列中middle two的平均值--->',max_rate.median())\n",
    "print('陣列中第三四分位--------------->',max_rate.quantile([0.75]).values[0])\n",
    "print('陣列中最大值--------------->',max_rate.max())\n",
    "print('陣列中的個數--------------->',max_rate.count())\n",
    "print('nan 個數: {}, 值為: {}'.format(len(max_rate[max_rate.isna()]), max_rate[max_rate.isna()]))\n",
    "print('unique value: {}'.format(max_rate.unique()))"
   ]
  },
  {
   "cell_type": "markdown",
   "metadata": {},
   "source": [
    "## 先畫出原始的直方圖"
   ]
  },
  {
   "cell_type": "code",
   "execution_count": 33,
   "metadata": {},
   "outputs": [
    {
     "data": {
      "text/plain": [
       "<matplotlib.axes._subplots.AxesSubplot at 0x11db51240>"
      ]
     },
     "execution_count": 33,
     "metadata": {},
     "output_type": "execute_result"
    },
    {
     "data": {
      "image/png": "[encoded data removed]",
      "text/plain": [
       "<Figure size 432x288 with 1 Axes>"
      ]
     },
     "metadata": {
      "needs_background": "light"
     },
     "output_type": "display_data"
    }
   ],
   "source": [
    "# plot basic histogram\n",
    "max_rate.plot.hist()"
   ]
  },
  {
   "cell_type": "markdown",
   "metadata": {},
   "source": [
    "## 利用列聯表，找到 max rate 跟 heart disease 答案之間的關係\n",
    "## 接著利用列聯表，試圖找出此 high sugar 的特徵重不重要；與答案有沒有關係\n",
    "## 方法包括：chi square / mutual information。其中 chi square test 是拿來看特徵有沒有跟答案獨立、關係；mutual information 是看特徵在答案分類中，資訊熵佔大不大"
   ]
  },
  {
   "cell_type": "code",
   "execution_count": 34,
   "metadata": {},
   "outputs": [
    {
     "data": {
      "text/plain": [
       "(3, [71, 116.67741935483875, 150.58333333333334, 174.40000000000003, 202], 5)"
      ]
     },
     "execution_count": 34,
     "metadata": {},
     "output_type": "execute_result"
    }
   ],
   "source": [
    "# 根據上面 histogram，試著找到最佳分群來當作 bin 區間\n",
    "Sum_of_squared_distances = []\n",
    "Sum_of_squared_thre = 0.5\n",
    "current_k = 0\n",
    "current_dst = 0\n",
    "center = None\n",
    "max_rate_val = max_rate.values\n",
    "max_rate_val = max_rate_val.reshape(-1,1)\n",
    "K = range(1,15)\n",
    "for k in K:\n",
    "    km = KMeans(n_clusters=k)\n",
    "    km = km.fit(max_rate_val)\n",
    "    if k == 1 :\n",
    "        current_dst = km.inertia_\n",
    "        current_k = k\n",
    "        center = km.cluster_centers_\n",
    "    else :\n",
    "        if np.abs(current_dst - km.inertia_)/current_dst >= Sum_of_squared_thre :\n",
    "            current_k = k\n",
    "            center = km.cluster_centers_\n",
    "        current_dst = km.inertia_\n",
    "    Sum_of_squared_distances.append(current_dst)\n",
    "\n",
    "final_center = []\n",
    "center = center.astype(np.float64)\n",
    "center = center.reshape(-1)\n",
    "center = np.sort(center)\n",
    "center = center.tolist()\n",
    "final_center.append(max_rate_val.min())\n",
    "final_center.extend(center)\n",
    "final_center.append(max_rate_val.max())\n",
    "current_k, final_center, len(final_center)"
   ]
  },
  {
   "cell_type": "code",
   "execution_count": 35,
   "metadata": {},
   "outputs": [
    {
     "data": {
      "image/png": "[encoded data removed]",
      "text/plain": [
       "<Figure size 432x288 with 1 Axes>"
      ]
     },
     "metadata": {
      "needs_background": "light"
     },
     "output_type": "display_data"
    }
   ],
   "source": [
    "# plot k means result\n",
    "plt.plot(K, Sum_of_squared_distances, 'bx-')\n",
    "plt.xlabel('k')\n",
    "plt.ylabel('Sum_of_squared_distances')\n",
    "plt.title('Elbow Method For Optimal k')\n",
    "plt.show()"
   ]
  },
  {
   "cell_type": "markdown",
   "metadata": {},
   "source": [
    "## 根據找到的各區間，對應每筆資料的同時，多新增一個欄位來填入這些轉換後的標籤值"
   ]
  },
  {
   "cell_type": "code",
   "execution_count": 36,
   "metadata": {},
   "outputs": [
    {
     "data": {
      "text/html": [
       "<div>\n",
       "<style scoped>\n",
       "    .dataframe tbody tr th:only-of-type {\n",
       "        vertical-align: middle;\n",
       "    }\n",
       "\n",
       "    .dataframe tbody tr th {\n",
       "        vertical-align: top;\n",
       "    }\n",
       "\n",
       "    .dataframe thead th {\n",
       "        text-align: right;\n",
       "    }\n",
       "</style>\n",
       "<table border=\"1\" class=\"dataframe\">\n",
       "  <thead>\n",
       "    <tr style=\"text-align: right;\">\n",
       "      <th></th>\n",
       "      <th>cholestoral</th>\n",
       "      <th>high_sugar</th>\n",
       "      <th>ecg</th>\n",
       "      <th>max_rate</th>\n",
       "      <th>exercise_angina</th>\n",
       "      <th>st_depression</th>\n",
       "      <th>heart_disease</th>\n",
       "      <th>cholestoral_label</th>\n",
       "      <th>max_rate_label</th>\n",
       "    </tr>\n",
       "  </thead>\n",
       "  <tbody>\n",
       "    <tr>\n",
       "      <th>0</th>\n",
       "      <td>233</td>\n",
       "      <td>1</td>\n",
       "      <td>2</td>\n",
       "      <td>150</td>\n",
       "      <td>0</td>\n",
       "      <td>2.3</td>\n",
       "      <td>0</td>\n",
       "      <td>1</td>\n",
       "      <td>1</td>\n",
       "    </tr>\n",
       "    <tr>\n",
       "      <th>1</th>\n",
       "      <td>286</td>\n",
       "      <td>0</td>\n",
       "      <td>2</td>\n",
       "      <td>108</td>\n",
       "      <td>1</td>\n",
       "      <td>1.5</td>\n",
       "      <td>1</td>\n",
       "      <td>1</td>\n",
       "      <td>0</td>\n",
       "    </tr>\n",
       "    <tr>\n",
       "      <th>2</th>\n",
       "      <td>229</td>\n",
       "      <td>0</td>\n",
       "      <td>2</td>\n",
       "      <td>129</td>\n",
       "      <td>1</td>\n",
       "      <td>2.6</td>\n",
       "      <td>1</td>\n",
       "      <td>1</td>\n",
       "      <td>1</td>\n",
       "    </tr>\n",
       "    <tr>\n",
       "      <th>3</th>\n",
       "      <td>204</td>\n",
       "      <td>0</td>\n",
       "      <td>2</td>\n",
       "      <td>172</td>\n",
       "      <td>0</td>\n",
       "      <td>1.4</td>\n",
       "      <td>0</td>\n",
       "      <td>0</td>\n",
       "      <td>2</td>\n",
       "    </tr>\n",
       "    <tr>\n",
       "      <th>4</th>\n",
       "      <td>236</td>\n",
       "      <td>0</td>\n",
       "      <td>0</td>\n",
       "      <td>178</td>\n",
       "      <td>0</td>\n",
       "      <td>0.8</td>\n",
       "      <td>0</td>\n",
       "      <td>1</td>\n",
       "      <td>3</td>\n",
       "    </tr>\n",
       "    <tr>\n",
       "      <th>...</th>\n",
       "      <td>...</td>\n",
       "      <td>...</td>\n",
       "      <td>...</td>\n",
       "      <td>...</td>\n",
       "      <td>...</td>\n",
       "      <td>...</td>\n",
       "      <td>...</td>\n",
       "      <td>...</td>\n",
       "      <td>...</td>\n",
       "    </tr>\n",
       "    <tr>\n",
       "      <th>223</th>\n",
       "      <td>157</td>\n",
       "      <td>0</td>\n",
       "      <td>0</td>\n",
       "      <td>182</td>\n",
       "      <td>0</td>\n",
       "      <td>0.0</td>\n",
       "      <td>0</td>\n",
       "      <td>0</td>\n",
       "      <td>3</td>\n",
       "    </tr>\n",
       "    <tr>\n",
       "      <th>224</th>\n",
       "      <td>176</td>\n",
       "      <td>1</td>\n",
       "      <td>2</td>\n",
       "      <td>90</td>\n",
       "      <td>0</td>\n",
       "      <td>1.0</td>\n",
       "      <td>1</td>\n",
       "      <td>0</td>\n",
       "      <td>0</td>\n",
       "    </tr>\n",
       "    <tr>\n",
       "      <th>225</th>\n",
       "      <td>241</td>\n",
       "      <td>0</td>\n",
       "      <td>0</td>\n",
       "      <td>123</td>\n",
       "      <td>1</td>\n",
       "      <td>0.2</td>\n",
       "      <td>1</td>\n",
       "      <td>1</td>\n",
       "      <td>1</td>\n",
       "    </tr>\n",
       "    <tr>\n",
       "      <th>226</th>\n",
       "      <td>131</td>\n",
       "      <td>0</td>\n",
       "      <td>0</td>\n",
       "      <td>115</td>\n",
       "      <td>1</td>\n",
       "      <td>1.2</td>\n",
       "      <td>1</td>\n",
       "      <td>0</td>\n",
       "      <td>0</td>\n",
       "    </tr>\n",
       "    <tr>\n",
       "      <th>227</th>\n",
       "      <td>175</td>\n",
       "      <td>0</td>\n",
       "      <td>0</td>\n",
       "      <td>173</td>\n",
       "      <td>0</td>\n",
       "      <td>0.0</td>\n",
       "      <td>0</td>\n",
       "      <td>0</td>\n",
       "      <td>2</td>\n",
       "    </tr>\n",
       "  </tbody>\n",
       "</table>\n",
       "<p>228 rows × 9 columns</p>\n",
       "</div>"
      ],
      "text/plain": [
       "     cholestoral  high_sugar  ecg  max_rate  exercise_angina  st_depression  \\\n",
       "0            233           1    2       150                0            2.3   \n",
       "1            286           0    2       108                1            1.5   \n",
       "2            229           0    2       129                1            2.6   \n",
       "3            204           0    2       172                0            1.4   \n",
       "4            236           0    0       178                0            0.8   \n",
       "..           ...         ...  ...       ...              ...            ...   \n",
       "223          157           0    0       182                0            0.0   \n",
       "224          176           1    2        90                0            1.0   \n",
       "225          241           0    0       123                1            0.2   \n",
       "226          131           0    0       115                1            1.2   \n",
       "227          175           0    0       173                0            0.0   \n",
       "\n",
       "     heart_disease cholestoral_label max_rate_label  \n",
       "0                0                 1              1  \n",
       "1                1                 1              0  \n",
       "2                1                 1              1  \n",
       "3                0                 0              2  \n",
       "4                0                 1              3  \n",
       "..             ...               ...            ...  \n",
       "223              0                 0              3  \n",
       "224              1                 0              0  \n",
       "225              1                 1              1  \n",
       "226              1                 0              0  \n",
       "227              0                 0              2  \n",
       "\n",
       "[228 rows x 9 columns]"
      ]
     },
     "execution_count": 36,
     "metadata": {},
     "output_type": "execute_result"
    }
   ],
   "source": [
    "# cut bins by k means result\n",
    "bins = final_center\n",
    "label_name = [str(i) for i in list(range(len(bins)-1))]\n",
    "middle_six[\"max_rate_label\"] = pd.cut(middle_six.max_rate, bins, labels=label_name, include_lowest=True)\n",
    "middle_six"
   ]
  },
  {
   "cell_type": "markdown",
   "metadata": {},
   "source": [
    "##  確認新欄位有無 nan 的值，並列出 unique value"
   ]
  },
  {
   "cell_type": "code",
   "execution_count": 37,
   "metadata": {},
   "outputs": [
    {
     "name": "stdout",
     "output_type": "stream",
     "text": [
      "nan 個數: 0, 值為: Series([], Name: max_rate_label, dtype: category\n",
      "Categories (4, object): [0 < 1 < 2 < 3])\n",
      "unique value: [1, 0, 2, 3]\n",
      "Categories (4, object): [0 < 1 < 2 < 3]\n"
     ]
    }
   ],
   "source": [
    "max_rate_label = middle_six[\"max_rate_label\"]\n",
    "print('nan 個數: {}, 值為: {}'.format(len(max_rate_label[max_rate_label.isna()]), max_rate_label[max_rate_label.isna()]))\n",
    "print('unique value: {}'.format(max_rate_label.unique()))"
   ]
  },
  {
   "cell_type": "markdown",
   "metadata": {},
   "source": [
    "## 把新增的欄位的資料，用直方圖畫出來看看分佈"
   ]
  },
  {
   "cell_type": "code",
   "execution_count": 38,
   "metadata": {},
   "outputs": [
    {
     "data": {
      "text/plain": [
       "<matplotlib.axes._subplots.AxesSubplot at 0x11dd19d30>"
      ]
     },
     "execution_count": 38,
     "metadata": {},
     "output_type": "execute_result"
    },
    {
     "data": {
      "image/png": "[encoded data removed]",
      "text/plain": [
       "<Figure size 432x288 with 1 Axes>"
      ]
     },
     "metadata": {
      "needs_background": "light"
     },
     "output_type": "display_data"
    }
   ],
   "source": [
    "# plot bins from result\n",
    "max_rate_label = middle_six[\"max_rate_label\"].value_counts()\n",
    "max_rate_label.plot(kind='bar')"
   ]
  },
  {
   "cell_type": "markdown",
   "metadata": {},
   "source": [
    "## 利用 seaborn 畫出 boxplot，同時找到離群值\n",
    "## 而這邊找離群值的方法，純粹是找資料中 0.15 與 0.85 以外（兩旁）的資料\n",
    "## 同時也能找到非離群值的欄位資料"
   ]
  },
  {
   "cell_type": "code",
   "execution_count": 39,
   "metadata": {},
   "outputs": [
    {
     "data": {
      "text/plain": [
       "<matplotlib.axes._subplots.AxesSubplot at 0x11de00ef0>"
      ]
     },
     "execution_count": 39,
     "metadata": {},
     "output_type": "execute_result"
    },
    {
     "data": {
      "image/png": "[encoded data removed]",
      "text/plain": [
       "<Figure size 432x288 with 1 Axes>"
      ]
     },
     "metadata": {
      "needs_background": "light"
     },
     "output_type": "display_data"
    }
   ],
   "source": [
    "# find outliers and boxplot\n",
    "sns.boxplot(x=max_rate)"
   ]
  },
  {
   "cell_type": "code",
   "execution_count": 40,
   "metadata": {},
   "outputs": [
    {
     "data": {
      "text/plain": [
       "0      150\n",
       "2      129\n",
       "3      172\n",
       "4      178\n",
       "5      163\n",
       "      ... \n",
       "222    166\n",
       "223    182\n",
       "225    123\n",
       "226    115\n",
       "227    173\n",
       "Name: max_rate, Length: 199, dtype: int64"
      ]
     },
     "execution_count": 40,
     "metadata": {},
     "output_type": "execute_result"
    },
    {
     "data": {
      "image/png": "[encoded data removed]",
      "text/plain": [
       "<Figure size 432x288 with 1 Axes>"
      ]
     },
     "metadata": {
      "needs_background": "light"
     },
     "output_type": "display_data"
    }
   ],
   "source": [
    "Q1 = max_rate.quantile(0.25)\n",
    "Q3 = max_rate.quantile(0.75)\n",
    "IQR = Q3 - Q1\n",
    "max_rate_min_outlier = (max_rate < (Q1 - rge * IQR))\n",
    "max_rate_max_outlier = (max_rate > (Q3 + rge * IQR))\n",
    "outlier = max_rate_min_outlier | max_rate_max_outlier\n",
    "without_outlier = ~outlier\n",
    "max_rate_without_outlier = max_rate[without_outlier] # without outliers\n",
    "sns.boxplot(x=max_rate_without_outlier)\n",
    "max_rate_without_outlier"
   ]
  },
  {
   "cell_type": "markdown",
   "metadata": {},
   "source": [
    "## 移除 outliers 後，在利用直方圖來看看分佈跟畫出 boxplot"
   ]
  },
  {
   "cell_type": "code",
   "execution_count": 41,
   "metadata": {},
   "outputs": [
    {
     "data": {
      "text/plain": [
       "<matplotlib.axes._subplots.AxesSubplot at 0x11df990b8>"
      ]
     },
     "execution_count": 41,
     "metadata": {},
     "output_type": "execute_result"
    },
    {
     "data": {
      "image/png": "[encoded data removed]",
      "text/plain": [
       "<Figure size 432x288 with 1 Axes>"
      ]
     },
     "metadata": {
      "needs_background": "light"
     },
     "output_type": "display_data"
    }
   ],
   "source": [
    "max_rate_without_outlier.plot.hist()"
   ]
  },
  {
   "cell_type": "code",
   "execution_count": 42,
   "metadata": {},
   "outputs": [
    {
     "data": {
      "text/plain": [
       "<matplotlib.axes._subplots.AxesSubplot at 0x11dec8a20>"
      ]
     },
     "execution_count": 42,
     "metadata": {},
     "output_type": "execute_result"
    },
    {
     "data": {
      "image/png": "[encoded data removed]",
      "text/plain": [
       "<Figure size 432x288 with 1 Axes>"
      ]
     },
     "metadata": {
      "needs_background": "light"
     },
     "output_type": "display_data"
    }
   ],
   "source": [
    "max_rate_with_outlier = max_rate[outlier]\n",
    "sns.boxplot(x=max_rate_with_outlier)"
   ]
  },
  {
   "cell_type": "markdown",
   "metadata": {},
   "source": [
    "## 處理 exercise angina 變數。\n",
    "## 首先列出 總和、平均數，也列出四分位數。最後看看有沒有 nan 的資料 "
   ]
  },
  {
   "cell_type": "code",
   "execution_count": 43,
   "metadata": {},
   "outputs": [
    {
     "name": "stdout",
     "output_type": "stream",
     "text": [
      "0      0\n",
      "1      1\n",
      "2      1\n",
      "3      0\n",
      "4      0\n",
      "      ..\n",
      "223    0\n",
      "224    0\n",
      "225    1\n",
      "226    1\n",
      "227    0\n",
      "Name: exercise_angina, Length: 228, dtype: int64 \n",
      "\n",
      "陣列中的總和---------------> 74\n",
      "陣列中的平均值-------------> 0.32456140350877194\n",
      "陣列中最小值---------------> 0\n",
      "陣列中第一四分位---------------> 0.0\n",
      "陣列中middle two的平均值---> 0.0\n",
      "陣列中第三四分位---------------> 1.0\n",
      "陣列中最大值---------------> 1\n",
      "陣列中的個數---------------> 228\n",
      "nan 個數: 0, 值為: Series([], Name: exercise_angina, dtype: int64)\n",
      "unique value: [0 1]\n"
     ]
    },
    {
     "data": {
      "text/plain": [
       "0      0\n",
       "1      1\n",
       "2      1\n",
       "3      0\n",
       "4      0\n",
       "      ..\n",
       "223    0\n",
       "224    0\n",
       "225    1\n",
       "226    1\n",
       "227    0\n",
       "Name: exercise_angina, Length: 228, dtype: int64"
      ]
     },
     "execution_count": 43,
     "metadata": {},
     "output_type": "execute_result"
    }
   ],
   "source": [
    "# exercise_angina column\n",
    "exercise_angina = middle_six.iloc[:,4]\n",
    "print(exercise_angina, \"\\n\")\n",
    "print('陣列中的總和--------------->',exercise_angina.sum())\n",
    "print('陣列中的平均值------------->',exercise_angina.mean())\n",
    "print('陣列中最小值--------------->',exercise_angina.min())\n",
    "print('陣列中第一四分位--------------->',exercise_angina.quantile([0.25]).values[0])\n",
    "print('陣列中middle two的平均值--->',exercise_angina.median())\n",
    "print('陣列中第三四分位--------------->',exercise_angina.quantile([0.75]).values[0])\n",
    "print('陣列中最大值--------------->',exercise_angina.max())\n",
    "print('陣列中的個數--------------->',exercise_angina.count())\n",
    "print('nan 個數: {}, 值為: {}'.format(len(exercise_angina[exercise_angina.isna()]), exercise_angina[exercise_angina.isna()]))\n",
    "print('unique value: {}'.format(exercise_angina.unique()))\n",
    "exercise_angina"
   ]
  },
  {
   "cell_type": "markdown",
   "metadata": {},
   "source": [
    "## 畫出 exercise angina 直方圖"
   ]
  },
  {
   "cell_type": "code",
   "execution_count": 44,
   "metadata": {},
   "outputs": [
    {
     "data": {
      "text/plain": [
       "<matplotlib.axes._subplots.AxesSubplot at 0x11d0a5438>"
      ]
     },
     "execution_count": 44,
     "metadata": {},
     "output_type": "execute_result"
    },
    {
     "data": {
      "image/png": "[encoded data removed]",
      "text/plain": [
       "<Figure size 432x288 with 1 Axes>"
      ]
     },
     "metadata": {
      "needs_background": "light"
     },
     "output_type": "display_data"
    }
   ],
   "source": [
    "# plot basic histogram\n",
    "exercise_angina.plot.hist()"
   ]
  },
  {
   "cell_type": "markdown",
   "metadata": {},
   "source": [
    "## 利用列聯表，找到 exercise angina 跟 heart disease 答案之間的關係\n",
    "## 接著利用列聯表，試圖找出此 high sugar 的特徵重不重要；與答案有沒有關係\n",
    "## 方法包括：chi square / mutual information。其中 chi square test 是拿來看特徵有沒有跟答案獨立、關係；mutual information 是看特徵在答案分類中，資訊熵佔大不大"
   ]
  },
  {
   "cell_type": "code",
   "execution_count": 45,
   "metadata": {},
   "outputs": [
    {
     "data": {
      "text/html": [
       "<div>\n",
       "<style scoped>\n",
       "    .dataframe tbody tr th:only-of-type {\n",
       "        vertical-align: middle;\n",
       "    }\n",
       "\n",
       "    .dataframe tbody tr th {\n",
       "        vertical-align: top;\n",
       "    }\n",
       "\n",
       "    .dataframe thead th {\n",
       "        text-align: right;\n",
       "    }\n",
       "</style>\n",
       "<table border=\"1\" class=\"dataframe\">\n",
       "  <thead>\n",
       "    <tr style=\"text-align: right;\">\n",
       "      <th>heart_disease</th>\n",
       "      <th>0</th>\n",
       "      <th>1</th>\n",
       "    </tr>\n",
       "    <tr>\n",
       "      <th>exercise_angina</th>\n",
       "      <th></th>\n",
       "      <th></th>\n",
       "    </tr>\n",
       "  </thead>\n",
       "  <tbody>\n",
       "    <tr>\n",
       "      <th>0</th>\n",
       "      <td>102</td>\n",
       "      <td>52</td>\n",
       "    </tr>\n",
       "    <tr>\n",
       "      <th>1</th>\n",
       "      <td>18</td>\n",
       "      <td>56</td>\n",
       "    </tr>\n",
       "  </tbody>\n",
       "</table>\n",
       "</div>"
      ],
      "text/plain": [
       "heart_disease      0   1\n",
       "exercise_angina         \n",
       "0                102  52\n",
       "1                 18  56"
      ]
     },
     "execution_count": 45,
     "metadata": {},
     "output_type": "execute_result"
    }
   ],
   "source": [
    "crosstab_exercise_angina = pd.crosstab(middle_six.exercise_angina, middle_six.heart_disease)\n",
    "crosstab_exercise_angina"
   ]
  },
  {
   "cell_type": "code",
   "execution_count": 46,
   "metadata": {},
   "outputs": [
    {
     "name": "stdout",
     "output_type": "stream",
     "text": [
      "===Chi Square Test===\n",
      "\n",
      "===Chi2 Stat===\n",
      "33.55227272727272\n",
      "\n",
      "===Degrees of Freedom===\n",
      "1\n",
      "\n",
      "===P-Value===\n",
      "6.937426621743426e-09\n",
      "\n",
      "===Contingency Table===\n",
      "[[81.05263158 72.94736842]\n",
      " [38.94736842 35.05263158]]\n",
      "significance=0.050, p=0.000\n",
      "\n",
      "Variables are associated (reject H0)\n",
      "\n",
      "===Mutual Information's score=== \n",
      "0.07977364348277668\n"
     ]
    }
   ],
   "source": [
    "# get mutal information and chi square's p value\n",
    "mi_score = mutual_info_score(middle_six.exercise_angina.values, middle_six.heart_disease.values, crosstab_exercise_angina.values)\n",
    "chi2_stat, p, dof, ex = stats.chi2_contingency(crosstab_exercise_angina.values)\n",
    "\n",
    "# select significance value\n",
    "alpha = 0.05\n",
    "\n",
    "print(\"===Chi Square Test===\\n\")\n",
    "print(\"===Chi2 Stat===\")\n",
    "print(chi2_stat)\n",
    "print(\"\\n===Degrees of Freedom===\")\n",
    "print(dof)\n",
    "print(\"\\n===P-Value===\")\n",
    "print(p)\n",
    "print(\"\\n===Contingency Table===\")\n",
    "print(ex)\n",
    "\n",
    "# Determine whether to reject or keep your null hypothesis\n",
    "print('significance=%.3f, p=%.3f' % (alpha, p))\n",
    "if p <= alpha:\n",
    "    print('\\nVariables are associated (reject H0)')\n",
    "else:\n",
    "    print('\\nVariables are not associated(fail to reject H0)')\n",
    "\n",
    "print(\"\\n===Mutual Information's score=== \\n{}\".format(mi_score))\n"
   ]
  },
  {
   "cell_type": "markdown",
   "metadata": {},
   "source": [
    "## 根據上面列聯表，畫出 stack 的直方圖"
   ]
  },
  {
   "cell_type": "code",
   "execution_count": 47,
   "metadata": {},
   "outputs": [
    {
     "data": {
      "text/plain": [
       "<matplotlib.axes._subplots.AxesSubplot at 0x11df70d68>"
      ]
     },
     "execution_count": 47,
     "metadata": {},
     "output_type": "execute_result"
    },
    {
     "data": {
      "image/png": "[encoded data removed]",
      "text/plain": [
       "<Figure size 432x288 with 1 Axes>"
      ]
     },
     "metadata": {
      "needs_background": "light"
     },
     "output_type": "display_data"
    }
   ],
   "source": [
    "# plot bar chart based on contigency table\n",
    "crosstab_exercise_angina.plot.bar(stacked=True)"
   ]
  },
  {
   "cell_type": "markdown",
   "metadata": {},
   "source": [
    "## 這部分我們利用 exercise angina 與 heart_disease 群集起來，列出每個值的平均值\n",
    "## 並利用折線圖來看趨勢走向，了解彼此關係"
   ]
  },
  {
   "cell_type": "code",
   "execution_count": 48,
   "metadata": {},
   "outputs": [
    {
     "data": {
      "text/html": [
       "<div>\n",
       "<style scoped>\n",
       "    .dataframe tbody tr th:only-of-type {\n",
       "        vertical-align: middle;\n",
       "    }\n",
       "\n",
       "    .dataframe tbody tr th {\n",
       "        vertical-align: top;\n",
       "    }\n",
       "\n",
       "    .dataframe thead th {\n",
       "        text-align: right;\n",
       "    }\n",
       "</style>\n",
       "<table border=\"1\" class=\"dataframe\">\n",
       "  <thead>\n",
       "    <tr style=\"text-align: right;\">\n",
       "      <th></th>\n",
       "      <th></th>\n",
       "      <th>cholestoral</th>\n",
       "      <th>high_sugar</th>\n",
       "      <th>ecg</th>\n",
       "      <th>max_rate</th>\n",
       "      <th>st_depression</th>\n",
       "    </tr>\n",
       "    <tr>\n",
       "      <th>exercise_angina</th>\n",
       "      <th>heart_disease</th>\n",
       "      <th></th>\n",
       "      <th></th>\n",
       "      <th></th>\n",
       "      <th></th>\n",
       "      <th></th>\n",
       "    </tr>\n",
       "  </thead>\n",
       "  <tbody>\n",
       "    <tr>\n",
       "      <th rowspan=\"2\" valign=\"top\">0</th>\n",
       "      <th>0</th>\n",
       "      <td>241.284314</td>\n",
       "      <td>0.156863</td>\n",
       "      <td>0.833333</td>\n",
       "      <td>159.519608</td>\n",
       "      <td>0.543137</td>\n",
       "    </tr>\n",
       "    <tr>\n",
       "      <th>1</th>\n",
       "      <td>248.711538</td>\n",
       "      <td>0.115385</td>\n",
       "      <td>1.288462</td>\n",
       "      <td>145.153846</td>\n",
       "      <td>1.313462</td>\n",
       "    </tr>\n",
       "    <tr>\n",
       "      <th rowspan=\"2\" valign=\"top\">1</th>\n",
       "      <th>0</th>\n",
       "      <td>243.222222</td>\n",
       "      <td>0.055556</td>\n",
       "      <td>1.111111</td>\n",
       "      <td>146.500000</td>\n",
       "      <td>0.638889</td>\n",
       "    </tr>\n",
       "    <tr>\n",
       "      <th>1</th>\n",
       "      <td>262.482143</td>\n",
       "      <td>0.160714</td>\n",
       "      <td>1.107143</td>\n",
       "      <td>132.892857</td>\n",
       "      <td>1.700000</td>\n",
       "    </tr>\n",
       "  </tbody>\n",
       "</table>\n",
       "</div>"
      ],
      "text/plain": [
       "                               cholestoral  high_sugar       ecg    max_rate  \\\n",
       "exercise_angina heart_disease                                                  \n",
       "0               0               241.284314    0.156863  0.833333  159.519608   \n",
       "                1               248.711538    0.115385  1.288462  145.153846   \n",
       "1               0               243.222222    0.055556  1.111111  146.500000   \n",
       "                1               262.482143    0.160714  1.107143  132.892857   \n",
       "\n",
       "                               st_depression  \n",
       "exercise_angina heart_disease                 \n",
       "0               0                   0.543137  \n",
       "                1                   1.313462  \n",
       "1               0                   0.638889  \n",
       "                1                   1.700000  "
      ]
     },
     "execution_count": 48,
     "metadata": {},
     "output_type": "execute_result"
    }
   ],
   "source": [
    "exercise_angina_groupby = middle_six.groupby([\"exercise_angina\", \"heart_disease\"]).mean()\n",
    "# exercise_angina_groupby = pd.pivot_table(middle_six, index=[\"exercise_angina\", \"heart_disease\"])\n",
    "exercise_angina_groupby"
   ]
  },
  {
   "cell_type": "code",
   "execution_count": 49,
   "metadata": {},
   "outputs": [
    {
     "data": {
      "text/plain": [
       "<matplotlib.axes._subplots.AxesSubplot at 0x11ce1d860>"
      ]
     },
     "execution_count": 49,
     "metadata": {},
     "output_type": "execute_result"
    },
    {
     "data": {
      "image/png": "[encoded data removed]",
      "text/plain": [
       "<Figure size 432x288 with 1 Axes>"
      ]
     },
     "metadata": {
      "needs_background": "light"
     },
     "output_type": "display_data"
    }
   ],
   "source": [
    "# 畫出折線圖\n",
    "exercise_angina_groupby.plot.line()"
   ]
  },
  {
   "cell_type": "markdown",
   "metadata": {},
   "source": [
    "## 處理 st depression 變數。\n",
    "## 首先列出 總和、平均數，也列出四分位數。最後看看有沒有 nan 的資料 "
   ]
  },
  {
   "cell_type": "code",
   "execution_count": 50,
   "metadata": {},
   "outputs": [
    {
     "name": "stdout",
     "output_type": "stream",
     "text": [
      "0      2.3\n",
      "1      1.5\n",
      "2      2.6\n",
      "3      1.4\n",
      "4      0.8\n",
      "      ... \n",
      "223    0.0\n",
      "224    1.0\n",
      "225    0.2\n",
      "226    1.2\n",
      "227    0.0\n",
      "Name: st_depression, Length: 228, dtype: float64 \n",
      "\n",
      "陣列中的總和---------------> 230.4\n",
      "陣列中的平均值-------------> 1.0105263157894737\n",
      "陣列中最小值---------------> 0.0\n",
      "陣列中第一四分位---------------> 0.0\n",
      "陣列中middle two的平均值---> 0.8\n",
      "陣列中第三四分位---------------> 1.6\n",
      "陣列中最大值---------------> 6.2\n",
      "陣列中的個數---------------> 228\n",
      "nan 個數: 0, 值為: Series([], Name: st_depression, dtype: float64)\n",
      "unique value: [2.3 1.5 2.6 1.4 0.8 0.6 3.1 0.4 1.3 0.5 1.  1.2 0.2 1.8 3.2 0.  2.5 1.6\n",
      " 2.2 2.8 3.  3.6 6.2 2.  4.  5.6 2.4 2.9 0.1 2.1 1.9 4.2 0.9 1.1 3.8 0.7\n",
      " 3.4 0.3 4.4]\n"
     ]
    },
    {
     "data": {
      "text/plain": [
       "0      2.3\n",
       "1      1.5\n",
       "2      2.6\n",
       "3      1.4\n",
       "4      0.8\n",
       "      ... \n",
       "223    0.0\n",
       "224    1.0\n",
       "225    0.2\n",
       "226    1.2\n",
       "227    0.0\n",
       "Name: st_depression, Length: 228, dtype: float64"
      ]
     },
     "execution_count": 50,
     "metadata": {},
     "output_type": "execute_result"
    }
   ],
   "source": [
    "# st_depression column\n",
    "st_depression = middle_six.iloc[:,5]\n",
    "print(st_depression, \"\\n\")\n",
    "print('陣列中的總和--------------->',st_depression.sum())\n",
    "print('陣列中的平均值------------->',st_depression.mean())\n",
    "print('陣列中最小值--------------->',st_depression.min())\n",
    "print('陣列中第一四分位--------------->',st_depression.quantile([0.25]).values[0])\n",
    "print('陣列中middle two的平均值--->',st_depression.median())\n",
    "print('陣列中第三四分位--------------->',st_depression.quantile([0.75]).values[0])\n",
    "print('陣列中最大值--------------->',st_depression.max())\n",
    "print('陣列中的個數--------------->',st_depression.count())\n",
    "print('nan 個數: {}, 值為: {}'.format(len(st_depression[st_depression.isna()]), st_depression[st_depression.isna()]))\n",
    "print('unique value: {}'.format(st_depression.unique()))\n",
    "st_depression"
   ]
  },
  {
   "cell_type": "markdown",
   "metadata": {},
   "source": [
    "## 畫出 st depression 直方圖"
   ]
  },
  {
   "cell_type": "code",
   "execution_count": 51,
   "metadata": {},
   "outputs": [
    {
     "data": {
      "text/plain": [
       "<matplotlib.axes._subplots.AxesSubplot at 0x11dfb2668>"
      ]
     },
     "execution_count": 51,
     "metadata": {},
     "output_type": "execute_result"
    },
    {
     "data": {
      "image/png": "[encoded data removed]",
      "text/plain": [
       "<Figure size 432x288 with 1 Axes>"
      ]
     },
     "metadata": {
      "needs_background": "light"
     },
     "output_type": "display_data"
    }
   ],
   "source": [
    "# plot basic histogram\n",
    "st_depression.plot.hist()"
   ]
  },
  {
   "cell_type": "markdown",
   "metadata": {},
   "source": [
    "## 利用列聯表，找到 st depression 跟 heart disease 答案之間的關係\n",
    "## 接著利用列聯表，試圖找出此 high sugar 的特徵重不重要；與答案有沒有關係\n",
    "## 方法包括：chi square / mutual information。其中 chi square test 是拿來看特徵有沒有跟答案獨立、關係；mutual information 是看特徵在答案分類中，資訊熵佔大不大"
   ]
  },
  {
   "cell_type": "code",
   "execution_count": 52,
   "metadata": {},
   "outputs": [
    {
     "name": "stdout",
     "output_type": "stream",
     "text": [
      "298.23473684210535\n",
      "98.18858140632372\n",
      "44.315329523809524\n",
      "25.41697444803959\n",
      "15.050608209438455\n",
      "9.551724489795921\n",
      "5.98326111983255\n",
      "4.542241212614078\n",
      "3.3114292696550773\n",
      "2.6381272104801528\n",
      "2.226750915750916\n",
      "1.827581924508241\n",
      "1.4729954583428264\n",
      "1.2929954583428267\n"
     ]
    },
    {
     "data": {
      "text/plain": [
       "(3, [0.0, 0.18879999999999875, 1.5146666666666664, 3.3285714285714287, 6.2], 5)"
      ]
     },
     "execution_count": 52,
     "metadata": {},
     "output_type": "execute_result"
    }
   ],
   "source": [
    "# 根據上面 histogram，試著找到最佳分群來當作 bin 區間\n",
    "Sum_of_squared_distances = []\n",
    "Sum_of_squared_thre = 0.5\n",
    "current_k = 0\n",
    "current_dst = 0\n",
    "center = None\n",
    "st_depression_val = st_depression.values\n",
    "st_depression_val = st_depression_val.reshape(-1,1)\n",
    "K = range(1,15)\n",
    "for k in K:\n",
    "    km = KMeans(n_clusters=k)\n",
    "    km = km.fit(st_depression_val)\n",
    "    print(km.inertia_)\n",
    "    if k == 1 :\n",
    "        current_dst = km.inertia_\n",
    "        current_k = k\n",
    "        center = km.cluster_centers_\n",
    "    else :\n",
    "        if np.abs(current_dst - km.inertia_)/current_dst >= Sum_of_squared_thre :\n",
    "            current_k = k\n",
    "            center = km.cluster_centers_\n",
    "        current_dst = km.inertia_\n",
    "    Sum_of_squared_distances.append(current_dst)\n",
    "\n",
    "final_center = []\n",
    "center = center.astype(np.float64)\n",
    "center = center.reshape(-1)\n",
    "center = np.sort(center)\n",
    "center = center.tolist()\n",
    "final_center.append(st_depression_val.min())\n",
    "final_center.extend(center)\n",
    "final_center.append(st_depression_val.max())\n",
    "current_k, final_center, len(final_center)"
   ]
  },
  {
   "cell_type": "code",
   "execution_count": 53,
   "metadata": {},
   "outputs": [
    {
     "data": {
      "image/png": "[encoded data removed]",
      "text/plain": [
       "<Figure size 432x288 with 1 Axes>"
      ]
     },
     "metadata": {
      "needs_background": "light"
     },
     "output_type": "display_data"
    }
   ],
   "source": [
    "# plot k means result\n",
    "plt.plot(K, Sum_of_squared_distances, 'bx-')\n",
    "plt.xlabel('k')\n",
    "plt.ylabel('Sum_of_squared_distances')\n",
    "plt.title('Elbow Method For Optimal k')\n",
    "plt.show()"
   ]
  },
  {
   "cell_type": "markdown",
   "metadata": {},
   "source": [
    "## 根據找到的各區間，對應每筆資料的同時，多新增一個欄位來填入這些轉換後的標籤值"
   ]
  },
  {
   "cell_type": "code",
   "execution_count": 54,
   "metadata": {},
   "outputs": [
    {
     "data": {
      "text/html": [
       "<div>\n",
       "<style scoped>\n",
       "    .dataframe tbody tr th:only-of-type {\n",
       "        vertical-align: middle;\n",
       "    }\n",
       "\n",
       "    .dataframe tbody tr th {\n",
       "        vertical-align: top;\n",
       "    }\n",
       "\n",
       "    .dataframe thead th {\n",
       "        text-align: right;\n",
       "    }\n",
       "</style>\n",
       "<table border=\"1\" class=\"dataframe\">\n",
       "  <thead>\n",
       "    <tr style=\"text-align: right;\">\n",
       "      <th></th>\n",
       "      <th>cholestoral</th>\n",
       "      <th>high_sugar</th>\n",
       "      <th>ecg</th>\n",
       "      <th>max_rate</th>\n",
       "      <th>exercise_angina</th>\n",
       "      <th>st_depression</th>\n",
       "      <th>heart_disease</th>\n",
       "      <th>cholestoral_label</th>\n",
       "      <th>max_rate_label</th>\n",
       "      <th>st_depression_label</th>\n",
       "    </tr>\n",
       "  </thead>\n",
       "  <tbody>\n",
       "    <tr>\n",
       "      <th>0</th>\n",
       "      <td>233</td>\n",
       "      <td>1</td>\n",
       "      <td>2</td>\n",
       "      <td>150</td>\n",
       "      <td>0</td>\n",
       "      <td>2.3</td>\n",
       "      <td>0</td>\n",
       "      <td>1</td>\n",
       "      <td>1</td>\n",
       "      <td>2</td>\n",
       "    </tr>\n",
       "    <tr>\n",
       "      <th>1</th>\n",
       "      <td>286</td>\n",
       "      <td>0</td>\n",
       "      <td>2</td>\n",
       "      <td>108</td>\n",
       "      <td>1</td>\n",
       "      <td>1.5</td>\n",
       "      <td>1</td>\n",
       "      <td>1</td>\n",
       "      <td>0</td>\n",
       "      <td>1</td>\n",
       "    </tr>\n",
       "    <tr>\n",
       "      <th>2</th>\n",
       "      <td>229</td>\n",
       "      <td>0</td>\n",
       "      <td>2</td>\n",
       "      <td>129</td>\n",
       "      <td>1</td>\n",
       "      <td>2.6</td>\n",
       "      <td>1</td>\n",
       "      <td>1</td>\n",
       "      <td>1</td>\n",
       "      <td>2</td>\n",
       "    </tr>\n",
       "    <tr>\n",
       "      <th>3</th>\n",
       "      <td>204</td>\n",
       "      <td>0</td>\n",
       "      <td>2</td>\n",
       "      <td>172</td>\n",
       "      <td>0</td>\n",
       "      <td>1.4</td>\n",
       "      <td>0</td>\n",
       "      <td>0</td>\n",
       "      <td>2</td>\n",
       "      <td>1</td>\n",
       "    </tr>\n",
       "    <tr>\n",
       "      <th>4</th>\n",
       "      <td>236</td>\n",
       "      <td>0</td>\n",
       "      <td>0</td>\n",
       "      <td>178</td>\n",
       "      <td>0</td>\n",
       "      <td>0.8</td>\n",
       "      <td>0</td>\n",
       "      <td>1</td>\n",
       "      <td>3</td>\n",
       "      <td>1</td>\n",
       "    </tr>\n",
       "    <tr>\n",
       "      <th>...</th>\n",
       "      <td>...</td>\n",
       "      <td>...</td>\n",
       "      <td>...</td>\n",
       "      <td>...</td>\n",
       "      <td>...</td>\n",
       "      <td>...</td>\n",
       "      <td>...</td>\n",
       "      <td>...</td>\n",
       "      <td>...</td>\n",
       "      <td>...</td>\n",
       "    </tr>\n",
       "    <tr>\n",
       "      <th>223</th>\n",
       "      <td>157</td>\n",
       "      <td>0</td>\n",
       "      <td>0</td>\n",
       "      <td>182</td>\n",
       "      <td>0</td>\n",
       "      <td>0.0</td>\n",
       "      <td>0</td>\n",
       "      <td>0</td>\n",
       "      <td>3</td>\n",
       "      <td>0</td>\n",
       "    </tr>\n",
       "    <tr>\n",
       "      <th>224</th>\n",
       "      <td>176</td>\n",
       "      <td>1</td>\n",
       "      <td>2</td>\n",
       "      <td>90</td>\n",
       "      <td>0</td>\n",
       "      <td>1.0</td>\n",
       "      <td>1</td>\n",
       "      <td>0</td>\n",
       "      <td>0</td>\n",
       "      <td>1</td>\n",
       "    </tr>\n",
       "    <tr>\n",
       "      <th>225</th>\n",
       "      <td>241</td>\n",
       "      <td>0</td>\n",
       "      <td>0</td>\n",
       "      <td>123</td>\n",
       "      <td>1</td>\n",
       "      <td>0.2</td>\n",
       "      <td>1</td>\n",
       "      <td>1</td>\n",
       "      <td>1</td>\n",
       "      <td>1</td>\n",
       "    </tr>\n",
       "    <tr>\n",
       "      <th>226</th>\n",
       "      <td>131</td>\n",
       "      <td>0</td>\n",
       "      <td>0</td>\n",
       "      <td>115</td>\n",
       "      <td>1</td>\n",
       "      <td>1.2</td>\n",
       "      <td>1</td>\n",
       "      <td>0</td>\n",
       "      <td>0</td>\n",
       "      <td>1</td>\n",
       "    </tr>\n",
       "    <tr>\n",
       "      <th>227</th>\n",
       "      <td>175</td>\n",
       "      <td>0</td>\n",
       "      <td>0</td>\n",
       "      <td>173</td>\n",
       "      <td>0</td>\n",
       "      <td>0.0</td>\n",
       "      <td>0</td>\n",
       "      <td>0</td>\n",
       "      <td>2</td>\n",
       "      <td>0</td>\n",
       "    </tr>\n",
       "  </tbody>\n",
       "</table>\n",
       "<p>228 rows × 10 columns</p>\n",
       "</div>"
      ],
      "text/plain": [
       "     cholestoral  high_sugar  ecg  max_rate  exercise_angina  st_depression  \\\n",
       "0            233           1    2       150                0            2.3   \n",
       "1            286           0    2       108                1            1.5   \n",
       "2            229           0    2       129                1            2.6   \n",
       "3            204           0    2       172                0            1.4   \n",
       "4            236           0    0       178                0            0.8   \n",
       "..           ...         ...  ...       ...              ...            ...   \n",
       "223          157           0    0       182                0            0.0   \n",
       "224          176           1    2        90                0            1.0   \n",
       "225          241           0    0       123                1            0.2   \n",
       "226          131           0    0       115                1            1.2   \n",
       "227          175           0    0       173                0            0.0   \n",
       "\n",
       "     heart_disease cholestoral_label max_rate_label st_depression_label  \n",
       "0                0                 1              1                   2  \n",
       "1                1                 1              0                   1  \n",
       "2                1                 1              1                   2  \n",
       "3                0                 0              2                   1  \n",
       "4                0                 1              3                   1  \n",
       "..             ...               ...            ...                 ...  \n",
       "223              0                 0              3                   0  \n",
       "224              1                 0              0                   1  \n",
       "225              1                 1              1                   1  \n",
       "226              1                 0              0                   1  \n",
       "227              0                 0              2                   0  \n",
       "\n",
       "[228 rows x 10 columns]"
      ]
     },
     "execution_count": 54,
     "metadata": {},
     "output_type": "execute_result"
    }
   ],
   "source": [
    "# cut bins by k means result\n",
    "bins = final_center\n",
    "label_name = [str(i) for i in list(range(len(bins)-1))]\n",
    "middle_six[\"st_depression_label\"] = pd.cut(middle_six.st_depression, bins, labels=label_name, include_lowest=True)\n",
    "middle_six"
   ]
  },
  {
   "cell_type": "markdown",
   "metadata": {},
   "source": [
    "##  確認新欄位有無 nan 的值，並列出 unique value"
   ]
  },
  {
   "cell_type": "code",
   "execution_count": 55,
   "metadata": {},
   "outputs": [
    {
     "name": "stdout",
     "output_type": "stream",
     "text": [
      "nan 個數: 0, 值為: Series([], Name: st_depression_label, dtype: category\n",
      "Categories (4, object): [0 < 1 < 2 < 3])\n",
      "unique value: [2, 1, 0, 3]\n",
      "Categories (4, object): [0 < 1 < 2 < 3]\n"
     ]
    }
   ],
   "source": [
    "st_depression_label = middle_six[\"st_depression_label\"]\n",
    "print('nan 個數: {}, 值為: {}'.format(len(st_depression_label[st_depression_label.isna()]), st_depression_label[st_depression_label.isna()]))\n",
    "print('unique value: {}'.format(st_depression_label.unique()))"
   ]
  },
  {
   "cell_type": "markdown",
   "metadata": {},
   "source": [
    "## 把新增的欄位的資料，用直方圖畫出來看看分佈"
   ]
  },
  {
   "cell_type": "code",
   "execution_count": 56,
   "metadata": {},
   "outputs": [
    {
     "data": {
      "text/plain": [
       "<matplotlib.axes._subplots.AxesSubplot at 0x11e2336d8>"
      ]
     },
     "execution_count": 56,
     "metadata": {},
     "output_type": "execute_result"
    },
    {
     "data": {
      "image/png": "[encoded data removed]",
      "text/plain": [
       "<Figure size 432x288 with 1 Axes>"
      ]
     },
     "metadata": {
      "needs_background": "light"
     },
     "output_type": "display_data"
    }
   ],
   "source": [
    "# plot bins from result\n",
    "st_depression_label = middle_six[\"st_depression_label\"].value_counts()\n",
    "st_depression_label.plot(kind='bar')"
   ]
  },
  {
   "cell_type": "markdown",
   "metadata": {},
   "source": [
    "## 利用 seaborn 畫出 boxplot，同時找到離群值\n",
    "## 而這邊找離群值的方法，純粹是找資料中 0.15 與 0.85 以外（兩旁）的資料\n",
    "## 同時也能找到非離群值的欄位資料"
   ]
  },
  {
   "cell_type": "code",
   "execution_count": 57,
   "metadata": {},
   "outputs": [
    {
     "data": {
      "text/plain": [
       "<matplotlib.axes._subplots.AxesSubplot at 0x11e3262b0>"
      ]
     },
     "execution_count": 57,
     "metadata": {},
     "output_type": "execute_result"
    },
    {
     "data": {
      "image/png": "[encoded data removed]",
      "text/plain": [
       "<Figure size 432x288 with 1 Axes>"
      ]
     },
     "metadata": {
      "needs_background": "light"
     },
     "output_type": "display_data"
    }
   ],
   "source": [
    "# find outliers and boxplot\n",
    "sns.boxplot(x=st_depression)"
   ]
  },
  {
   "cell_type": "code",
   "execution_count": 58,
   "metadata": {},
   "outputs": [
    {
     "data": {
      "text/plain": [
       "<matplotlib.axes._subplots.AxesSubplot at 0x11e40acf8>"
      ]
     },
     "execution_count": 58,
     "metadata": {},
     "output_type": "execute_result"
    },
    {
     "data": {
      "image/png": "[encoded data removed]",
      "text/plain": [
       "<Figure size 432x288 with 1 Axes>"
      ]
     },
     "metadata": {
      "needs_background": "light"
     },
     "output_type": "display_data"
    }
   ],
   "source": [
    "Q1 = st_depression.quantile(0.25)\n",
    "Q3 = st_depression.quantile(0.75)\n",
    "IQR = Q3 - Q1\n",
    "st_depression_min_outlier = (st_depression < (Q1 - rge * IQR))\n",
    "st_depression_max_outlier = (st_depression > (Q3 + rge * IQR))\n",
    "outlier = st_depression_min_outlier | st_depression_max_outlier\n",
    "without_outlier = ~outlier\n",
    "st_depression_without_outlier = st_depression[without_outlier] # without outliers\n",
    "sns.boxplot(x=st_depression_without_outlier)"
   ]
  },
  {
   "cell_type": "code",
   "execution_count": 59,
   "metadata": {},
   "outputs": [],
   "source": [
    "## 移除 outliers 後，在利用直方圖來看看分佈跟畫出 boxplot"
   ]
  },
  {
   "cell_type": "code",
   "execution_count": 60,
   "metadata": {},
   "outputs": [
    {
     "data": {
      "text/plain": [
       "<matplotlib.axes._subplots.AxesSubplot at 0x11e4d1320>"
      ]
     },
     "execution_count": 60,
     "metadata": {},
     "output_type": "execute_result"
    },
    {
     "data": {
      "image/png": "[encoded data removed]",
      "text/plain": [
       "<Figure size 432x288 with 1 Axes>"
      ]
     },
     "metadata": {
      "needs_background": "light"
     },
     "output_type": "display_data"
    }
   ],
   "source": [
    "st_depression_without_outlier.plot.hist()"
   ]
  },
  {
   "cell_type": "code",
   "execution_count": 61,
   "metadata": {},
   "outputs": [
    {
     "data": {
      "text/plain": [
       "<matplotlib.axes._subplots.AxesSubplot at 0x11e5cb400>"
      ]
     },
     "execution_count": 61,
     "metadata": {},
     "output_type": "execute_result"
    },
    {
     "data": {
      "image/png": "[encoded data removed]",
      "text/plain": [
       "<Figure size 432x288 with 1 Axes>"
      ]
     },
     "metadata": {
      "needs_background": "light"
     },
     "output_type": "display_data"
    }
   ],
   "source": [
    "st_depression_with_outlier = st_depression[outlier]\n",
    "sns.boxplot(x=st_depression_with_outlier)"
   ]
  },
  {
   "cell_type": "markdown",
   "metadata": {},
   "source": [
    "## 找到共同都是 outlier 的欄位，與其他 outlier 的欄位。\n",
    "## 移除那些共同有的 outlier，把其他 outlier 變成最大獲最小值"
   ]
  },
  {
   "cell_type": "code",
   "execution_count": 62,
   "metadata": {},
   "outputs": [],
   "source": [
    "# gather all outlier and remove intersect index\n",
    "cholestoral_outlier_index_max = cholestoral_with_outlier[cholestoral_max_outlier].index.values\n",
    "max_rate_outlier_index_max = max_rate_with_outlier[max_rate_max_outlier].index.values\n",
    "st_depression_outlier_index_max = st_depression_with_outlier[st_depression_max_outlier].index.values\n",
    "\n",
    "cholestoral_outlier_index_min = cholestoral_with_outlier[cholestoral_min_outlier].index.values\n",
    "max_rate_outlier_index_min = max_rate_with_outlier[max_rate_min_outlier].index.values\n",
    "st_depression_outlier_index_min = st_depression_with_outlier[st_depression_min_outlier].index.values\n",
    "\n",
    "cholestoral_outlier_index = np.append(cholestoral_outlier_index_max, cholestoral_outlier_index_min)\n",
    "max_rate_outlier_index = np.append(max_rate_outlier_index_max, max_rate_outlier_index_min)\n",
    "st_depression_outlier_index = np.append(st_depression_outlier_index_max, st_depression_outlier_index_min)\n",
    "# cholestoral_outlier_index_max, max_rate_outlier_index_max, st_depression_outlier_index_max, cholestoral_outlier_index_min, max_rate_outlier_index_min, st_depression_outlier_index_min"
   ]
  },
  {
   "cell_type": "code",
   "execution_count": 63,
   "metadata": {},
   "outputs": [],
   "source": [
    "# deal with outher outlier\n",
    "intersect_index = reduce(np.intersect1d, (cholestoral_outlier_index, max_rate_outlier_index, st_depression_outlier_index))\n",
    "\n",
    "# get reset min outlier cholestoral, max_rate and st_depression\n",
    "middle_six.iloc[cholestoral_outlier_index_max, columns.index(\"cholestoral\")] = cholestoral_without_outlier.min()\n",
    "middle_six.iloc[max_rate_outlier_index_max, columns.index(\"max_rate\")] = max_rate_without_outlier.min()\n",
    "middle_six.iloc[st_depression_outlier_index_max, columns.index(\"st_depression\")] = st_depression_without_outlier.min()\n",
    "\n",
    "# get reset max outlier cholestoral, max_rate and st_depression\n",
    "middle_six.iloc[cholestoral_outlier_index_min, columns.index(\"cholestoral\")] = cholestoral_without_outlier.max()\n",
    "middle_six.iloc[max_rate_outlier_index_min, columns.index(\"max_rate\")] = max_rate_without_outlier.max()\n",
    "middle_six.iloc[st_depression_outlier_index_min, columns.index(\"st_depression\")] = st_depression_without_outlier.max()"
   ]
  },
  {
   "cell_type": "markdown",
   "metadata": {},
   "source": [
    "## 重新 reset index"
   ]
  },
  {
   "cell_type": "code",
   "execution_count": 64,
   "metadata": {},
   "outputs": [
    {
     "data": {
      "text/html": [
       "<div>\n",
       "<style scoped>\n",
       "    .dataframe tbody tr th:only-of-type {\n",
       "        vertical-align: middle;\n",
       "    }\n",
       "\n",
       "    .dataframe tbody tr th {\n",
       "        vertical-align: top;\n",
       "    }\n",
       "\n",
       "    .dataframe thead th {\n",
       "        text-align: right;\n",
       "    }\n",
       "</style>\n",
       "<table border=\"1\" class=\"dataframe\">\n",
       "  <thead>\n",
       "    <tr style=\"text-align: right;\">\n",
       "      <th></th>\n",
       "      <th>cholestoral</th>\n",
       "      <th>high_sugar</th>\n",
       "      <th>ecg</th>\n",
       "      <th>max_rate</th>\n",
       "      <th>exercise_angina</th>\n",
       "      <th>st_depression</th>\n",
       "      <th>heart_disease</th>\n",
       "      <th>cholestoral_label</th>\n",
       "      <th>max_rate_label</th>\n",
       "      <th>st_depression_label</th>\n",
       "    </tr>\n",
       "  </thead>\n",
       "  <tbody>\n",
       "    <tr>\n",
       "      <th>0</th>\n",
       "      <td>233</td>\n",
       "      <td>1</td>\n",
       "      <td>2</td>\n",
       "      <td>150</td>\n",
       "      <td>0</td>\n",
       "      <td>2.3</td>\n",
       "      <td>0</td>\n",
       "      <td>1</td>\n",
       "      <td>1</td>\n",
       "      <td>2</td>\n",
       "    </tr>\n",
       "    <tr>\n",
       "      <th>1</th>\n",
       "      <td>286</td>\n",
       "      <td>0</td>\n",
       "      <td>2</td>\n",
       "      <td>185</td>\n",
       "      <td>1</td>\n",
       "      <td>1.5</td>\n",
       "      <td>1</td>\n",
       "      <td>1</td>\n",
       "      <td>0</td>\n",
       "      <td>1</td>\n",
       "    </tr>\n",
       "    <tr>\n",
       "      <th>2</th>\n",
       "      <td>229</td>\n",
       "      <td>0</td>\n",
       "      <td>2</td>\n",
       "      <td>129</td>\n",
       "      <td>1</td>\n",
       "      <td>0.0</td>\n",
       "      <td>1</td>\n",
       "      <td>1</td>\n",
       "      <td>1</td>\n",
       "      <td>2</td>\n",
       "    </tr>\n",
       "    <tr>\n",
       "      <th>3</th>\n",
       "      <td>204</td>\n",
       "      <td>0</td>\n",
       "      <td>2</td>\n",
       "      <td>172</td>\n",
       "      <td>0</td>\n",
       "      <td>1.4</td>\n",
       "      <td>0</td>\n",
       "      <td>0</td>\n",
       "      <td>2</td>\n",
       "      <td>1</td>\n",
       "    </tr>\n",
       "    <tr>\n",
       "      <th>4</th>\n",
       "      <td>236</td>\n",
       "      <td>0</td>\n",
       "      <td>0</td>\n",
       "      <td>178</td>\n",
       "      <td>0</td>\n",
       "      <td>0.8</td>\n",
       "      <td>0</td>\n",
       "      <td>1</td>\n",
       "      <td>3</td>\n",
       "      <td>1</td>\n",
       "    </tr>\n",
       "    <tr>\n",
       "      <th>...</th>\n",
       "      <td>...</td>\n",
       "      <td>...</td>\n",
       "      <td>...</td>\n",
       "      <td>...</td>\n",
       "      <td>...</td>\n",
       "      <td>...</td>\n",
       "      <td>...</td>\n",
       "      <td>...</td>\n",
       "      <td>...</td>\n",
       "      <td>...</td>\n",
       "    </tr>\n",
       "    <tr>\n",
       "      <th>223</th>\n",
       "      <td>308</td>\n",
       "      <td>0</td>\n",
       "      <td>0</td>\n",
       "      <td>182</td>\n",
       "      <td>0</td>\n",
       "      <td>0.0</td>\n",
       "      <td>0</td>\n",
       "      <td>0</td>\n",
       "      <td>3</td>\n",
       "      <td>0</td>\n",
       "    </tr>\n",
       "    <tr>\n",
       "      <th>224</th>\n",
       "      <td>308</td>\n",
       "      <td>1</td>\n",
       "      <td>2</td>\n",
       "      <td>185</td>\n",
       "      <td>0</td>\n",
       "      <td>1.0</td>\n",
       "      <td>1</td>\n",
       "      <td>0</td>\n",
       "      <td>0</td>\n",
       "      <td>1</td>\n",
       "    </tr>\n",
       "    <tr>\n",
       "      <th>225</th>\n",
       "      <td>241</td>\n",
       "      <td>0</td>\n",
       "      <td>0</td>\n",
       "      <td>123</td>\n",
       "      <td>1</td>\n",
       "      <td>0.2</td>\n",
       "      <td>1</td>\n",
       "      <td>1</td>\n",
       "      <td>1</td>\n",
       "      <td>1</td>\n",
       "    </tr>\n",
       "    <tr>\n",
       "      <th>226</th>\n",
       "      <td>308</td>\n",
       "      <td>0</td>\n",
       "      <td>0</td>\n",
       "      <td>115</td>\n",
       "      <td>1</td>\n",
       "      <td>1.2</td>\n",
       "      <td>1</td>\n",
       "      <td>0</td>\n",
       "      <td>0</td>\n",
       "      <td>1</td>\n",
       "    </tr>\n",
       "    <tr>\n",
       "      <th>227</th>\n",
       "      <td>308</td>\n",
       "      <td>0</td>\n",
       "      <td>0</td>\n",
       "      <td>173</td>\n",
       "      <td>0</td>\n",
       "      <td>0.0</td>\n",
       "      <td>0</td>\n",
       "      <td>0</td>\n",
       "      <td>2</td>\n",
       "      <td>0</td>\n",
       "    </tr>\n",
       "  </tbody>\n",
       "</table>\n",
       "<p>228 rows × 10 columns</p>\n",
       "</div>"
      ],
      "text/plain": [
       "     cholestoral  high_sugar  ecg  max_rate  exercise_angina  st_depression  \\\n",
       "0            233           1    2       150                0            2.3   \n",
       "1            286           0    2       185                1            1.5   \n",
       "2            229           0    2       129                1            0.0   \n",
       "3            204           0    2       172                0            1.4   \n",
       "4            236           0    0       178                0            0.8   \n",
       "..           ...         ...  ...       ...              ...            ...   \n",
       "223          308           0    0       182                0            0.0   \n",
       "224          308           1    2       185                0            1.0   \n",
       "225          241           0    0       123                1            0.2   \n",
       "226          308           0    0       115                1            1.2   \n",
       "227          308           0    0       173                0            0.0   \n",
       "\n",
       "     heart_disease cholestoral_label max_rate_label st_depression_label  \n",
       "0                0                 1              1                   2  \n",
       "1                1                 1              0                   1  \n",
       "2                1                 1              1                   2  \n",
       "3                0                 0              2                   1  \n",
       "4                0                 1              3                   1  \n",
       "..             ...               ...            ...                 ...  \n",
       "223              0                 0              3                   0  \n",
       "224              1                 0              0                   1  \n",
       "225              1                 1              1                   1  \n",
       "226              1                 0              0                   1  \n",
       "227              0                 0              2                   0  \n",
       "\n",
       "[228 rows x 10 columns]"
      ]
     },
     "execution_count": 64,
     "metadata": {},
     "output_type": "execute_result"
    }
   ],
   "source": [
    "middle_six = middle_six.drop(intersect_index)\n",
    "middle_six_reset_index = middle_six.reset_index().index\n",
    "middle_six.index = middle_six_reset_index\n",
    "middle_six"
   ]
  },
  {
   "cell_type": "markdown",
   "metadata": {},
   "source": [
    "## 置換個欄位位置，並存成 csv 檔案\n",
    "## 同時轉換資料型態"
   ]
  },
  {
   "cell_type": "code",
   "execution_count": 65,
   "metadata": {},
   "outputs": [],
   "source": [
    "# move column\n",
    "moved_index = [1,5,8]\n",
    "cholestoral_label = middle_six[\"cholestoral_label\"]\n",
    "max_rate_label = middle_six[\"max_rate_label\"]\n",
    "st_depression_label = middle_six[\"st_depression_label\"]\n",
    "\n",
    "middle_six.drop(labels=[\"cholestoral_label\", \"max_rate_label\", \"st_depression_label\"], axis=1, inplace = True)\n",
    "middle_six.insert(moved_index[0], 'cholestoral_label', cholestoral_label)\n",
    "middle_six.insert(moved_index[1], 'max_rate_label', max_rate_label)\n",
    "middle_six.insert(moved_index[2], 'st_depression_label', st_depression_label)\n",
    "\n",
    "# save train csv\n",
    "middle_six.to_csv(\"data/second_part_processed_data_train.csv\")"
   ]
  },
  {
   "cell_type": "code",
   "execution_count": 66,
   "metadata": {},
   "outputs": [],
   "source": [
    "# new columns\n",
    "new_columns = [\"cholestoral_label\", \"high_sugar\", \"ecg\", \"max_rate_label\", \"exercise_angina\", \"st_depression_label\", \"heart_disease\"]\n",
    "new_data = middle_six[new_columns].copy()\n",
    "\n",
    "new_data[\"cholestoral_label\"] = new_data[\"cholestoral_label\"].astype(int)\n",
    "new_data[\"max_rate_label\"] = new_data[\"max_rate_label\"].astype(int)\n",
    "new_data[\"st_depression_label\"] = new_data[\"st_depression_label\"].astype(int)"
   ]
  },
  {
   "cell_type": "markdown",
   "metadata": {},
   "source": [
    "## 印出 correlation 係數，並利用 heatmap 來展現出來"
   ]
  },
  {
   "cell_type": "code",
   "execution_count": 67,
   "metadata": {},
   "outputs": [
    {
     "data": {
      "text/html": [
       "<div>\n",
       "<style scoped>\n",
       "    .dataframe tbody tr th:only-of-type {\n",
       "        vertical-align: middle;\n",
       "    }\n",
       "\n",
       "    .dataframe tbody tr th {\n",
       "        vertical-align: top;\n",
       "    }\n",
       "\n",
       "    .dataframe thead th {\n",
       "        text-align: right;\n",
       "    }\n",
       "</style>\n",
       "<table border=\"1\" class=\"dataframe\">\n",
       "  <thead>\n",
       "    <tr style=\"text-align: right;\">\n",
       "      <th></th>\n",
       "      <th>cholestoral_label</th>\n",
       "      <th>high_sugar</th>\n",
       "      <th>ecg</th>\n",
       "      <th>max_rate_label</th>\n",
       "      <th>exercise_angina</th>\n",
       "      <th>st_depression_label</th>\n",
       "      <th>heart_disease</th>\n",
       "    </tr>\n",
       "  </thead>\n",
       "  <tbody>\n",
       "    <tr>\n",
       "      <th>cholestoral_label</th>\n",
       "      <td>1.000000</td>\n",
       "      <td>-0.022718</td>\n",
       "      <td>0.030216</td>\n",
       "      <td>0.026746</td>\n",
       "      <td>0.119958</td>\n",
       "      <td>0.069973</td>\n",
       "      <td>0.138750</td>\n",
       "    </tr>\n",
       "    <tr>\n",
       "      <th>high_sugar</th>\n",
       "      <td>-0.022718</td>\n",
       "      <td>1.000000</td>\n",
       "      <td>0.014756</td>\n",
       "      <td>-0.025268</td>\n",
       "      <td>-0.010409</td>\n",
       "      <td>0.005908</td>\n",
       "      <td>-0.003993</td>\n",
       "    </tr>\n",
       "    <tr>\n",
       "      <th>ecg</th>\n",
       "      <td>0.030216</td>\n",
       "      <td>0.014756</td>\n",
       "      <td>1.000000</td>\n",
       "      <td>-0.037121</td>\n",
       "      <td>0.057222</td>\n",
       "      <td>0.037281</td>\n",
       "      <td>0.160975</td>\n",
       "    </tr>\n",
       "    <tr>\n",
       "      <th>max_rate_label</th>\n",
       "      <td>0.026746</td>\n",
       "      <td>-0.025268</td>\n",
       "      <td>-0.037121</td>\n",
       "      <td>1.000000</td>\n",
       "      <td>-0.337317</td>\n",
       "      <td>-0.405364</td>\n",
       "      <td>-0.385986</td>\n",
       "    </tr>\n",
       "    <tr>\n",
       "      <th>exercise_angina</th>\n",
       "      <td>0.119958</td>\n",
       "      <td>-0.010409</td>\n",
       "      <td>0.057222</td>\n",
       "      <td>-0.337317</td>\n",
       "      <td>1.000000</td>\n",
       "      <td>0.263367</td>\n",
       "      <td>0.392994</td>\n",
       "    </tr>\n",
       "    <tr>\n",
       "      <th>st_depression_label</th>\n",
       "      <td>0.069973</td>\n",
       "      <td>0.005908</td>\n",
       "      <td>0.037281</td>\n",
       "      <td>-0.405364</td>\n",
       "      <td>0.263367</td>\n",
       "      <td>1.000000</td>\n",
       "      <td>0.384385</td>\n",
       "    </tr>\n",
       "    <tr>\n",
       "      <th>heart_disease</th>\n",
       "      <td>0.138750</td>\n",
       "      <td>-0.003993</td>\n",
       "      <td>0.160975</td>\n",
       "      <td>-0.385986</td>\n",
       "      <td>0.392994</td>\n",
       "      <td>0.384385</td>\n",
       "      <td>1.000000</td>\n",
       "    </tr>\n",
       "  </tbody>\n",
       "</table>\n",
       "</div>"
      ],
      "text/plain": [
       "                     cholestoral_label  high_sugar       ecg  max_rate_label  \\\n",
       "cholestoral_label             1.000000   -0.022718  0.030216        0.026746   \n",
       "high_sugar                   -0.022718    1.000000  0.014756       -0.025268   \n",
       "ecg                           0.030216    0.014756  1.000000       -0.037121   \n",
       "max_rate_label                0.026746   -0.025268 -0.037121        1.000000   \n",
       "exercise_angina               0.119958   -0.010409  0.057222       -0.337317   \n",
       "st_depression_label           0.069973    0.005908  0.037281       -0.405364   \n",
       "heart_disease                 0.138750   -0.003993  0.160975       -0.385986   \n",
       "\n",
       "                     exercise_angina  st_depression_label  heart_disease  \n",
       "cholestoral_label           0.119958             0.069973       0.138750  \n",
       "high_sugar                 -0.010409             0.005908      -0.003993  \n",
       "ecg                         0.057222             0.037281       0.160975  \n",
       "max_rate_label             -0.337317            -0.405364      -0.385986  \n",
       "exercise_angina             1.000000             0.263367       0.392994  \n",
       "st_depression_label         0.263367             1.000000       0.384385  \n",
       "heart_disease               0.392994             0.384385       1.000000  "
      ]
     },
     "execution_count": 67,
     "metadata": {},
     "output_type": "execute_result"
    }
   ],
   "source": [
    "new_data.corr()"
   ]
  },
  {
   "cell_type": "code",
   "execution_count": 68,
   "metadata": {},
   "outputs": [
    {
     "data": {
      "text/plain": [
       "<matplotlib.axes._subplots.AxesSubplot at 0x11d166ef0>"
      ]
     },
     "execution_count": 68,
     "metadata": {},
     "output_type": "execute_result"
    },
    {
     "data": {
      "image/png": "[encoded data removed]",
      "text/plain": [
       "<Figure size 432x288 with 2 Axes>"
      ]
     },
     "metadata": {
      "needs_background": "light"
     },
     "output_type": "display_data"
    }
   ],
   "source": [
    "new_data_corr = new_data.corr()\n",
    "sns.heatmap(new_data_corr, xticklabels=new_data_corr.columns, yticklabels=new_data_corr.columns, cmap=sns.diverging_palette(220, 10, as_cmap=True), annot=True)"
   ]
  },
  {
   "cell_type": "code",
   "execution_count": null,
   "metadata": {},
   "outputs": [],
   "source": []
  }
 ],
 "metadata": {
  "kernelspec": {
   "display_name": "Python 3",
   "language": "python",
   "name": "python3"
  },
  "language_info": {
   "codemirror_mode": {
    "name": "ipython",
    "version": 3
   },
   "file_extension": ".py",
   "mimetype": "text/x-python",
   "name": "python",
   "nbconvert_exporter": "python",
   "pygments_lexer": "ipython3",
   "version": "3.6.4"
  }
 },
 "nbformat": 4,
 "nbformat_minor": 2
}
